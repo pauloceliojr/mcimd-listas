{
 "cells": [
  {
   "cell_type": "markdown",
   "metadata": {
    "id": "Ie-5wE__VSHZ"
   },
   "source": [
    "***\n",
    "# <font color=green size=10>Lista 1: geração de números pseudo-aleatórios</font>\n",
    "***"
   ]
  },
  {
   "cell_type": "code",
   "execution_count": 1,
   "outputs": [],
   "source": [
    "# !pip install pandas\n",
    "# !pip install numpy\n",
    "# !pip install seaborn\n",
    "# !pip install DeepSaki"
   ],
   "metadata": {
    "collapsed": false
   }
  },
  {
   "cell_type": "markdown",
   "source": [
    "▶ Importando bibliotecas"
   ],
   "metadata": {
    "id": "mzp5TnyLWHmj"
   }
  },
  {
   "cell_type": "code",
   "execution_count": 2,
   "outputs": [
    {
     "name": "stdout",
     "output_type": "stream",
     "text": [
      "Running on single GPU  /device:GPU:0\n",
      "Number of accelerators:  1\n",
      "____________________________________________________________________________________\n",
      "Device List: \n",
      "[name: \"/device:CPU:0\"\n",
      "device_type: \"CPU\"\n",
      "memory_limit: 268435456\n",
      "locality {\n",
      "}\n",
      "incarnation: 10742012146249262507\n",
      "xla_global_id: -1\n",
      ", name: \"/device:GPU:0\"\n",
      "device_type: \"GPU\"\n",
      "memory_limit: 10047455232\n",
      "locality {\n",
      "  bus_id: 1\n",
      "  links {\n",
      "  }\n",
      "}\n",
      "incarnation: 509162452294179845\n",
      "physical_device_desc: \"device: 0, name: NVIDIA GeForce GTX 1080 Ti, pci bus id: 0000:01:00.0, compute capability: 6.1\"\n",
      "xla_global_id: 416903419\n",
      "]\n",
      "<tensorflow.python.distribute.distribute_lib._DefaultDistributionStrategy object at 0x7efb5b442ca0>\n"
     ]
    }
   ],
   "source": [
    "import DeepSaki\n",
    "strategy, RUNTIME_ENVIRONMENT, hw_accelerator_handle = DeepSaki.utils.DetectHw()\n",
    "print(strategy)"
   ],
   "metadata": {
    "collapsed": false
   }
  },
  {
   "cell_type": "code",
   "execution_count": 3,
   "metadata": {
    "id": "DAQf8dcKVSHe"
   },
   "outputs": [],
   "source": [
    "import pandas as pd\n",
    "import numpy as np\n",
    "import seaborn as sns\n",
    "import string"
   ]
  },
  {
   "cell_type": "markdown",
   "source": [
    "### Questão 1 - Simulando computacionalmente o gerador de Babel\n"
   ],
   "metadata": {
    "collapsed": false
   }
  },
  {
   "cell_type": "markdown",
   "source": [
    "▶ Importando e tratando o dicionário"
   ],
   "metadata": {
    "id": "3XpTq6cpWV0d"
   }
  },
  {
   "cell_type": "code",
   "source": [
    "dicionario = pd.read_csv(\"Dicionario.txt\", names=[\"vocabulo\"])\n",
    "dicionario.vocabulo = dicionario.vocabulo.str.strip()\n",
    "dicionario.vocabulo = dicionario.vocabulo.str.lower()\n",
    "dicionario.drop_duplicates(inplace=True, ignore_index=True)\n",
    "dicionario[\"tamanho\"] = dicionario.vocabulo.str.len()"
   ],
   "metadata": {
    "colab": {
     "base_uri": "https://localhost:8080/",
     "height": 206
    },
    "id": "ywTLbFq1WdLK",
    "outputId": "77b886cc-2907-4564-d01b-5645f698f11f"
   },
   "execution_count": 4,
   "outputs": []
  },
  {
   "cell_type": "markdown",
   "source": [
    "▶ Definindo parâmetros globais"
   ],
   "metadata": {
    "collapsed": false
   }
  },
  {
   "cell_type": "code",
   "execution_count": 5,
   "outputs": [],
   "source": [
    "# cria um dataset do alfabeto contendo a letra, se é vogal e a frequência da letra na língua portuguesa\n",
    "alfabeto = pd.DataFrame(list(zip(list(string.ascii_lowercase),\n",
    "                                 [1 if l in \"aeiou\" else 0 for l in list(string.ascii_lowercase)],\n",
    "                                 [0.1463, 0.0104, 0.0388, 0.0499, 0.1257, 0.0102, 0.013, 0.0128,\n",
    "                                  0.0618, 0.004, 0.0002, 0.0278, 0.0474, 0.0505, 0.1073, 0.0252,\n",
    "                                  0.012, 0.0653, 0.0781, 0.0434, 0.0463, 0.0166,0.0001, 0.0021,\n",
    "                                  0.0001, 0.0047])),\n",
    "                        columns=[\"letra\", \"vogal\", \"frequencia\"])\n",
    "num_min_iteracoes = 10000\n",
    "num_max_iteracoes = 2000000\n",
    "step = 10000\n",
    "# num_min_iteracoes = 100000\n",
    "# num_max_iteracoes = 200000\n",
    "# step = 100000\n",
    "num_palavras_possiveis = (alfabeto.shape[0] ** 5)  # amostras ordenadas com reposição - (26^5)"
   ],
   "metadata": {
    "collapsed": false
   }
  },
  {
   "cell_type": "markdown",
   "source": [
    "▶ Definindo funções auxiliares"
   ],
   "metadata": {
    "collapsed": false
   }
  },
  {
   "cell_type": "code",
   "execution_count": 6,
   "outputs": [],
   "source": [
    "def gerar_seq_caracteres_aleatoria(tamanho_seq_carateres=5, vogais_consoantes_alternadas=False, p_uniforme=True):\n",
    "    letras = alfabeto.letra.to_list()\n",
    "\n",
    "    if vogais_consoantes_alternadas:\n",
    "        # gera sequência de caracteres, alternando-se vogais e consoantes aleatórias\n",
    "\n",
    "        # inicia variáveis\n",
    "        vogais = alfabeto.query(\"vogal == 1\").letra.to_list()\n",
    "        consoantes = alfabeto.query(\"vogal == 0\").letra.to_list()\n",
    "        letra_corrente_vogal = False\n",
    "\n",
    "        # gera a primeira letra da sequência de caracteres e registra se é uma vogal\n",
    "        sequencia_caracteres = np.random.choice(letras)\n",
    "        cont = 1\n",
    "        if sequencia_caracteres in vogais:\n",
    "            letra_corrente_vogal = True\n",
    "\n",
    "        # gera as demais letras da sequência até atingir o tamanho estabelecido no parâmetro\n",
    "        while cont < tamanho_seq_carateres:\n",
    "            if letra_corrente_vogal:\n",
    "                sequencia_caracteres += np.random.choice(consoantes)\n",
    "                letra_corrente_vogal = False\n",
    "            else:\n",
    "                sequencia_caracteres += np.random.choice(vogais)\n",
    "                letra_corrente_vogal = True\n",
    "            cont += 1\n",
    "    else:\n",
    "        # gera sequência de carateres com 5 letras aleatoriamente\n",
    "        p = None\n",
    "        if not p_uniforme:\n",
    "            # o parâmetro indica se deve ou não ser usada probabilidade de distribuição uniforme\n",
    "            # caso não seja uniforme, distribui ajusta a probabilidade de acordo com a frequência do aparecimento\n",
    "            # de cada uma das letras do alfabeto na língua portuguesa\n",
    "            p = alfabeto.frequencia.to_list()\n",
    "\n",
    "        while True:\n",
    "            sequencia_caracteres = ''.join(np.random.choice(letras, size=tamanho_seq_carateres, replace=True, p=p))\n",
    "            if (not p_uniforme and \"a\" in sequencia_caracteres) or p_uniforme:\n",
    "                break\n",
    "\n",
    "    return sequencia_caracteres"
   ],
   "metadata": {
    "collapsed": false
   }
  },
  {
   "cell_type": "code",
   "execution_count": 7,
   "outputs": [],
   "source": [
    "def simulacao_monte_carlo_palavras(dicionario, num_instancias, vogais_consoantes_alternadas, p_uniforme=True):\n",
    "    palavras = []\n",
    "    dicionario_lista = dicionario.vocabulo.to_list()\n",
    "    # np.random.seed(42)\n",
    "    for _ in range(num_instancias):\n",
    "        sequencia_caracteres = gerar_seq_caracteres_aleatoria(vogais_consoantes_alternadas=vogais_consoantes_alternadas,\n",
    "                                                              p_uniforme=p_uniforme)\n",
    "        if sequencia_caracteres in dicionario_lista:\n",
    "            palavras.append(sequencia_caracteres)\n",
    "\n",
    "    return palavras"
   ],
   "metadata": {
    "collapsed": false
   }
  },
  {
   "cell_type": "code",
   "source": [
    "def executar_simulacoes(dicionario, vogais_consoantes_alternadas=False, p_uniforme=True):\n",
    "    probabilidades = pd.DataFrame()\n",
    "\n",
    "    for num_instancias_simulacao in range(num_min_iteracoes, num_max_iteracoes + 1, step):\n",
    "        palavras_validas_geradas = simulacao_monte_carlo_palavras(dicionario=dicionario,\n",
    "                                                                  num_instancias=num_instancias_simulacao,\n",
    "                                                                  vogais_consoantes_alternadas=vogais_consoantes_alternadas,\n",
    "                                                                  p_uniforme=p_uniforme)\n",
    "        num_palavras_validas_geradas = len(palavras_validas_geradas)\n",
    "        # número de palavras geradas aleatoriamente válidas / número de palavras geradas\n",
    "        probabilidade_simulacao = num_palavras_validas_geradas / num_instancias_simulacao\n",
    "        probabilidades = pd.concat([probabilidades,\n",
    "                                    pd.DataFrame({\"num_instancias\": [num_instancias_simulacao],\n",
    "                                                  \"num_palavras_validas_geradas\": [num_palavras_validas_geradas],\n",
    "                                                  \"probabilidade\": [probabilidade_simulacao],\n",
    "                                                  \"palavras_validas_geradas\": [palavras_validas_geradas]})],\n",
    "                                   axis=0, ignore_index=True)\n",
    "\n",
    "    return probabilidades"
   ],
   "metadata": {
    "colab": {
     "base_uri": "https://localhost:8080/"
    },
    "id": "lh9mmiYRwnxd",
    "outputId": "54ad6a59-1a20-4456-aff3-9dbea6cd3776"
   },
   "execution_count": 8,
   "outputs": []
  },
  {
   "cell_type": "code",
   "execution_count": 9,
   "outputs": [],
   "source": [
    "def plotar_grafico(probabilidades_estimadas):\n",
    "    ax = sns.scatterplot(data=probabilidades_estimadas, x=\"num_instancias\", y=\"probabilidade\")\n",
    "    ax.figure.set_size_inches(14, 6)\n",
    "    ax.hlines(y=probabilidades_estimadas.probabilidade.mean(), xmin=0, xmax=probabilidades_estimadas.num_instancias.max(), colors='red', linestyles='dashed')"
   ],
   "metadata": {
    "collapsed": false
   }
  },
  {
   "cell_type": "markdown",
   "source": [
    "**a)** Estime via simulação computacional (Monte Carlo) a probabilidade de se gerar uma palavra válida\n",
    " (isso é, do dicionário) ao sortear ao acaso sequências de 5 letras (todas com a mesma probabilidade). Em\n",
    "seguida, calcule analiticamente tal probabilidade e faça um gráfico indicando se a estimativa obtida se\n",
    "aproxima do valor teórico conforme a amostra aumenta. **Atenção**: utilize somente as letras do alfabeto\n",
    "sem carateres especiais.\n"
   ],
   "metadata": {
    "collapsed": false
   }
  },
  {
   "cell_type": "markdown",
   "source": [
    "▶ Derivando o dicionário apenas com palavras de 5 letras"
   ],
   "metadata": {
    "collapsed": false
   }
  },
  {
   "cell_type": "code",
   "execution_count": 10,
   "outputs": [
    {
     "data": {
      "text/plain": "   vocabulo  tamanho\n1     aarao        5\n11    abaco        5\n13    abade        5\n19    abafa        5\n69    abafe        5",
      "text/html": "<div>\n<style scoped>\n    .dataframe tbody tr th:only-of-type {\n        vertical-align: middle;\n    }\n\n    .dataframe tbody tr th {\n        vertical-align: top;\n    }\n\n    .dataframe thead th {\n        text-align: right;\n    }\n</style>\n<table border=\"1\" class=\"dataframe\">\n  <thead>\n    <tr style=\"text-align: right;\">\n      <th></th>\n      <th>vocabulo</th>\n      <th>tamanho</th>\n    </tr>\n  </thead>\n  <tbody>\n    <tr>\n      <th>1</th>\n      <td>aarao</td>\n      <td>5</td>\n    </tr>\n    <tr>\n      <th>11</th>\n      <td>abaco</td>\n      <td>5</td>\n    </tr>\n    <tr>\n      <th>13</th>\n      <td>abade</td>\n      <td>5</td>\n    </tr>\n    <tr>\n      <th>19</th>\n      <td>abafa</td>\n      <td>5</td>\n    </tr>\n    <tr>\n      <th>69</th>\n      <td>abafe</td>\n      <td>5</td>\n    </tr>\n  </tbody>\n</table>\n</div>"
     },
     "execution_count": 10,
     "metadata": {},
     "output_type": "execute_result"
    }
   ],
   "source": [
    "dicionario_5_letras = dicionario.query(\"tamanho == 5\")\n",
    "dicionario_5_letras.head()"
   ],
   "metadata": {
    "collapsed": false
   }
  },
  {
   "cell_type": "markdown",
   "source": [
    "▶ Obtendo as probabilidades e plotando o gráfico"
   ],
   "metadata": {
    "collapsed": false
   }
  },
  {
   "cell_type": "code",
   "execution_count": 11,
   "outputs": [
    {
     "data": {
      "text/plain": "     num_instancias  num_palavras_validas_geradas  probabilidade  \\\n0             10000                             7       0.000700   \n1             20000                             9       0.000450   \n2             30000                            13       0.000433   \n3             40000                            16       0.000400   \n4             50000                            21       0.000420   \n..              ...                           ...            ...   \n195         1960000                           917       0.000468   \n196         1970000                           870       0.000442   \n197         1980000                           905       0.000457   \n198         1990000                           879       0.000442   \n199         2000000                          1006       0.000503   \n\n                              palavras_validas_geradas  \n0    ['ronda', 'leigo', 'abati', 'iscas', 'cuspi', ...  \n1    ['dures', 'afane', 'vossa', 'juiza', 'adule', ...  \n2    ['corai', 'aarao', 'vazem', 'cofre', 'vosso', ...  \n3    ['fitar', 'rugas', 'rejam', 'povoa', 'ligar', ...  \n4    ['maior', 'usado', 'frijo', 'atemo', 'temam', ...  \n..                                                 ...  \n195  ['cessa', 'sutil', 'gerir', 'gemeo', 'solem', ...  \n196  ['lenta', 'gomas', 'luzes', 'ruias', 'acaso', ...  \n197  ['fisga', 'nessa', 'filia', 'jegue', 'envia', ...  \n198  ['longe', 'peite', 'situe', 'aorta', 'manco', ...  \n199  ['coces', 'atrio', 'panca', 'cinda', 'cruas', ...  \n\n[200 rows x 4 columns]",
      "text/html": "<div>\n<style scoped>\n    .dataframe tbody tr th:only-of-type {\n        vertical-align: middle;\n    }\n\n    .dataframe tbody tr th {\n        vertical-align: top;\n    }\n\n    .dataframe thead th {\n        text-align: right;\n    }\n</style>\n<table border=\"1\" class=\"dataframe\">\n  <thead>\n    <tr style=\"text-align: right;\">\n      <th></th>\n      <th>num_instancias</th>\n      <th>num_palavras_validas_geradas</th>\n      <th>probabilidade</th>\n      <th>palavras_validas_geradas</th>\n    </tr>\n  </thead>\n  <tbody>\n    <tr>\n      <th>0</th>\n      <td>10000</td>\n      <td>7</td>\n      <td>0.000700</td>\n      <td>['ronda', 'leigo', 'abati', 'iscas', 'cuspi', ...</td>\n    </tr>\n    <tr>\n      <th>1</th>\n      <td>20000</td>\n      <td>9</td>\n      <td>0.000450</td>\n      <td>['dures', 'afane', 'vossa', 'juiza', 'adule', ...</td>\n    </tr>\n    <tr>\n      <th>2</th>\n      <td>30000</td>\n      <td>13</td>\n      <td>0.000433</td>\n      <td>['corai', 'aarao', 'vazem', 'cofre', 'vosso', ...</td>\n    </tr>\n    <tr>\n      <th>3</th>\n      <td>40000</td>\n      <td>16</td>\n      <td>0.000400</td>\n      <td>['fitar', 'rugas', 'rejam', 'povoa', 'ligar', ...</td>\n    </tr>\n    <tr>\n      <th>4</th>\n      <td>50000</td>\n      <td>21</td>\n      <td>0.000420</td>\n      <td>['maior', 'usado', 'frijo', 'atemo', 'temam', ...</td>\n    </tr>\n    <tr>\n      <th>...</th>\n      <td>...</td>\n      <td>...</td>\n      <td>...</td>\n      <td>...</td>\n    </tr>\n    <tr>\n      <th>195</th>\n      <td>1960000</td>\n      <td>917</td>\n      <td>0.000468</td>\n      <td>['cessa', 'sutil', 'gerir', 'gemeo', 'solem', ...</td>\n    </tr>\n    <tr>\n      <th>196</th>\n      <td>1970000</td>\n      <td>870</td>\n      <td>0.000442</td>\n      <td>['lenta', 'gomas', 'luzes', 'ruias', 'acaso', ...</td>\n    </tr>\n    <tr>\n      <th>197</th>\n      <td>1980000</td>\n      <td>905</td>\n      <td>0.000457</td>\n      <td>['fisga', 'nessa', 'filia', 'jegue', 'envia', ...</td>\n    </tr>\n    <tr>\n      <th>198</th>\n      <td>1990000</td>\n      <td>879</td>\n      <td>0.000442</td>\n      <td>['longe', 'peite', 'situe', 'aorta', 'manco', ...</td>\n    </tr>\n    <tr>\n      <th>199</th>\n      <td>2000000</td>\n      <td>1006</td>\n      <td>0.000503</td>\n      <td>['coces', 'atrio', 'panca', 'cinda', 'cruas', ...</td>\n    </tr>\n  </tbody>\n</table>\n<p>200 rows × 4 columns</p>\n</div>"
     },
     "execution_count": 11,
     "metadata": {},
     "output_type": "execute_result"
    }
   ],
   "source": [
    "try:\n",
    "    probabilidades_estimadas_5_letras = pd.read_csv(\"probabilidades_estimadas_5_letras.csv\")\n",
    "except FileNotFoundError:\n",
    "    probabilidades_estimadas_5_letras = executar_simulacoes(dicionario_5_letras)\n",
    "    probabilidades_estimadas_5_letras.to_csv(\"probabilidades_estimadas_5_letras.csv\", index=False)\n",
    "\n",
    "probabilidades_estimadas_5_letras"
   ],
   "metadata": {
    "collapsed": false
   }
  },
  {
   "cell_type": "code",
   "execution_count": 12,
   "outputs": [
    {
     "name": "stdout",
     "output_type": "stream",
     "text": [
      "Probabilidade média estimada das simulações: 0.04574322%\n",
      "Probabilidade teórica de uma palavra válida de 5 letras: 0.04567653%\n"
     ]
    }
   ],
   "source": [
    "print(f\"Probabilidade média estimada das simulações: {probabilidades_estimadas_5_letras.probabilidade.mean() * 100:0.8f}%\")\n",
    "\n",
    "num_palavras_dicionario_5_letras = dicionario_5_letras.shape[0]\n",
    "probabilidade_teorica_5_letras = num_palavras_dicionario_5_letras / num_palavras_possiveis\n",
    "print(f\"Probabilidade teórica de uma palavra válida de 5 letras: {probabilidade_teorica_5_letras * 100:0.8f}%\")"
   ],
   "metadata": {
    "collapsed": false
   }
  },
  {
   "cell_type": "code",
   "execution_count": 13,
   "outputs": [],
   "source": [
    "plotar_grafico(probabilidades_estimadas_5_letras)"
   ],
   "metadata": {
    "collapsed": false
   }
  },
  {
   "cell_type": "markdown",
   "metadata": {
    "id": "uUVB5dGXVSHh"
   },
   "source": [
    "**b)** Estime a probabilidade da sequência gerada ser um palíndromo (ou seja, pode ser lida, indiferentemente,\n",
    "da esquerda para direita ou da direita para esquerda). Compare o resultado com a probabilidade exata,\n",
    "calculada analiticamente."
   ]
  },
  {
   "cell_type": "markdown",
   "source": [
    "▶ Obtendo o dicionário apenas com os palíndromos de 5 letras"
   ],
   "metadata": {
    "id": "Riut4zRQ2BXQ"
   }
  },
  {
   "cell_type": "code",
   "execution_count": 14,
   "outputs": [
    {
     "data": {
      "text/plain": "      vocabulo  tamanho\n7156     adida        5\n8606     aerea        5\n10082    afofa        5\n17140    amima        5\n24056    arara        5",
      "text/html": "<div>\n<style scoped>\n    .dataframe tbody tr th:only-of-type {\n        vertical-align: middle;\n    }\n\n    .dataframe tbody tr th {\n        vertical-align: top;\n    }\n\n    .dataframe thead th {\n        text-align: right;\n    }\n</style>\n<table border=\"1\" class=\"dataframe\">\n  <thead>\n    <tr style=\"text-align: right;\">\n      <th></th>\n      <th>vocabulo</th>\n      <th>tamanho</th>\n    </tr>\n  </thead>\n  <tbody>\n    <tr>\n      <th>7156</th>\n      <td>adida</td>\n      <td>5</td>\n    </tr>\n    <tr>\n      <th>8606</th>\n      <td>aerea</td>\n      <td>5</td>\n    </tr>\n    <tr>\n      <th>10082</th>\n      <td>afofa</td>\n      <td>5</td>\n    </tr>\n    <tr>\n      <th>17140</th>\n      <td>amima</td>\n      <td>5</td>\n    </tr>\n    <tr>\n      <th>24056</th>\n      <td>arara</td>\n      <td>5</td>\n    </tr>\n  </tbody>\n</table>\n</div>"
     },
     "execution_count": 14,
     "metadata": {},
     "output_type": "execute_result"
    }
   ],
   "source": [
    "dicionario_palindromo = dicionario_5_letras.loc[dicionario_5_letras.vocabulo == dicionario_5_letras.vocabulo.str[::-1]]\n",
    "dicionario_palindromo.head()"
   ],
   "metadata": {
    "collapsed": false
   }
  },
  {
   "cell_type": "code",
   "execution_count": 15,
   "outputs": [
    {
     "data": {
      "text/plain": "     num_instancias  num_palavras_validas_geradas  probabilidade  \\\n0             10000                             0       0.000000   \n1             20000                             0       0.000000   \n2             30000                             0       0.000000   \n3             40000                             0       0.000000   \n4             50000                             0       0.000000   \n..              ...                           ...            ...   \n195         1960000                             3       0.000002   \n196         1970000                             8       0.000004   \n197         1980000                             7       0.000004   \n198         1990000                             9       0.000005   \n199         2000000                             6       0.000003   \n\n                              palavras_validas_geradas  \n0                                                   []  \n1                                                   []  \n2                                                   []  \n3                                                   []  \n4                                                   []  \n..                                                 ...  \n195                        ['sedes', 'solos', 'soros']  \n196  ['rajar', 'reter', 'mexem', 'sagas', 'saras', ...  \n197  ['mexem', 'raiar', 'melem', 'supus', 'solos', ...  \n198  ['socos', 'reter', 'metem', 'reger', 'mamam', ...  \n199  ['adida', 'autua', 'safas', 'reger', 'rever', ...  \n\n[200 rows x 4 columns]",
      "text/html": "<div>\n<style scoped>\n    .dataframe tbody tr th:only-of-type {\n        vertical-align: middle;\n    }\n\n    .dataframe tbody tr th {\n        vertical-align: top;\n    }\n\n    .dataframe thead th {\n        text-align: right;\n    }\n</style>\n<table border=\"1\" class=\"dataframe\">\n  <thead>\n    <tr style=\"text-align: right;\">\n      <th></th>\n      <th>num_instancias</th>\n      <th>num_palavras_validas_geradas</th>\n      <th>probabilidade</th>\n      <th>palavras_validas_geradas</th>\n    </tr>\n  </thead>\n  <tbody>\n    <tr>\n      <th>0</th>\n      <td>10000</td>\n      <td>0</td>\n      <td>0.000000</td>\n      <td>[]</td>\n    </tr>\n    <tr>\n      <th>1</th>\n      <td>20000</td>\n      <td>0</td>\n      <td>0.000000</td>\n      <td>[]</td>\n    </tr>\n    <tr>\n      <th>2</th>\n      <td>30000</td>\n      <td>0</td>\n      <td>0.000000</td>\n      <td>[]</td>\n    </tr>\n    <tr>\n      <th>3</th>\n      <td>40000</td>\n      <td>0</td>\n      <td>0.000000</td>\n      <td>[]</td>\n    </tr>\n    <tr>\n      <th>4</th>\n      <td>50000</td>\n      <td>0</td>\n      <td>0.000000</td>\n      <td>[]</td>\n    </tr>\n    <tr>\n      <th>...</th>\n      <td>...</td>\n      <td>...</td>\n      <td>...</td>\n      <td>...</td>\n    </tr>\n    <tr>\n      <th>195</th>\n      <td>1960000</td>\n      <td>3</td>\n      <td>0.000002</td>\n      <td>['sedes', 'solos', 'soros']</td>\n    </tr>\n    <tr>\n      <th>196</th>\n      <td>1970000</td>\n      <td>8</td>\n      <td>0.000004</td>\n      <td>['rajar', 'reter', 'mexem', 'sagas', 'saras', ...</td>\n    </tr>\n    <tr>\n      <th>197</th>\n      <td>1980000</td>\n      <td>7</td>\n      <td>0.000004</td>\n      <td>['mexem', 'raiar', 'melem', 'supus', 'solos', ...</td>\n    </tr>\n    <tr>\n      <th>198</th>\n      <td>1990000</td>\n      <td>9</td>\n      <td>0.000005</td>\n      <td>['socos', 'reter', 'metem', 'reger', 'mamam', ...</td>\n    </tr>\n    <tr>\n      <th>199</th>\n      <td>2000000</td>\n      <td>6</td>\n      <td>0.000003</td>\n      <td>['adida', 'autua', 'safas', 'reger', 'rever', ...</td>\n    </tr>\n  </tbody>\n</table>\n<p>200 rows × 4 columns</p>\n</div>"
     },
     "execution_count": 15,
     "metadata": {},
     "output_type": "execute_result"
    }
   ],
   "source": [
    "try:\n",
    "    probabilidades_estimadas_palindromo = pd.read_csv(\"probabilidades_estimadas_palindromo.csv\")\n",
    "except FileNotFoundError:\n",
    "    probabilidades_estimadas_palindromo = pd.DataFrame()\n",
    "\n",
    "    for num_instancias, _, _, palavras_validas_geradas in probabilidades_estimadas_5_letras.values:\n",
    "        palindromos = []\n",
    "        palavras_validas_geradas = str(palavras_validas_geradas) # se for do tipo list, transforma na representação str\n",
    "        for palavra in eval(palavras_validas_geradas): # eval tranforma transforma uma representação str de uma lista no tipo list\n",
    "            if palavra == palavra[::-1]:\n",
    "                palindromos.append(palavra)\n",
    "\n",
    "        probabilidade = len(palindromos) / num_instancias\n",
    "        probabilidades_estimadas_palindromo = pd.concat([probabilidades_estimadas_palindromo,\n",
    "                                                         pd.DataFrame([[num_instancias,\n",
    "                                                                        len(palindromos),\n",
    "                                                                        probabilidade,\n",
    "                                                                        palindromos]],\n",
    "                                                         columns=probabilidades_estimadas_5_letras.columns)],\n",
    "                                                        ignore_index=True)\n",
    "        probabilidades_estimadas_palindromo.to_csv(\"probabilidades_estimadas_palindromo.csv\", index=False)\n",
    "\n",
    "probabilidades_estimadas_palindromo"
   ],
   "metadata": {
    "collapsed": false
   }
  },
  {
   "cell_type": "code",
   "execution_count": 16,
   "outputs": [
    {
     "name": "stdout",
     "output_type": "stream",
     "text": [
      "Probabilidade média estimada das simulações: 0.00033112%\n",
      "Probabilidade teórica de um palíndromo de 5 letras: 0.00033666%\n"
     ]
    }
   ],
   "source": [
    "print(f\"Probabilidade média estimada das simulações: {probabilidades_estimadas_palindromo.probabilidade.mean() * 100:0.8f}%\")\n",
    "\n",
    "num_palavras_dicionario_palindromo = dicionario_palindromo.shape[0]\n",
    "probabilidade_teorica_palindromo = num_palavras_dicionario_palindromo / num_palavras_possiveis\n",
    "print(f\"Probabilidade teórica de um palíndromo de 5 letras: {probabilidade_teorica_palindromo * 100:0.8f}%\")"
   ],
   "metadata": {
    "collapsed": false
   }
  },
  {
   "cell_type": "code",
   "execution_count": 17,
   "outputs": [],
   "source": [
    "plotar_grafico(probabilidades_estimadas_palindromo)"
   ],
   "metadata": {
    "collapsed": false
   }
  },
  {
   "cell_type": "markdown",
   "source": [
    "<b>c)</b> Construa um gerador que alterne entre consoantes e vogais (se uma letra for uma vogal, a próxima será\n",
    "uma consoante e vice-versa). Qual a probabilidade de gerar uma palavra válida com este novo gerador?"
   ],
   "metadata": {
    "collapsed": false
   }
  },
  {
   "cell_type": "code",
   "execution_count": 18,
   "metadata": {
    "id": "jFRENBPFVSHi"
   },
   "outputs": [
    {
     "name": "stderr",
     "output_type": "stream",
     "text": [
      "\n",
      "KeyboardInterrupt\n",
      "\n"
     ]
    }
   ],
   "source": [
    "try:\n",
    "    probabilidades_estimadas_vogais_consoantes_alternadas = pd.read_csv(\"probabilidades_estimadas_vogais_consoantes_alternadas.csv\")\n",
    "except FileNotFoundError:\n",
    "    probabilidades_estimadas_vogais_consoantes_alternadas = executar_simulacoes(dicionario_5_letras, vogais_consoantes_alternadas=True)\n",
    "    probabilidades_estimadas_vogais_consoantes_alternadas.to_csv(\"probabilidades_estimadas_vogais_consoantes_alternadas.csv\", index=False)\n",
    "\n",
    "probabilidades_estimadas_vogais_consoantes_alternadas"
   ]
  },
  {
   "cell_type": "code",
   "execution_count": null,
   "outputs": [],
   "source": [
    "print(f\"Probabilidade média estimada das simulações: {probabilidades_estimadas_vogais_consoantes_alternadas.probabilidade.mean() * 100:0.8f}%\")"
   ],
   "metadata": {
    "collapsed": false
   }
  },
  {
   "cell_type": "code",
   "execution_count": null,
   "outputs": [],
   "source": [
    "plotar_grafico(probabilidades_estimadas_vogais_consoantes_alternadas)"
   ],
   "metadata": {
    "collapsed": false
   }
  },
  {
   "cell_type": "markdown",
   "metadata": {
    "id": "l1fM4CNKVSHi"
   },
   "source": []
  },
  {
   "cell_type": "markdown",
   "source": [
    "**d)** Considere um processo gerador de sequências de 5 caracteres no qual cada letra é sorteada com\n",
    "probabilidade proporcional à sua respectiva frequência na língua portuguesa (veja essa [página](https://pt.wikipedia.org/wiki/Frequ%C3%AAncia_de_letras)). Suponha\n",
    "que esse processo gerou uma sequência com ao menos um “a”. Neste caso, estime a probabilidade dessa\n",
    "sequência ser uma palavra válida."
   ],
   "metadata": {
    "collapsed": false
   }
  },
  {
   "cell_type": "code",
   "execution_count": null,
   "outputs": [],
   "source": [
    "try:\n",
    "    probabilidades_estimadas_frequencia_5_letras = pd.read_csv(\"probabilidades_estimadas_frequencia_5_letras.csv\")\n",
    "except FileNotFoundError:\n",
    "    probabilidades_estimadas_frequencia_5_letras = executar_simulacoes(dicionario_5_letras, p_uniforme=False)\n",
    "    probabilidades_estimadas_frequencia_5_letras.to_csv(\"probabilidades_estimadas_frequencia_5_letras.csv\", index=False)\n",
    "\n",
    "probabilidades_estimadas_frequencia_5_letras"
   ],
   "metadata": {
    "collapsed": false
   }
  },
  {
   "cell_type": "code",
   "execution_count": null,
   "outputs": [],
   "source": [
    "print(f\"Probabilidade média estimada das simulações: {probabilidades_estimadas_frequencia_5_letras.probabilidade.mean() * 100:0.8f}%\")"
   ],
   "metadata": {
    "collapsed": false
   }
  },
  {
   "cell_type": "code",
   "execution_count": null,
   "outputs": [],
   "source": [
    "plotar_grafico(probabilidades_estimadas_frequencia_5_letras)"
   ],
   "metadata": {
    "collapsed": false
   }
  }
 ],
 "metadata": {
  "kernelspec": {
   "display_name": "Python 3.10.8 64-bit (microsoft store)",
   "language": "python",
   "name": "python3"
  },
  "language_info": {
   "codemirror_mode": {
    "name": "ipython",
    "version": 3
   },
   "file_extension": ".py",
   "mimetype": "text/x-python",
   "name": "python",
   "nbconvert_exporter": "python",
   "pygments_lexer": "ipython3",
   "version": "3.10.8"
  },
  "orig_nbformat": 4,
  "vscode": {
   "interpreter": {
    "hash": "963513b9a44aa752ac3676707be1140eb28a90c53b01ec9df701fa8763946c55"
   }
  },
  "colab": {
   "provenance": [],
   "collapsed_sections": []
  }
 },
 "nbformat": 4,
 "nbformat_minor": 0
}
