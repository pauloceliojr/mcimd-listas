{
 "cells": [
  {
   "cell_type": "markdown",
   "metadata": {
    "pycharm": {
     "name": "#%% md\n"
    }
   },
   "source": [
    "***\n",
    "# <font color=#ff4013 size=10>Trabalho Final</font>\n",
    "***\n",
    "\n",
    "Universidade de Brasília/PPCA\n",
    "\n",
    "Métodos Computacionais Intensivos para Mineração de Dados\n",
    "\n",
    "Prof. Guilherme Souza Rodrigues\n",
    "\n",
    "José Ronaldo Agra de Souza Filho - 22/0005427\n",
    "Paulo Célio Soares da Silva Júnior - 22/0005605"
   ]
  },
  {
   "cell_type": "markdown",
   "metadata": {
    "pycharm": {
     "name": "#%% md\n"
    }
   },
   "source": [
    "**Importando bibliotecas.**"
   ]
  },
  {
   "cell_type": "code",
   "execution_count": 1,
   "metadata": {
    "id": "egtvsgscrlbf"
   },
   "outputs": [],
   "source": [
    "from scipy.spatial import distance\n",
    "import numpy as np\n",
    "import pandas as pd\n",
    "import seaborn as sns\n",
    "import ciw\n",
    "import time\n",
    "import matplotlib.pyplot as plt"
   ]
  },
  {
   "cell_type": "markdown",
   "metadata": {
    "pycharm": {
     "name": "#%% md\n"
    }
   },
   "source": [
    "**Definindo constantes globais.**"
   ]
  },
  {
   "cell_type": "code",
   "execution_count": 2,
   "metadata": {},
   "outputs": [],
   "source": [
    "# Valor da semente padrão\n",
    "SEED = 42\n",
    "M = 10000"
   ]
  },
  {
   "cell_type": "markdown",
   "metadata": {
    "pycharm": {
     "name": "#%% md\n"
    }
   },
   "source": [
    "---\n",
    "\n",
    "## <font color=#008cb4>Contexto</font>\n",
    "\n",
    "---\n",
    "\n",
    "\n",
    "\"*A teoria das filas é um ramo da probabilidade que estuda a formação de filas, através de análises matemáticas precisas e propriedades mensuráveis das filas.*\" (Wikipedia)"
   ]
  },
  {
   "cell_type": "markdown",
   "metadata": {},
   "source": [
    "---\n",
    "## <font color=#008cb4>Problema</font>\n",
    "\n",
    "---\n",
    "\n",
    "Considere uma fila do tipo M/M/2 (veja o artigo citado abaixo ou qualquer outra referência sobre Teoria de filas), com tempo entre chegadas distribuído por uma exponencial com parâmetro $\\lambda$ e tempo de atendimento por uma exponencial com parâmetro $\\mu$. Suponha que uma empresa atenda, no máximo, 200 clientes por dia, e que, em um dado dia, foi registrado tempo médio de espera na fila de duas horas e 30 minutos e comprimento médio da fila de 22 pessoas. Note que como os dados de cada cliente não foram disponibilizados, a verossimilhança não pode ser calculada facilmente. Faça um estudo de simulação para responder as perguntas elencadas a seguir.\n"
   ]
  },
  {
   "cell_type": "markdown",
   "source": [
    "---\n",
    "\n",
    "## <font color=#008cb4>Material de estudo</font>\n",
    "\n",
    "---\n",
    "\n",
    "[https://arxiv.org/pdf/1703.02151.pdf](https://arxiv.org/pdf/1703.02151.pdf)"
   ],
   "metadata": {
    "collapsed": false,
    "pycharm": {
     "name": "#%% md\n"
    }
   }
  },
  {
   "cell_type": "markdown",
   "source": [],
   "metadata": {
    "collapsed": false,
    "pycharm": {
     "name": "#%% md\n"
    }
   }
  },
  {
   "cell_type": "markdown",
   "metadata": {
    "pycharm": {
     "name": "#%% md\n"
    }
   },
   "source": [
    "![Normal](queue.png)"
   ]
  },
  {
   "cell_type": "markdown",
   "metadata": {
    "pycharm": {
     "name": "#%% md\n"
    }
   },
   "source": [
    "---\n",
    "\n",
    "## <font color=#008cb4>Questões de interesse</font>\n",
    "\n",
    "---"
   ]
  },
  {
   "cell_type": "markdown",
   "metadata": {
    "pycharm": {
     "name": "#%% md\n"
    }
   },
   "source": [
    "### Usando Computação Bayesiana Aproximada (ABC), estime a distribuição a posteriori para os parâmetros $\\lambda$ e $\\mu$.\n",
    "\n",
    "---"
   ]
  },
  {
   "cell_type": "markdown",
   "source": [
    "Definindo a função para criação de filas a partir de parâmetros $\\lambda$ e $\\mu$."
   ],
   "metadata": {
    "collapsed": false
   }
  },
  {
   "cell_type": "code",
   "execution_count": 3,
   "outputs": [],
   "source": [
    "def cria_fila_simulada(lambda_priori, mu_priori, num_servidores=2, tam_max_fila=200, seed=1914) -> pd.DataFrame:\n",
    "    \"\"\"\n",
    "    Função para gerar uma fila simulada com base nos parâmetros específicados.\n",
    "    :param lambda_priori: O lambda definido a priori.\n",
    "    :param mu_priori: O mu definido a priori.\n",
    "    :param num_servidores: O número de servidores da fila. Padrão = 2.\n",
    "    :param tam_max_fila: O tamanho máximo da fila. Padrão = 200.\n",
    "    :param seed: A semente utilizada na geração dos estatisticas aleatórios. Padrão = 1914.\n",
    "    :return: Um dataframe, com os estatisticas da fila gerada. O dataframe possuie as seguintes colunas: chegadas,\n",
    "            tempo_servico, partidas, tempo_espera, atendente, tam_fila_chegada, tam_fila_partida\n",
    "    \"\"\"\n",
    "    # Cria uma rede M/M/2 com os parâmetros definidos a priori\n",
    "    N = ciw.create_network(\n",
    "         arrival_distributions=[ciw.dists.Exponential(rate=lambda_priori)],\n",
    "         service_distributions=[ciw.dists.Exponential(rate=mu_priori)],\n",
    "         number_of_servers=[num_servidores]\n",
    "    )\n",
    "\n",
    "    # Define uma semente\n",
    "    ciw.seed(seed)\n",
    "    # Cria uma simulação\n",
    "    Q = ciw.Simulation(N)\n",
    "    # Roda a simulação até o máximo de clientes atendidos por dia (n = 200)\n",
    "    Q.simulate_until_max_customers(tam_max_fila)\n",
    "\n",
    "    # Pega os registros de atendimento e gera dataframe\n",
    "    registros = Q.get_all_records()\n",
    "    chegadas = []\n",
    "    partidas = []\n",
    "    tempo_servico = []\n",
    "    tempo_espera = []\n",
    "    atendente = []\n",
    "    tam_fila_chegada = []\n",
    "    for registro in registros:\n",
    "         chegadas.append(registro.arrival_date)\n",
    "         tempo_servico.append(registro.service_time)\n",
    "         partidas.append(registro.exit_date)\n",
    "         tempo_espera.append(registro.waiting_time)\n",
    "         atendente.append(registro.server_id)\n",
    "         tam_fila_chegada.append(registro.queue_size_at_arrival)\n",
    "\n",
    "    fila = pd.DataFrame(zip(chegadas, tempo_servico, partidas, tempo_espera, atendente,\n",
    "                                   tam_fila_chegada),\n",
    "                         columns=[\"chegadas\", \"tempo_servico\", \"partidas\", \"tempo_espera\", \"atendente\",\n",
    "                                  \"tam_fila_chegada\"])\n",
    "    fila.sort_values(\"chegadas\", inplace=True)\n",
    "    fila[\"tempo_entre_chegadas\"] = fila.chegadas.diff()\n",
    "    fila.fillna(0, inplace=True)\n",
    "\n",
    "    return fila"
   ],
   "metadata": {
    "collapsed": false
   }
  },
  {
   "cell_type": "markdown",
   "source": [
    "Rodando a simulação para M (= 10.000) dados sintéticos com os parâmetros definidos a priori."
   ],
   "metadata": {
    "collapsed": false
   }
  },
  {
   "cell_type": "code",
   "execution_count": 4,
   "outputs": [
    {
     "name": "stdout",
     "output_type": "stream",
     "text": [
      "Tempo da simulação:  364.64102506637573\n"
     ]
    }
   ],
   "source": [
    "# Define o array [tempo_medio_espera, tamanho_medio_fila] a partir da observação\n",
    "valores_obs = [150, 22]     # tempo médio = 150 min, e tamanho_medio = 22 pessoas\n",
    "\n",
    "tempo_inicial = time.time()\n",
    "\n",
    "# Inicializa uma lista vazia que armazenará as estatísticas das amostras geradas pelos parâmetros (lambda e mu)\n",
    "amostras = []\n",
    "\n",
    "# Gera amostras aleatórias de λ e μ a partir da distribuição a priori\n",
    "np.random.seed(SEED)\n",
    "lam = np.random.exponential(size=M)\n",
    "mu = np.random.exponential(size=M)\n",
    "\n",
    "# Executa o loop de iteração para estimar a distribuição a posteriori de λ e μ\n",
    "for i in range(M):\n",
    "    # Gera estatisticas simulados a partir do modelo de distribuição exponencial com os parâmetros λ e μ\n",
    "    fila = cria_fila_simulada(lam[i], mu[i])\n",
    "    # Os valores simulados para a fila gerada\n",
    "    valores_sim = [fila.tempo_espera.mean(), fila.tam_fila_chegada.mean()]\n",
    "    # Calcula a distância entre os estatisticas simulados e os estatisticas reais\n",
    "    amostras.append([lam[i], mu[i], *valores_sim, distance.euclidean(valores_sim, valores_obs)])\n",
    "\n",
    "tempo_final = time.time()\n",
    "print('Tempo da simulação: ', (tempo_final - tempo_inicial))"
   ],
   "metadata": {
    "collapsed": false
   }
  },
  {
   "cell_type": "markdown",
   "source": [
    "Gerando o dataframe com as estatísticas."
   ],
   "metadata": {
    "collapsed": false
   }
  },
  {
   "cell_type": "code",
   "execution_count": 5,
   "outputs": [
    {
     "data": {
      "text/plain": "        lambda        mu  tempo_medio_espera  tam_medio_fila  distancia\n7972  0.176305  0.066607          141.294596          19.055   9.190053\n8218  0.349712  0.104576          147.591366          32.350  10.626571\n5930  0.081890  0.039919          157.725260          13.970  11.142735\n1702  0.373699  0.112742          147.314550          34.270  12.560436\n4077  0.322857  0.128673          147.453949          34.405  12.663586\n...        ...       ...                 ...             ...        ...\n2831  1.085994  0.190600          153.863043          58.855  37.056904\n9964  0.676862  0.178775          160.072365          57.940  37.324739\n9626  0.904747  0.203277          126.250561          51.530  37.895340\n9563  0.763629  0.205499          132.508723          55.720  37.986618\n9312  1.232112  0.248432          132.892409          56.040  38.097129\n\n[100 rows x 5 columns]",
      "text/html": "<div>\n<style scoped>\n    .dataframe tbody tr th:only-of-type {\n        vertical-align: middle;\n    }\n\n    .dataframe tbody tr th {\n        vertical-align: top;\n    }\n\n    .dataframe thead th {\n        text-align: right;\n    }\n</style>\n<table border=\"1\" class=\"dataframe\">\n  <thead>\n    <tr style=\"text-align: right;\">\n      <th></th>\n      <th>lambda</th>\n      <th>mu</th>\n      <th>tempo_medio_espera</th>\n      <th>tam_medio_fila</th>\n      <th>distancia</th>\n    </tr>\n  </thead>\n  <tbody>\n    <tr>\n      <th>7972</th>\n      <td>0.176305</td>\n      <td>0.066607</td>\n      <td>141.294596</td>\n      <td>19.055</td>\n      <td>9.190053</td>\n    </tr>\n    <tr>\n      <th>8218</th>\n      <td>0.349712</td>\n      <td>0.104576</td>\n      <td>147.591366</td>\n      <td>32.350</td>\n      <td>10.626571</td>\n    </tr>\n    <tr>\n      <th>5930</th>\n      <td>0.081890</td>\n      <td>0.039919</td>\n      <td>157.725260</td>\n      <td>13.970</td>\n      <td>11.142735</td>\n    </tr>\n    <tr>\n      <th>1702</th>\n      <td>0.373699</td>\n      <td>0.112742</td>\n      <td>147.314550</td>\n      <td>34.270</td>\n      <td>12.560436</td>\n    </tr>\n    <tr>\n      <th>4077</th>\n      <td>0.322857</td>\n      <td>0.128673</td>\n      <td>147.453949</td>\n      <td>34.405</td>\n      <td>12.663586</td>\n    </tr>\n    <tr>\n      <th>...</th>\n      <td>...</td>\n      <td>...</td>\n      <td>...</td>\n      <td>...</td>\n      <td>...</td>\n    </tr>\n    <tr>\n      <th>2831</th>\n      <td>1.085994</td>\n      <td>0.190600</td>\n      <td>153.863043</td>\n      <td>58.855</td>\n      <td>37.056904</td>\n    </tr>\n    <tr>\n      <th>9964</th>\n      <td>0.676862</td>\n      <td>0.178775</td>\n      <td>160.072365</td>\n      <td>57.940</td>\n      <td>37.324739</td>\n    </tr>\n    <tr>\n      <th>9626</th>\n      <td>0.904747</td>\n      <td>0.203277</td>\n      <td>126.250561</td>\n      <td>51.530</td>\n      <td>37.895340</td>\n    </tr>\n    <tr>\n      <th>9563</th>\n      <td>0.763629</td>\n      <td>0.205499</td>\n      <td>132.508723</td>\n      <td>55.720</td>\n      <td>37.986618</td>\n    </tr>\n    <tr>\n      <th>9312</th>\n      <td>1.232112</td>\n      <td>0.248432</td>\n      <td>132.892409</td>\n      <td>56.040</td>\n      <td>38.097129</td>\n    </tr>\n  </tbody>\n</table>\n<p>100 rows × 5 columns</p>\n</div>"
     },
     "execution_count": 5,
     "metadata": {},
     "output_type": "execute_result"
    }
   ],
   "source": [
    "# Gera um dataframe Pandas com os parâmetros e as estatísticas calculadas\n",
    "amostras_posteriori = pd.DataFrame(amostras, columns=[\"lambda\", \"mu\", \"tempo_medio_espera\", \"tam_medio_fila\", \"distancia\"])\n",
    "# inv_cov = np.linalg.inv(amostras_posteriori[[\"tempo_medio_espera\", \"tam_medio_fila\"]].cov())\n",
    "# amostras_posteriori[\"distancia\"] = amostras_posteriori.apply(lambda x: distance.mahalanobis([x[\"tempo_medio_espera\"], x[\"tam_medio_fila\"]], valores_obs, inv_cov), axis=1)\n",
    "\n",
    "# recupera os 1% registros que tiveram as menores distâncias\n",
    "amostras_posteriori = amostras_posteriori.nsmallest(int(M * 0.01), \"distancia\")\n",
    "amostras_posteriori"
   ],
   "metadata": {
    "collapsed": false
   }
  },
  {
   "cell_type": "markdown",
   "source": [
    "<font color='red'>**Resposta:**</font>\n",
    "\n",
    "O intervalo de confiança (95%) e os histogramas a seguir mostram as distribuições a posteriori para os parâmetros $\\lambda$ e $\\mu$ respectivamente."
   ],
   "metadata": {
    "collapsed": false
   }
  },
  {
   "cell_type": "code",
   "execution_count": 6,
   "outputs": [
    {
     "data": {
      "text/plain": "         lambda        mu\n0.025  0.198215  0.076862\n0.975  1.126268  0.209599",
      "text/html": "<div>\n<style scoped>\n    .dataframe tbody tr th:only-of-type {\n        vertical-align: middle;\n    }\n\n    .dataframe tbody tr th {\n        vertical-align: top;\n    }\n\n    .dataframe thead th {\n        text-align: right;\n    }\n</style>\n<table border=\"1\" class=\"dataframe\">\n  <thead>\n    <tr style=\"text-align: right;\">\n      <th></th>\n      <th>lambda</th>\n      <th>mu</th>\n    </tr>\n  </thead>\n  <tbody>\n    <tr>\n      <th>0.025</th>\n      <td>0.198215</td>\n      <td>0.076862</td>\n    </tr>\n    <tr>\n      <th>0.975</th>\n      <td>1.126268</td>\n      <td>0.209599</td>\n    </tr>\n  </tbody>\n</table>\n</div>"
     },
     "execution_count": 6,
     "metadata": {},
     "output_type": "execute_result"
    }
   ],
   "source": [
    "amostras_posteriori[[\"lambda\", \"mu\"]].quantile([0.025, 0.975])"
   ],
   "metadata": {
    "collapsed": false
   }
  },
  {
   "cell_type": "code",
   "execution_count": 7,
   "outputs": [
    {
     "data": {
      "text/plain": "<Figure size 1008x576 with 1 Axes>",
      "image/png": "[encoded data removed]"
     },
     "metadata": {},
     "output_type": "display_data"
    }
   ],
   "source": [
    "ax = sns.histplot(amostras_posteriori[\"lambda\"], kde=True, stat=\"density\")\n",
    "ax.figure.set_size_inches(14, 8)"
   ],
   "metadata": {
    "collapsed": false
   }
  },
  {
   "cell_type": "code",
   "execution_count": 8,
   "outputs": [
    {
     "data": {
      "text/plain": "<Figure size 1008x576 with 1 Axes>",
      "image/png": "[encoded data removed]"
     },
     "metadata": {},
     "output_type": "display_data"
    }
   ],
   "source": [
    "ax = sns.histplot(amostras_posteriori[\"mu\"], kde=True, stat=\"density\")\n",
    "ax.figure.set_size_inches(14, 8)"
   ],
   "metadata": {
    "collapsed": false
   }
  },
  {
   "cell_type": "markdown",
   "source": [
    "### Teste a hipótese nula de que o tempo médio de atendimento é inferior à metade do tempo médio entre chegadas.\n",
    "\n",
    "---"
   ],
   "metadata": {
    "collapsed": false
   }
  },
  {
   "cell_type": "code",
   "execution_count": 9,
   "outputs": [
    {
     "name": "stdout",
     "output_type": "stream",
     "text": [
      "Tempo da simulação:  1.9092328548431396\n"
     ]
    }
   ],
   "source": [
    "tempo_inicial = time.time()\n",
    "\n",
    "# Inicializa uma lista vazia que armazenará as estatísticas das amostras geradas pelos parâmetros (lambda e mu)\n",
    "estatisticas = []\n",
    "\n",
    "# Executa o loop de iteração para estimar a distribuição a posteriori de λ e μ\n",
    "for amostra in amostras_posteriori[[\"lambda\", \"mu\"]].values:\n",
    "    # Gera estatisticas simulados a partir do modelo de distribuição exponencial com os parâmetros λ e μ\n",
    "    fila = cria_fila_simulada(amostra[0], amostra[1])\n",
    "    # Calcula a distância entre os estatisticas simulados e os estatisticas reais\n",
    "    estatisticas.append([fila.tempo_servico.mean(), fila.tempo_entre_chegadas.mean()])\n",
    "\n",
    "tempo_final = time.time()\n",
    "print('Tempo da simulação: ', (tempo_final - tempo_inicial))"
   ],
   "metadata": {
    "collapsed": false
   }
  },
  {
   "cell_type": "code",
   "execution_count": 10,
   "outputs": [
    {
     "data": {
      "text/plain": "0.025     4.853155\n0.975    13.229596\nName: tempo_medio_servico, dtype: float64"
     },
     "execution_count": 10,
     "metadata": {},
     "output_type": "execute_result"
    }
   ],
   "source": [
    "# Gera um dataframe Pandas as estatísticas calculadas\n",
    "estatisticas_posteriori = pd.DataFrame(estatisticas, columns=[\"tempo_medio_servico\", \"tempo_medio_entre_chegadas\"])\n",
    "estatisticas_posteriori[\"tempo_medio_servico\"].quantile([0.025, 0.975])"
   ],
   "metadata": {
    "collapsed": false
   }
  },
  {
   "cell_type": "code",
   "execution_count": 11,
   "outputs": [
    {
     "name": "stdout",
     "output_type": "stream",
     "text": [
      "Metade do tempo médio entre chegadas: 0.9744130061804794\n"
     ]
    }
   ],
   "source": [
    "print(\"Metade do tempo médio entre chegadas:\", estatisticas_posteriori[\"tempo_medio_entre_chegadas\"].mean() / 2)"
   ],
   "metadata": {
    "collapsed": false
   }
  },
  {
   "cell_type": "code",
   "execution_count": 12,
   "outputs": [
    {
     "data": {
      "text/plain": "<AxesSubplot:xlabel='tempo_medio_servico', ylabel='Density'>"
     },
     "execution_count": 12,
     "metadata": {},
     "output_type": "execute_result"
    },
    {
     "data": {
      "text/plain": "<Figure size 1008x576 with 1 Axes>",
      "image/png": "[encoded data removed]"
     },
     "metadata": {},
     "output_type": "display_data"
    }
   ],
   "source": [
    "ax = sns.histplot(estatisticas_posteriori[\"tempo_medio_servico\"], kde=True, stat=\"density\", bins=25)\n",
    "ax.figure.set_size_inches(14, 8)\n",
    "ax.vlines(x=(estatisticas_posteriori[\"tempo_medio_entre_chegadas\"].mean() / 2), ymin=0, ymax=0.37, colors='red', linestyles='dashed')\n",
    "ax"
   ],
   "metadata": {
    "collapsed": false
   }
  },
  {
   "cell_type": "markdown",
   "source": [
    "<font color='red'>**Resposta:**</font>\n",
    "\n",
    "Considerando-se o intervalo de confiança de 95%, bem como a análise gráfica, pode-se descartar a hipótese nula ($H_{0}$) de que tempo médio de atendimento é inferior à metade do tempo médio entre chegadas."
   ],
   "metadata": {
    "collapsed": false
   }
  },
  {
   "cell_type": "markdown",
   "source": [
    "### Caso o hospital deseje que em $90\\%$ do tempo todos os pacientes na fila possam se sentar simultaneamente, quantas cadeiras seriam necessárias? Dica: para cada amostra da posteriori, simule uma fila e calcule a estatística desejada. Em seguida, construa um intervalo de credibilidade.\n",
    "\n",
    "---"
   ],
   "metadata": {
    "collapsed": false
   }
  },
  {
   "cell_type": "code",
   "execution_count": 15,
   "outputs": [],
   "source": [],
   "metadata": {
    "collapsed": false
   }
  },
  {
   "cell_type": "markdown",
   "source": [
    "### Avalie se o tempo de espera reduziria caso houvesse duas filas de atendimento independentes (considerando os mesmos parâmetros estimados anteriormente - veja a figura acima).\n",
    "\n",
    "---"
   ],
   "metadata": {
    "collapsed": false
   }
  },
  {
   "cell_type": "code",
   "execution_count": 15,
   "outputs": [],
   "source": [],
   "metadata": {
    "collapsed": false
   }
  }
 ],
 "metadata": {
  "colab": {
   "provenance": []
  },
  "kernelspec": {
   "display_name": "Python 3 (ipykernel)",
   "language": "python",
   "name": "python3"
  },
  "language_info": {
   "codemirror_mode": {
    "name": "ipython",
    "version": 3
   },
   "file_extension": ".py",
   "mimetype": "text/x-python",
   "name": "python",
   "nbconvert_exporter": "python",
   "pygments_lexer": "ipython3",
   "version": "3.9.12"
  }
 },
 "nbformat": 4,
 "nbformat_minor": 1
}
