{
 "cells": [
  {
   "cell_type": "markdown",
   "metadata": {
    "pycharm": {
     "name": "#%% md\n"
    }
   },
   "source": [
    "***\n",
    "# <font color=#ff4013 size=10>Trabalho Final</font>\n",
    "***\n",
    "\n",
    "Universidade de Brasília/PPCA\n",
    "\n",
    "Métodos Computacionais Intensivos para Mineração de Dados\n",
    "\n",
    "Prof. Guilherme Souza Rodrigues\n",
    "\n",
    "José Ronaldo Agra de Souza Filho - 22/0005427\n",
    "Paulo Célio Soares da Silva Júnior - 22/0005605"
   ]
  },
  {
   "cell_type": "markdown",
   "metadata": {
    "pycharm": {
     "name": "#%% md\n"
    }
   },
   "source": [
    "**Importando bibliotecas.**"
   ]
  },
  {
   "cell_type": "code",
   "execution_count": 1,
   "metadata": {
    "id": "egtvsgscrlbf",
    "pycharm": {
     "name": "#%%\n"
    }
   },
   "outputs": [],
   "source": [
    "import numpy as np\n",
    "import pandas as pd\n",
    "import seaborn as sns\n",
    "import ciw"
   ]
  },
  {
   "cell_type": "markdown",
   "metadata": {
    "pycharm": {
     "name": "#%% md\n"
    }
   },
   "source": [
    "**Definindo constantes globais.**"
   ]
  },
  {
   "cell_type": "code",
   "execution_count": 2,
   "metadata": {
    "pycharm": {
     "name": "#%%\n"
    }
   },
   "outputs": [],
   "source": [
    "# Valor da semente padrão\n",
    "SEED = 42"
   ]
  },
  {
   "cell_type": "markdown",
   "metadata": {
    "pycharm": {
     "name": "#%% md\n"
    }
   },
   "source": [
    "---\n",
    "\n",
    "## <font color=#008cb4>Contexto</font>\n",
    "\n",
    "---\n",
    "\n",
    "\n",
    "\"*A teoria das filas é um ramo da probabilidade que estuda a formação de filas, através de análises matemáticas precisas e propriedades mensuráveis das filas.*\" (Wikipedia)"
   ]
  },
  {
   "cell_type": "markdown",
   "metadata": {
    "pycharm": {
     "name": "#%% md\n"
    }
   },
   "source": [
    "---\n",
    "\n",
    "## <font color=#008cb4>Problema</font>\n",
    "\n",
    "---\n",
    "\n",
    "Considere uma fila do tipo M/M/2 (veja o artigo citado abaixo ou qualquer outra referência sobre Teoria de filas), com tempo entre chegadas distribuído por uma exponencial com parâmetro $\\lambda$ e tempo de atendimento por uma exponencial com parâmetro $\\mu$. Suponha que uma empresa atenda, no máximo, 200 clientes por dia, e que, em um dado dia, foi registrado tempo médio de espera na fila de duas horas e 30 minutos e comprimento médio da fila de 22 pessoas. Note que como os dados de cada cliente não foram disponibilizados, a verossimilhança não pode ser calculada facilmente. Faça um estudo de simulação para responder as perguntas elencadas a seguir.\n"
   ]
  },
  {
   "cell_type": "markdown",
   "source": [
    "---\n",
    "\n",
    "## <font color=#008cb4>Material de estudo</font>\n",
    "\n",
    "---\n",
    "\n",
    "[https://arxiv.org/pdf/1703.02151.pdf](https://arxiv.org/pdf/1703.02151.pdf)"
   ],
   "metadata": {
    "collapsed": false,
    "pycharm": {
     "name": "#%% md\n"
    }
   }
  },
  {
   "cell_type": "markdown",
   "source": [],
   "metadata": {
    "collapsed": false,
    "pycharm": {
     "name": "#%% md\n"
    }
   }
  },
  {
   "cell_type": "markdown",
   "metadata": {
    "pycharm": {
     "name": "#%% md\n"
    }
   },
   "source": [
    "![Normal](queue.png)"
   ]
  },
  {
   "cell_type": "markdown",
   "metadata": {
    "pycharm": {
     "name": "#%% md\n"
    }
   },
   "source": [
    "---\n",
    "\n",
    "## <font color=#008cb4>Questões de interesse</font>\n",
    "\n",
    "---"
   ]
  },
  {
   "cell_type": "markdown",
   "metadata": {
    "pycharm": {
     "name": "#%% md\n"
    }
   },
   "source": [
    "### Usando Computação Bayesiana Aproximada (ABC), estime a distribuição a posteriori para os parâmetros $\\lambda$ e $\\mu$.\n",
    "\n",
    "---"
   ]
  },
  {
   "cell_type": "code",
   "execution_count": 2,
   "metadata": {
    "pycharm": {
     "name": "#%%\n"
    }
   },
   "outputs": [],
   "source": []
  },
  {
   "cell_type": "markdown",
   "metadata": {
    "pycharm": {
     "name": "#%% md\n"
    }
   },
   "source": [
    "### Teste a hipótese nula de que o tempo médio de atendimento é inferior à metade do tempo médio entre chegadas.\n",
    "\n",
    "---"
   ]
  },
  {
   "cell_type": "code",
   "execution_count": 2,
   "metadata": {
    "pycharm": {
     "name": "#%%\n"
    }
   },
   "outputs": [],
   "source": []
  },
  {
   "cell_type": "markdown",
   "metadata": {
    "pycharm": {
     "name": "#%% md\n"
    }
   },
   "source": [
    "### Caso o hospital deseje que em $90\\%$ do tempo todos os pacientes na fila possam se sentar simultaneamente, quantas cadeiras seriam necessárias? Dica: para cada amostra da posteriori, simule uma fila e calcule a estatística desejada. Em seguida, construa um intervalo de credibilidade.\n",
    "\n",
    "---"
   ]
  },
  {
   "cell_type": "code",
   "execution_count": 2,
   "metadata": {
    "pycharm": {
     "name": "#%%\n"
    }
   },
   "outputs": [],
   "source": []
  },
  {
   "cell_type": "markdown",
   "metadata": {
    "pycharm": {
     "name": "#%% md\n"
    }
   },
   "source": [
    "### Avalie se o tempo de espera reduziria caso houvesse duas filas de atendimento independentes (considerando os mesmos parâmetros estimados anteriormente - veja a figura acima).\n",
    "\n",
    "---"
   ]
  },
  {
   "cell_type": "code",
   "execution_count": 2,
   "metadata": {
    "pycharm": {
     "name": "#%%\n"
    }
   },
   "outputs": [],
   "source": []
  },
  {
   "cell_type": "markdown",
   "metadata": {
    "pycharm": {
     "name": "#%% md\n"
    }
   },
   "source": [
    "### O tamanho da fila é um desestímulo aos pacientes. Ao ver uma fila grande, o paciente desiste do atendimento com certa probabilidade. Incorpore essa característica à sua simulação e estime quantas pessoas desestiram do atendimento no dia em que os dados foram coletados. Essa é uma atividade desafiadora! Justifique suas suposições.\n",
    "\n",
    "---"
   ]
  },
  {
   "cell_type": "code",
   "execution_count": 2,
   "metadata": {
    "pycharm": {
     "name": "#%%\n"
    }
   },
   "outputs": [],
   "source": []
  },
  {
   "cell_type": "code",
   "execution_count": null,
   "outputs": [],
   "source": [],
   "metadata": {
    "collapsed": false,
    "pycharm": {
     "name": "#%%\n"
    }
   }
  },
  {
   "cell_type": "code",
   "execution_count": 3,
   "metadata": {
    "id": "Maj9oDCSrXdz",
    "pycharm": {
     "name": "#%%\n"
    }
   },
   "outputs": [],
   "source": [
    "# Cria uma rede M/M/2 com os parâmetros do professor\n",
    "N = ciw.create_network(\n",
    "     arrival_distributions=[ciw.dists.Exponential(rate=0.2)],\n",
    "     service_distributions=[ciw.dists.Exponential(rate=0.08)],\n",
    "     number_of_servers=[2]\n",
    ")"
   ]
  },
  {
   "cell_type": "code",
   "execution_count": 4,
   "metadata": {
    "id": "aV-M-N2Zszj1",
    "pycharm": {
     "name": "#%%\n"
    }
   },
   "outputs": [],
   "source": [
    "# Define uma semente\n",
    "ciw.seed(SEED)\n",
    "# Cria uma simulação\n",
    "Q = ciw.Simulation(N)\n",
    "# Roda a simulação até o máximo de clientes atendidos por dia (n = 200)\n",
    "Q.simulate_until_max_customers(200)"
   ]
  },
  {
   "cell_type": "code",
   "execution_count": 5,
   "metadata": {
    "id": "K66YYpgFuEGs",
    "pycharm": {
     "name": "#%%\n"
    }
   },
   "outputs": [
    {
     "data": {
      "text/plain": "        chegadas  tempo_servico     partidas  tempo_espera  atendente  \\\n0       5.100301       0.316610     5.416912      0.000000        1.0   \n1       6.708422       3.157327     9.865749      0.000000        1.0   \n2      13.376385      14.114663    27.491048      0.000000        1.0   \n3      24.512826       1.136905    25.649731      0.000000        2.0   \n4      27.253056       0.378127    27.631184      0.000000        2.0   \n..           ...            ...          ...           ...        ...   \n195  1131.859396       0.644040  1287.008945    154.505510        2.0   \n196  1144.849223       3.582671  1290.591616    142.159722        2.0   \n197  1150.402068      23.576125  1310.928109    136.949915        1.0   \n198  1152.666593      20.206827  1310.798443    137.925023        2.0   \n199  1153.029306      11.312321  1322.110764    157.769136        2.0   \n\n     tam_fila_chegada  tam_fila_partida  \n0                 0.0               0.0  \n1                 0.0               0.0  \n2                 0.0               1.0  \n3                 1.0               1.0  \n4                 1.0               0.0  \n..                ...               ...  \n195              24.0              44.0  \n196              22.0              43.0  \n197              23.0              43.0  \n198              24.0              44.0  \n199              25.0              43.0  \n\n[200 rows x 7 columns]",
      "text/html": "<div>\n<style scoped>\n    .dataframe tbody tr th:only-of-type {\n        vertical-align: middle;\n    }\n\n    .dataframe tbody tr th {\n        vertical-align: top;\n    }\n\n    .dataframe thead th {\n        text-align: right;\n    }\n</style>\n<table border=\"1\" class=\"dataframe\">\n  <thead>\n    <tr style=\"text-align: right;\">\n      <th></th>\n      <th>chegadas</th>\n      <th>tempo_servico</th>\n      <th>partidas</th>\n      <th>tempo_espera</th>\n      <th>atendente</th>\n      <th>tam_fila_chegada</th>\n      <th>tam_fila_partida</th>\n    </tr>\n  </thead>\n  <tbody>\n    <tr>\n      <th>0</th>\n      <td>5.100301</td>\n      <td>0.316610</td>\n      <td>5.416912</td>\n      <td>0.000000</td>\n      <td>1.0</td>\n      <td>0.0</td>\n      <td>0.0</td>\n    </tr>\n    <tr>\n      <th>1</th>\n      <td>6.708422</td>\n      <td>3.157327</td>\n      <td>9.865749</td>\n      <td>0.000000</td>\n      <td>1.0</td>\n      <td>0.0</td>\n      <td>0.0</td>\n    </tr>\n    <tr>\n      <th>2</th>\n      <td>13.376385</td>\n      <td>14.114663</td>\n      <td>27.491048</td>\n      <td>0.000000</td>\n      <td>1.0</td>\n      <td>0.0</td>\n      <td>1.0</td>\n    </tr>\n    <tr>\n      <th>3</th>\n      <td>24.512826</td>\n      <td>1.136905</td>\n      <td>25.649731</td>\n      <td>0.000000</td>\n      <td>2.0</td>\n      <td>1.0</td>\n      <td>1.0</td>\n    </tr>\n    <tr>\n      <th>4</th>\n      <td>27.253056</td>\n      <td>0.378127</td>\n      <td>27.631184</td>\n      <td>0.000000</td>\n      <td>2.0</td>\n      <td>1.0</td>\n      <td>0.0</td>\n    </tr>\n    <tr>\n      <th>...</th>\n      <td>...</td>\n      <td>...</td>\n      <td>...</td>\n      <td>...</td>\n      <td>...</td>\n      <td>...</td>\n      <td>...</td>\n    </tr>\n    <tr>\n      <th>195</th>\n      <td>1131.859396</td>\n      <td>0.644040</td>\n      <td>1287.008945</td>\n      <td>154.505510</td>\n      <td>2.0</td>\n      <td>24.0</td>\n      <td>44.0</td>\n    </tr>\n    <tr>\n      <th>196</th>\n      <td>1144.849223</td>\n      <td>3.582671</td>\n      <td>1290.591616</td>\n      <td>142.159722</td>\n      <td>2.0</td>\n      <td>22.0</td>\n      <td>43.0</td>\n    </tr>\n    <tr>\n      <th>197</th>\n      <td>1150.402068</td>\n      <td>23.576125</td>\n      <td>1310.928109</td>\n      <td>136.949915</td>\n      <td>1.0</td>\n      <td>23.0</td>\n      <td>43.0</td>\n    </tr>\n    <tr>\n      <th>198</th>\n      <td>1152.666593</td>\n      <td>20.206827</td>\n      <td>1310.798443</td>\n      <td>137.925023</td>\n      <td>2.0</td>\n      <td>24.0</td>\n      <td>44.0</td>\n    </tr>\n    <tr>\n      <th>199</th>\n      <td>1153.029306</td>\n      <td>11.312321</td>\n      <td>1322.110764</td>\n      <td>157.769136</td>\n      <td>2.0</td>\n      <td>25.0</td>\n      <td>43.0</td>\n    </tr>\n  </tbody>\n</table>\n<p>200 rows × 7 columns</p>\n</div>"
     },
     "execution_count": 5,
     "metadata": {},
     "output_type": "execute_result"
    }
   ],
   "source": [
    "# Pega os registros de atendimento e gera dataframe\n",
    "registros = Q.get_all_records()\n",
    "chegadas = []\n",
    "partidas = []\n",
    "tempo_servico = []\n",
    "tempo_espera = []\n",
    "atendente = []\n",
    "tam_fila_chegada = []\n",
    "tam_fila_partida = []\n",
    "for registro in registros:\n",
    "     chegadas.append(registro.arrival_date)\n",
    "     tempo_servico.append(registro.service_time)\n",
    "     partidas.append(registro.exit_date)\n",
    "     tempo_espera.append(registro.waiting_time)\n",
    "     atendente.append(registro.server_id)\n",
    "     tam_fila_chegada.append(registro.queue_size_at_arrival)\n",
    "     tam_fila_partida.append(registro.queue_size_at_departure)\n",
    "\n",
    "dados = pd.DataFrame(np.stack((chegadas, tempo_servico, partidas, tempo_espera, atendente, tam_fila_chegada, tam_fila_partida), axis=-1),\n",
    "                     columns=[\"chegadas\", \"tempo_servico\", \"partidas\", \"tempo_espera\", \"atendente\", \"tam_fila_chegada\", \"tam_fila_partida\"])\n",
    "dados.sort_values(\"chegadas\", inplace=True)\n",
    "dados.reset_index(drop=True, inplace=True)\n",
    "dados"
   ]
  },
  {
   "cell_type": "code",
   "execution_count": 6,
   "metadata": {
    "pycharm": {
     "name": "#%%\n"
    }
   },
   "outputs": [
    {
     "data": {
      "text/plain": "0.025      28.455800\n0.975    1131.851144\nName: chegadas, dtype: float64"
     },
     "execution_count": 6,
     "metadata": {},
     "output_type": "execute_result"
    }
   ],
   "source": [
    "dados.chegadas.quantile([0.025, 0.975])"
   ]
  },
  {
   "cell_type": "code",
   "execution_count": 7,
   "metadata": {
    "pycharm": {
     "name": "#%%\n"
    }
   },
   "outputs": [
    {
     "data": {
      "text/plain": "          chegadas  tempo_servico     partidas  tempo_espera  \\\ncount   200.000000     200.000000   200.000000    200.000000   \nmean    560.141481      12.479988   653.883907     81.262437   \nstd     340.430978      12.368320   386.532448     55.135960   \nmin       5.100301       0.098173     5.416912      0.000000   \n25%     295.943435       3.565225   319.917544     22.932356   \n50%     516.860871       9.509224   676.364411     94.530446   \n75%     867.601983      17.603337   962.718830    133.014416   \nmax    1153.029306      69.323354  1322.110764    175.526310   \n\n       tam_fila_chegada  tam_fila_partida  \ncount        200.000000        200.000000  \nmean          13.510000         16.760000  \nstd            8.127124         11.490105  \nmin            0.000000          0.000000  \n25%            5.000000          6.000000  \n50%           16.000000         17.500000  \n75%           20.000000         23.000000  \nmax           28.000000         47.000000  ",
      "text/html": "<div>\n<style scoped>\n    .dataframe tbody tr th:only-of-type {\n        vertical-align: middle;\n    }\n\n    .dataframe tbody tr th {\n        vertical-align: top;\n    }\n\n    .dataframe thead th {\n        text-align: right;\n    }\n</style>\n<table border=\"1\" class=\"dataframe\">\n  <thead>\n    <tr style=\"text-align: right;\">\n      <th></th>\n      <th>chegadas</th>\n      <th>tempo_servico</th>\n      <th>partidas</th>\n      <th>tempo_espera</th>\n      <th>tam_fila_chegada</th>\n      <th>tam_fila_partida</th>\n    </tr>\n  </thead>\n  <tbody>\n    <tr>\n      <th>count</th>\n      <td>200.000000</td>\n      <td>200.000000</td>\n      <td>200.000000</td>\n      <td>200.000000</td>\n      <td>200.000000</td>\n      <td>200.000000</td>\n    </tr>\n    <tr>\n      <th>mean</th>\n      <td>560.141481</td>\n      <td>12.479988</td>\n      <td>653.883907</td>\n      <td>81.262437</td>\n      <td>13.510000</td>\n      <td>16.760000</td>\n    </tr>\n    <tr>\n      <th>std</th>\n      <td>340.430978</td>\n      <td>12.368320</td>\n      <td>386.532448</td>\n      <td>55.135960</td>\n      <td>8.127124</td>\n      <td>11.490105</td>\n    </tr>\n    <tr>\n      <th>min</th>\n      <td>5.100301</td>\n      <td>0.098173</td>\n      <td>5.416912</td>\n      <td>0.000000</td>\n      <td>0.000000</td>\n      <td>0.000000</td>\n    </tr>\n    <tr>\n      <th>25%</th>\n      <td>295.943435</td>\n      <td>3.565225</td>\n      <td>319.917544</td>\n      <td>22.932356</td>\n      <td>5.000000</td>\n      <td>6.000000</td>\n    </tr>\n    <tr>\n      <th>50%</th>\n      <td>516.860871</td>\n      <td>9.509224</td>\n      <td>676.364411</td>\n      <td>94.530446</td>\n      <td>16.000000</td>\n      <td>17.500000</td>\n    </tr>\n    <tr>\n      <th>75%</th>\n      <td>867.601983</td>\n      <td>17.603337</td>\n      <td>962.718830</td>\n      <td>133.014416</td>\n      <td>20.000000</td>\n      <td>23.000000</td>\n    </tr>\n    <tr>\n      <th>max</th>\n      <td>1153.029306</td>\n      <td>69.323354</td>\n      <td>1322.110764</td>\n      <td>175.526310</td>\n      <td>28.000000</td>\n      <td>47.000000</td>\n    </tr>\n  </tbody>\n</table>\n</div>"
     },
     "execution_count": 7,
     "metadata": {},
     "output_type": "execute_result"
    }
   ],
   "source": [
    "dados.drop(\"atendente\", axis=1).describe()"
   ]
  },
  {
   "cell_type": "code",
   "execution_count": 8,
   "metadata": {
    "colab": {
     "base_uri": "https://localhost:8080/",
     "height": 505
    },
    "id": "kBqqvx2B0jUw",
    "outputId": "cea1a238-9548-4040-8292-30915fc39bae",
    "pycharm": {
     "name": "#%%\n"
    }
   },
   "outputs": [
    {
     "data": {
      "text/plain": "<AxesSubplot:ylabel='Proportion'>"
     },
     "execution_count": 8,
     "metadata": {},
     "output_type": "execute_result"
    },
    {
     "data": {
      "text/plain": "<Figure size 1008x576 with 1 Axes>",
      "image/png": "[encoded data removed]"
     },
     "metadata": {},
     "output_type": "display_data"
    }
   ],
   "source": [
    "# Plota o gráfico\n",
    "ax = sns.ecdfplot(data=[dados.chegadas, dados.partidas])\n",
    "ax.figure.set_size_inches(14, 8)\n",
    "ax"
   ]
  },
  {
   "cell_type": "code",
   "execution_count": 2,
   "outputs": [
    {
     "name": "stderr",
     "output_type": "stream",
     "text": [
      "Auto-assigning NUTS sampler...\n",
      "Initializing NUTS using jitter+adapt_diag...\n",
      "Multiprocess sampling (2 chains in 4 jobs)\n",
      "NUTS: [mu, lambda_]\n"
     ]
    },
    {
     "data": {
      "text/plain": "<IPython.core.display.HTML object>",
      "text/html": "\n<style>\n    /* Turns off some styling */\n    progress {\n        /* gets rid of default border in Firefox and Opera. */\n        border: none;\n        /* Needs to be in here for Safari polyfill so background images work as expected. */\n        background-size: auto;\n    }\n    progress:not([value]), progress:not([value])::-webkit-progress-bar {\n        background: repeating-linear-gradient(45deg, #7e7e7e, #7e7e7e 10px, #5c5c5c 10px, #5c5c5c 20px);\n    }\n    .progress-bar-interrupted, .progress-bar-interrupted::-webkit-progress-bar {\n        background: #F44336;\n    }\n</style>\n"
     },
     "metadata": {},
     "output_type": "display_data"
    },
    {
     "data": {
      "text/plain": "<IPython.core.display.HTML object>",
      "text/html": "\n    <div>\n      <progress value='0' class='' max='6000' style='width:300px; height:20px; vertical-align: middle;'></progress>\n      \n    </div>\n    "
     },
     "metadata": {},
     "output_type": "display_data"
    },
    {
     "name": "stderr",
     "output_type": "stream",
     "text": [
      "Sampling 2 chains for 1_000 tune and 2_000 draw iterations (2_000 + 4_000 draws total) took 43 seconds.\n",
      "There were 3 divergences after tuning. Increase `target_accept` or reparameterize.\n",
      "Got error No model on context stack. trying to find log_likelihood in translation.\n"
     ]
    },
    {
     "data": {
      "text/plain": "           mean     sd  hdi_3%  hdi_97%  mcse_mean  mcse_sd  ess_bulk  \\\nlambda_  12.471  0.896  10.791   14.073      0.018    0.013    2450.0   \nmu        1.025  1.024   0.001    2.901      0.020    0.015    1773.0   \n\n         ess_tail  r_hat  \nlambda_    1972.0    1.0  \nmu         1240.0    1.0  ",
      "text/html": "<div>\n<style scoped>\n    .dataframe tbody tr th:only-of-type {\n        vertical-align: middle;\n    }\n\n    .dataframe tbody tr th {\n        vertical-align: top;\n    }\n\n    .dataframe thead th {\n        text-align: right;\n    }\n</style>\n<table border=\"1\" class=\"dataframe\">\n  <thead>\n    <tr style=\"text-align: right;\">\n      <th></th>\n      <th>mean</th>\n      <th>sd</th>\n      <th>hdi_3%</th>\n      <th>hdi_97%</th>\n      <th>mcse_mean</th>\n      <th>mcse_sd</th>\n      <th>ess_bulk</th>\n      <th>ess_tail</th>\n      <th>r_hat</th>\n    </tr>\n  </thead>\n  <tbody>\n    <tr>\n      <th>lambda_</th>\n      <td>12.471</td>\n      <td>0.896</td>\n      <td>10.791</td>\n      <td>14.073</td>\n      <td>0.018</td>\n      <td>0.013</td>\n      <td>2450.0</td>\n      <td>1972.0</td>\n      <td>1.0</td>\n    </tr>\n    <tr>\n      <th>mu</th>\n      <td>1.025</td>\n      <td>1.024</td>\n      <td>0.001</td>\n      <td>2.901</td>\n      <td>0.020</td>\n      <td>0.015</td>\n      <td>1773.0</td>\n      <td>1240.0</td>\n      <td>1.0</td>\n    </tr>\n  </tbody>\n</table>\n</div>"
     },
     "execution_count": 2,
     "metadata": {},
     "output_type": "execute_result"
    }
   ],
   "source": [
    "### Teste do uso da PyMC\n",
    "\n",
    "import pymc3 as pm\n",
    "import numpy as np\n",
    "import warnings\n",
    "warnings.filterwarnings('ignore')\n",
    "\n",
    "# Gerando dados simulados para um modelo exponencial\n",
    "np.random.seed(123)\n",
    "dados = np.random.exponential(scale=0.08, size=200)     # usando mu = 0.08 e tamanho = 200\n",
    "\n",
    "# Cria o modelo Bayesiano\n",
    "with pm.Model() as model:\n",
    "  # Priors para lambda e mu, ambos com dist. exponencial\n",
    "  lambda_ = pm.Exponential(\"lambda_\", 1)     # TODO: entender porque 1\n",
    "  mu = pm.Exponential(\"mu\", 1)               # TODO: entender porque 1\n",
    "\n",
    "  # Dist. de probabilidade\n",
    "  y = pm.Exponential(\"y\", lambda_, observed=dados)\n",
    "\n",
    "  # Inferência de MCMC -> preciso entender melhor esse sample\n",
    "  trace = pm.sample(draws=2000, chains=2)\n",
    "\n",
    "# Resultado da inferência\n",
    "pm.summary(trace)"
   ],
   "metadata": {
    "collapsed": false,
    "pycharm": {
     "name": "#%%\n"
    }
   }
  },
  {
   "cell_type": "code",
   "execution_count": null,
   "outputs": [],
   "source": [],
   "metadata": {
    "collapsed": false,
    "pycharm": {
     "name": "#%%\n"
    }
   }
  }
 ],
 "metadata": {
  "colab": {
   "provenance": []
  },
  "kernelspec": {
   "display_name": "Python 3 (ipykernel)",
   "language": "python",
   "name": "python3"
  },
  "language_info": {
   "codemirror_mode": {
    "name": "ipython",
    "version": 3
   },
   "file_extension": ".py",
   "mimetype": "text/x-python",
   "name": "python",
   "nbconvert_exporter": "python",
   "pygments_lexer": "ipython3",
   "version": "3.9.12"
  }
 },
 "nbformat": 4,
 "nbformat_minor": 1
}