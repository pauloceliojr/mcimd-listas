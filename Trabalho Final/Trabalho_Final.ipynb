{
 "cells": [
  {
   "cell_type": "markdown",
   "metadata": {
    "pycharm": {
     "name": "#%% md\n"
    }
   },
   "source": [
    "***\n",
    "# <font color=#ff4013 size=10>Trabalho Final</font>\n",
    "***\n",
    "\n",
    "Universidade de Brasília/PPCA\n",
    "\n",
    "Métodos Computacionais Intensivos para Mineração de Dados\n",
    "\n",
    "Prof. Guilherme Souza Rodrigues\n",
    "\n",
    "José Ronaldo Agra de Souza Filho - 22/0005427\n",
    "Paulo Célio Soares da Silva Júnior - 22/0005605"
   ]
  },
  {
   "cell_type": "markdown",
   "metadata": {
    "pycharm": {
     "name": "#%% md\n"
    }
   },
   "source": [
    "**Importando bibliotecas.**"
   ]
  },
  {
   "cell_type": "code",
   "execution_count": 8,
   "metadata": {
    "id": "egtvsgscrlbf",
    "pycharm": {
     "name": "#%%\n"
    }
   },
   "outputs": [],
   "source": [
    "from scipy.spatial import distance\n",
    "import numpy as np\n",
    "import pandas as pd\n",
    "import seaborn as sns\n",
    "import ciw\n",
    "import time\n",
    "import matplotlib.pyplot as plt\n",
    "import csv\n",
    "import os"
   ]
  },
  {
   "cell_type": "markdown",
   "metadata": {
    "pycharm": {
     "name": "#%% md\n"
    }
   },
   "source": [
    "**Definindo constantes globais.**"
   ]
  },
  {
   "cell_type": "code",
   "execution_count": 9,
   "metadata": {
    "pycharm": {
     "name": "#%%\n"
    }
   },
   "outputs": [],
   "source": [
    "# Valor da semente padrão\n",
    "SEED = 42\n",
    "M = 100000\n",
    "NOME_ARQUIVO_FILAS = 'filas_simuladas.csv'"
   ]
  },
  {
   "cell_type": "markdown",
   "metadata": {
    "pycharm": {
     "name": "#%% md\n"
    }
   },
   "source": [
    "---\n",
    "\n",
    "## <font color=#008cb4>Contexto</font>\n",
    "\n",
    "---\n",
    "\n",
    "\n",
    "\"*A teoria das filas é um ramo da probabilidade que estuda a formação de filas, através de análises matemáticas precisas e propriedades mensuráveis das filas.*\" (Wikipedia)"
   ]
  },
  {
   "cell_type": "markdown",
   "metadata": {
    "pycharm": {
     "name": "#%% md\n"
    }
   },
   "source": [
    "---\n",
    "## <font color=#008cb4>Problema</font>\n",
    "\n",
    "---\n",
    "\n",
    "Considere uma fila do tipo M/M/2 (veja o artigo citado abaixo ou qualquer outra referência sobre Teoria de filas), com tempo entre chegadas distribuído por uma exponencial com parâmetro $\\lambda$ e tempo de atendimento por uma exponencial com parâmetro $\\mu$. Suponha que uma empresa atenda, no máximo, 200 clientes por dia, e que, em um dado dia, foi registrado tempo médio de espera na fila de duas horas e 30 minutos e comprimento médio da fila de 22 pessoas. Note que como os dados de cada cliente não foram disponibilizados, a verossimilhança não pode ser calculada facilmente. Faça um estudo de simulação para responder as perguntas elencadas a seguir.\n"
   ]
  },
  {
   "cell_type": "markdown",
   "source": [
    "---\n",
    "\n",
    "## <font color=#008cb4>Material de estudo</font>\n",
    "\n",
    "---\n",
    "\n",
    "[https://arxiv.org/pdf/1703.02151.pdf](https://arxiv.org/pdf/1703.02151.pdf)"
   ],
   "metadata": {
    "collapsed": false,
    "pycharm": {
     "name": "#%% md\n"
    }
   }
  },
  {
   "cell_type": "markdown",
   "source": [],
   "metadata": {
    "collapsed": false,
    "pycharm": {
     "name": "#%% md\n"
    }
   }
  },
  {
   "cell_type": "markdown",
   "metadata": {
    "pycharm": {
     "name": "#%% md\n"
    }
   },
   "source": [
    "![Normal](queue.png)"
   ]
  },
  {
   "cell_type": "markdown",
   "metadata": {
    "pycharm": {
     "name": "#%% md\n"
    }
   },
   "source": [
    "---\n",
    "\n",
    "## <font color=#008cb4>Questões de interesse</font>\n",
    "\n",
    "---"
   ]
  },
  {
   "cell_type": "markdown",
   "metadata": {
    "pycharm": {
     "name": "#%% md\n"
    }
   },
   "source": [
    "### Usando Computação Bayesiana Aproximada (ABC), estime a distribuição a posteriori para os parâmetros $\\lambda$ e $\\mu$.\n",
    "\n",
    "---"
   ]
  },
  {
   "cell_type": "markdown",
   "source": [
    "Definindo a função para criação de filas a partir de parâmetros $\\lambda$ e $\\mu$."
   ],
   "metadata": {
    "collapsed": false,
    "pycharm": {
     "name": "#%% md\n"
    }
   }
  },
  {
   "cell_type": "code",
   "execution_count": 3,
   "outputs": [],
   "source": [
    "def cria_fila_simulada(lambda_priori, mu_priori, num_servidores=2, tam_max_fila=200, seed=1914) -> pd.DataFrame:\n",
    "    \"\"\"\n",
    "    Função para gerar uma fila simulada com base nos parâmetros específicados.\n",
    "    :param lambda_priori: O lambda definido a priori.\n",
    "    :param mu_priori: O mu definido a priori.\n",
    "    :param num_servidores: O número de servidores da fila. Padrão = 2.\n",
    "    :param tam_max_fila: O tamanho máximo da fila. Padrão = 200.\n",
    "    :param seed: A semente utilizada na geração dos estatisticas aleatórios. Padrão = 1914.\n",
    "    :return: Um dataframe, com os estatisticas da fila gerada. O dataframe possuie as seguintes colunas: chegadas,\n",
    "            tempo_servico, partidas, tempo_espera, atendente, tam_fila_chegada, tam_fila_partida\n",
    "    \"\"\"\n",
    "    # Cria uma rede M/M/2 com os parâmetros definidos a priori\n",
    "    N = ciw.create_network(\n",
    "         arrival_distributions=[ciw.dists.Exponential(rate=lambda_priori)],\n",
    "         service_distributions=[ciw.dists.Exponential(rate=mu_priori)],\n",
    "         number_of_servers=[num_servidores]\n",
    "    )\n",
    "\n",
    "    # Define uma semente\n",
    "    ciw.seed(seed)\n",
    "    # Cria uma simulação\n",
    "    Q = ciw.Simulation(N)\n",
    "    # Roda a simulação até o máximo de clientes atendidos por dia (n = 200)\n",
    "    Q.simulate_until_max_customers(tam_max_fila)\n",
    "\n",
    "    # Pega os registros de atendimento e gera dataframe\n",
    "    registros = Q.get_all_records()\n",
    "    chegadas = []\n",
    "    partidas = []\n",
    "    tempo_servico = []\n",
    "    tempo_espera = []\n",
    "    atendente = []\n",
    "    tam_fila_chegada = []\n",
    "    for registro in registros:\n",
    "         chegadas.append(registro.arrival_date)\n",
    "         tempo_servico.append(registro.service_time)\n",
    "         partidas.append(registro.exit_date)\n",
    "         tempo_espera.append(registro.waiting_time)\n",
    "         atendente.append(registro.server_id)\n",
    "         tam_fila_chegada.append(registro.queue_size_at_arrival)\n",
    "\n",
    "    # Cria o dataframe\n",
    "    fila = pd.DataFrame(zip(chegadas, tempo_servico, partidas, tempo_espera, atendente,\n",
    "                                   tam_fila_chegada),\n",
    "                         columns=[\"chegadas\", \"tempo_servico\", \"partidas\", \"tempo_espera\", \"atendente\",\n",
    "                                  \"tam_fila_chegada\"])\n",
    "    # Ordena, por ordem de chegadas, e calcula a diferença entre as chegadas\n",
    "    fila.sort_values(\"chegadas\", inplace=True)\n",
    "    fila[\"tempo_entre_chegadas\"] = fila.chegadas.diff()\n",
    "    fila.fillna(0, inplace=True)\n",
    "\n",
    "    return fila"
   ],
   "metadata": {
    "collapsed": false,
    "pycharm": {
     "name": "#%%\n"
    }
   }
  },
  {
   "cell_type": "markdown",
   "source": [
    "Rodando a simulação para M (= 10.000) dados sintéticos com os parâmetros definidos a priori."
   ],
   "metadata": {
    "collapsed": false,
    "pycharm": {
     "name": "#%% md\n"
    }
   }
  },
  {
   "cell_type": "code",
   "execution_count": 22,
   "outputs": [
    {
     "name": "stdout",
     "output_type": "stream",
     "text": [
      "Tempo da simulação:  0.44040536880493164\n"
     ]
    }
   ],
   "source": [
    "# Define o array [tempo_medio_espera, tamanho_medio_fila] a partir da observação\n",
    "valores_obs = [150, 22]     # tempo médio = 150 min, e tamanho_medio = 22 pessoas\n",
    "\n",
    "tempo_inicial = time.time()\n",
    "\n",
    "# Inicializa uma lista vazia que armazenará as estatísticas das amostras geradas pelos parâmetros (lambda e mu)\n",
    "amostras = []\n",
    "\n",
    "# Verifica se o arquivo já existe\n",
    "if os.path.exists(NOME_ARQUIVO_FILAS):\n",
    "    # Carrega os dados do arquivo e armazena na lista 'amostras'\n",
    "\n",
    "    with open(NOME_ARQUIVO_FILAS, 'r') as csvfile:\n",
    "        # Skip da primeira linha do arquivo (cabeçalho)\n",
    "        next(csvfile)\n",
    "\n",
    "        # Cria o objeto csv.reader\n",
    "        reader = csv.reader(csvfile)\n",
    "\n",
    "        # Lê todas as outras linhas do arquivo\n",
    "        #amostras = csvfile.readlines()\n",
    "\n",
    "        # Itera sobre as linhas do arquivo\n",
    "        for linha in reader:\n",
    "            # Adiciona a linha à lista - converte os dados em float\n",
    "            amostras.append([float(i) for i in linha])\n",
    "\n",
    "else:\n",
    "    # Executa uma simulação para a geração das filas\n",
    "    # Gera amostras aleatórias de λ e μ a partir da distribuição a priori\n",
    "    np.random.seed(SEED)\n",
    "    lam = np.random.uniform(size=M)\n",
    "    mu = np.random.uniform(size=M)\n",
    "\n",
    "    # Executa o loop de iteração para estimar a distribuição a posteriori de λ e μ\n",
    "    for i in range(M):\n",
    "        # Gera estatisticas simulados a partir do modelo de distribuição exponencial com os parâmetros λ e μ\n",
    "        fila = cria_fila_simulada(lam[i], mu[i])\n",
    "        # Os valores simulados para a fila gerada\n",
    "        valores_sim = [fila.tempo_espera.mean(), fila.tam_fila_chegada.mean()]\n",
    "        # Calcula a distância entre os estatisticas simulados e os estatisticas reais\n",
    "        amostras.append([lam[i], mu[i], *valores_sim, distance.euclidean(valores_sim, valores_obs)])\n",
    "\n",
    "tempo_final = time.time()\n",
    "print('Tempo da simulação: ', (tempo_final - tempo_inicial))"
   ],
   "metadata": {
    "collapsed": false,
    "pycharm": {
     "name": "#%%\n"
    }
   }
  },
  {
   "cell_type": "code",
   "execution_count": 23,
   "outputs": [],
   "source": [
    "# Gera um arquivo CSV, com as filas criadas, com o objetivo de evitar a geração das mesmas a cada execução\n",
    "\n",
    "# Verifica se o arquivo já existe\n",
    "if not os.path.exists(NOME_ARQUIVO_FILAS):\n",
    "    # Cabeçalho do arquivo\n",
    "    campos = ['Lambda', 'Mu', 'Tempo_Espera_Medio', 'Tam_Fila_Medio', 'Distancia']\n",
    "\n",
    "    # Abre o arquivo para escrita\n",
    "    with open(NOME_ARQUIVO_FILAS, 'w', newline='') as csvfile:\n",
    "        # Cria o objeto csv.writer\n",
    "        writer = csv.writer(csvfile)\n",
    "\n",
    "        # Escreve o cabeçalho\n",
    "        writer.writerow(campos)\n",
    "        # Escreve o conteúdo da simulação no arquivo\n",
    "        writer.writerows(amostras)"
   ],
   "metadata": {
    "collapsed": false,
    "pycharm": {
     "name": "#%%\n"
    }
   }
  },
  {
   "cell_type": "markdown",
   "source": [
    "Gerando o dataframe com as estatísticas."
   ],
   "metadata": {
    "collapsed": false,
    "pycharm": {
     "name": "#%% md\n"
    }
   }
  },
  {
   "cell_type": "code",
   "execution_count": 25,
   "outputs": [
    {
     "data": {
      "text/plain": "         lambda        mu  tempo_medio_espera  tam_medio_fila  distancia\n32988  0.181440  0.068273          150.612399          21.250   0.968263\n682    0.170888  0.076536          150.633213          22.855   1.063947\n32399  0.217739  0.084489          151.269793          22.820   1.511547\n87231  0.210119  0.076422          148.475351          22.375   1.570089\n65563  0.200939  0.078733          153.120644          22.350   3.140211\n...         ...       ...                 ...             ...        ...\n47402  0.816941  0.164987          160.563634          51.870  31.682917\n18603  0.642694  0.174084          130.433670          46.930  31.691421\n28537  0.695303  0.189222          134.529613          49.685  31.714226\n13723  0.219925  0.092181          180.417676          31.015  31.725467\n93791  0.664357  0.173485          133.866603          49.345  31.749575\n\n[1000 rows x 5 columns]",
      "text/html": "<div>\n<style scoped>\n    .dataframe tbody tr th:only-of-type {\n        vertical-align: middle;\n    }\n\n    .dataframe tbody tr th {\n        vertical-align: top;\n    }\n\n    .dataframe thead th {\n        text-align: right;\n    }\n</style>\n<table border=\"1\" class=\"dataframe\">\n  <thead>\n    <tr style=\"text-align: right;\">\n      <th></th>\n      <th>lambda</th>\n      <th>mu</th>\n      <th>tempo_medio_espera</th>\n      <th>tam_medio_fila</th>\n      <th>distancia</th>\n    </tr>\n  </thead>\n  <tbody>\n    <tr>\n      <th>32988</th>\n      <td>0.181440</td>\n      <td>0.068273</td>\n      <td>150.612399</td>\n      <td>21.250</td>\n      <td>0.968263</td>\n    </tr>\n    <tr>\n      <th>682</th>\n      <td>0.170888</td>\n      <td>0.076536</td>\n      <td>150.633213</td>\n      <td>22.855</td>\n      <td>1.063947</td>\n    </tr>\n    <tr>\n      <th>32399</th>\n      <td>0.217739</td>\n      <td>0.084489</td>\n      <td>151.269793</td>\n      <td>22.820</td>\n      <td>1.511547</td>\n    </tr>\n    <tr>\n      <th>87231</th>\n      <td>0.210119</td>\n      <td>0.076422</td>\n      <td>148.475351</td>\n      <td>22.375</td>\n      <td>1.570089</td>\n    </tr>\n    <tr>\n      <th>65563</th>\n      <td>0.200939</td>\n      <td>0.078733</td>\n      <td>153.120644</td>\n      <td>22.350</td>\n      <td>3.140211</td>\n    </tr>\n    <tr>\n      <th>...</th>\n      <td>...</td>\n      <td>...</td>\n      <td>...</td>\n      <td>...</td>\n      <td>...</td>\n    </tr>\n    <tr>\n      <th>47402</th>\n      <td>0.816941</td>\n      <td>0.164987</td>\n      <td>160.563634</td>\n      <td>51.870</td>\n      <td>31.682917</td>\n    </tr>\n    <tr>\n      <th>18603</th>\n      <td>0.642694</td>\n      <td>0.174084</td>\n      <td>130.433670</td>\n      <td>46.930</td>\n      <td>31.691421</td>\n    </tr>\n    <tr>\n      <th>28537</th>\n      <td>0.695303</td>\n      <td>0.189222</td>\n      <td>134.529613</td>\n      <td>49.685</td>\n      <td>31.714226</td>\n    </tr>\n    <tr>\n      <th>13723</th>\n      <td>0.219925</td>\n      <td>0.092181</td>\n      <td>180.417676</td>\n      <td>31.015</td>\n      <td>31.725467</td>\n    </tr>\n    <tr>\n      <th>93791</th>\n      <td>0.664357</td>\n      <td>0.173485</td>\n      <td>133.866603</td>\n      <td>49.345</td>\n      <td>31.749575</td>\n    </tr>\n  </tbody>\n</table>\n<p>1000 rows × 5 columns</p>\n</div>"
     },
     "execution_count": 25,
     "metadata": {},
     "output_type": "execute_result"
    }
   ],
   "source": [
    "# Gera um dataframe Pandas com os parâmetros e as estatísticas calculadas\n",
    "amostras_posteriori = pd.DataFrame(amostras, columns=[\"lambda\", \"mu\", \"tempo_medio_espera\", \"tam_medio_fila\", \"distancia\"])\n",
    "## Obtem o inverso da matriz de covariância\n",
    "# inv_cov = np.linalg.inv(amostras_posteriori[[\"tempo_medio_espera\", \"tam_medio_fila\"]].cov())\n",
    "## Calcula a distância em relação aos valores observados\n",
    "# amostras_posteriori[\"distancia\"] = amostras_posteriori.apply(lambda x: distance.mahalanobis([x[\"tempo_medio_espera\"], x[\"tam_medio_fila\"]], valores_obs, inv_cov), axis=1)\n",
    "\n",
    "# recupera os 1% registros que tiveram as menores distâncias\n",
    "amostras_posteriori = amostras_posteriori.nsmallest(int(M * 0.01), \"distancia\")\n",
    "amostras_posteriori"
   ],
   "metadata": {
    "collapsed": false,
    "pycharm": {
     "name": "#%%\n"
    }
   }
  },
  {
   "cell_type": "markdown",
   "source": [
    "<font color='red'>**Resposta:**</font>\n",
    "\n",
    "O intervalo de confiança (95%) e os histogramas a seguir mostram as distribuições a posteriori para os parâmetros $\\lambda$ e $\\mu$ respectivamente. Para a resolução da questão, foram avaliadas duas distâncias: euclidiana e de Mahalanobis. Por mostrar menor variabilidade em relação aos valores do tempo médio de espera e tamanho médio da fila, a primeira foi escolhida em detrimento da segunda."
   ],
   "metadata": {
    "collapsed": false,
    "pycharm": {
     "name": "#%% md\n"
    }
   }
  },
  {
   "cell_type": "code",
   "execution_count": 26,
   "outputs": [
    {
     "data": {
      "text/plain": "         lambda        mu\n0.025  0.130158  0.057182\n0.975  0.841564  0.192502",
      "text/html": "<div>\n<style scoped>\n    .dataframe tbody tr th:only-of-type {\n        vertical-align: middle;\n    }\n\n    .dataframe tbody tr th {\n        vertical-align: top;\n    }\n\n    .dataframe thead th {\n        text-align: right;\n    }\n</style>\n<table border=\"1\" class=\"dataframe\">\n  <thead>\n    <tr style=\"text-align: right;\">\n      <th></th>\n      <th>lambda</th>\n      <th>mu</th>\n    </tr>\n  </thead>\n  <tbody>\n    <tr>\n      <th>0.025</th>\n      <td>0.130158</td>\n      <td>0.057182</td>\n    </tr>\n    <tr>\n      <th>0.975</th>\n      <td>0.841564</td>\n      <td>0.192502</td>\n    </tr>\n  </tbody>\n</table>\n</div>"
     },
     "execution_count": 26,
     "metadata": {},
     "output_type": "execute_result"
    }
   ],
   "source": [
    "amostras_posteriori[[\"lambda\", \"mu\"]].quantile([0.025, 0.975])"
   ],
   "metadata": {
    "collapsed": false,
    "pycharm": {
     "name": "#%%\n"
    }
   }
  },
  {
   "cell_type": "code",
   "execution_count": 27,
   "outputs": [
    {
     "data": {
      "text/plain": "<Figure size 1400x800 with 1 Axes>",
      "image/png": "[encoded data removed]"
     },
     "metadata": {},
     "output_type": "display_data"
    }
   ],
   "source": [
    "ax = sns.histplot(amostras_posteriori[\"lambda\"], kde=True, stat=\"density\")\n",
    "ax.figure.set_size_inches(14, 8)"
   ],
   "metadata": {
    "collapsed": false,
    "pycharm": {
     "name": "#%%\n"
    }
   }
  },
  {
   "cell_type": "code",
   "execution_count": 28,
   "outputs": [
    {
     "data": {
      "text/plain": "<Figure size 1400x800 with 1 Axes>",
      "image/png": "[encoded data removed]"
     },
     "metadata": {},
     "output_type": "display_data"
    }
   ],
   "source": [
    "ax = sns.histplot(amostras_posteriori[\"mu\"], kde=True, stat=\"density\")\n",
    "ax.figure.set_size_inches(14, 8)"
   ],
   "metadata": {
    "collapsed": false,
    "pycharm": {
     "name": "#%%\n"
    }
   }
  },
  {
   "cell_type": "markdown",
   "source": [
    "### Teste a hipótese nula de que o tempo médio de atendimento é inferior à metade do tempo médio entre chegadas.\n",
    "\n",
    "---"
   ],
   "metadata": {
    "collapsed": false,
    "pycharm": {
     "name": "#%% md\n"
    }
   }
  },
  {
   "cell_type": "code",
   "execution_count": 29,
   "outputs": [
    {
     "name": "stdout",
     "output_type": "stream",
     "text": [
      "Tempo da simulação:  10.05386233329773\n"
     ]
    }
   ],
   "source": [
    "tempo_inicial = time.time()\n",
    "\n",
    "# Inicializa uma lista vazia que armazenará as estatísticas das amostras geradas pelos parâmetros (lambda e mu)\n",
    "estatisticas = []\n",
    "\n",
    "# Executa o loop de iteração para estimar a distribuição a posteriori de λ e μ\n",
    "for amostra in amostras_posteriori[[\"lambda\", \"mu\"]].values:\n",
    "    # Gera estatisticas simulados a partir do modelo de distribuição exponencial com os parâmetros λ e μ\n",
    "    fila = cria_fila_simulada(amostra[0], amostra[1])\n",
    "    # Calcula a distância entre os estatisticas simulados e os estatisticas reais\n",
    "    estatisticas.append([fila.tempo_servico.mean(), fila.tempo_entre_chegadas.mean()])\n",
    "\n",
    "tempo_final = time.time()\n",
    "print('Tempo da simulação: ', (tempo_final - tempo_inicial))"
   ],
   "metadata": {
    "collapsed": false,
    "pycharm": {
     "name": "#%%\n"
    }
   }
  },
  {
   "cell_type": "code",
   "execution_count": 30,
   "outputs": [
    {
     "data": {
      "text/plain": "0.025     5.557154\n0.975    17.692295\nName: tempo_medio_servico, dtype: float64"
     },
     "execution_count": 30,
     "metadata": {},
     "output_type": "execute_result"
    }
   ],
   "source": [
    "# Gera um dataframe Pandas as estatísticas calculadas\n",
    "estatisticas_posteriori = pd.DataFrame(estatisticas, columns=[\"tempo_medio_servico\", \"tempo_medio_entre_chegadas\"])\n",
    "estatisticas_posteriori[\"tempo_medio_servico\"].quantile([0.025, 0.975])"
   ],
   "metadata": {
    "collapsed": false,
    "pycharm": {
     "name": "#%%\n"
    }
   }
  },
  {
   "cell_type": "code",
   "execution_count": 31,
   "outputs": [
    {
     "name": "stdout",
     "output_type": "stream",
     "text": [
      "Metade do tempo médio entre chegadas: 1.2611314921496477\n"
     ]
    }
   ],
   "source": [
    "print(\"Metade do tempo médio entre chegadas:\", estatisticas_posteriori[\"tempo_medio_entre_chegadas\"].mean() / 2)"
   ],
   "metadata": {
    "collapsed": false,
    "pycharm": {
     "name": "#%%\n"
    }
   }
  },
  {
   "cell_type": "code",
   "execution_count": 32,
   "outputs": [
    {
     "data": {
      "text/plain": "<AxesSubplot: xlabel='tempo_medio_servico', ylabel='Density'>"
     },
     "execution_count": 32,
     "metadata": {},
     "output_type": "execute_result"
    },
    {
     "data": {
      "text/plain": "<Figure size 1400x800 with 1 Axes>",
      "image/png": "[encoded data removed]"
     },
     "metadata": {},
     "output_type": "display_data"
    }
   ],
   "source": [
    "ax = sns.histplot(estatisticas_posteriori[\"tempo_medio_servico\"], kde=True, stat=\"density\", bins=25)\n",
    "ax.figure.set_size_inches(14, 8)\n",
    "ax.vlines(x=(estatisticas_posteriori[\"tempo_medio_entre_chegadas\"].mean() / 2), ymin=0, ymax=0.37, colors='red', linestyles='dashed')\n",
    "ax"
   ],
   "metadata": {
    "collapsed": false,
    "pycharm": {
     "name": "#%%\n"
    }
   }
  },
  {
   "cell_type": "markdown",
   "source": [
    "<font color='red'>**Resposta:**</font>\n",
    "\n",
    "Considerando-se o intervalo de confiança de 95%, bem como a análise gráfica, pode-se descartar a hipótese nula ($H_{0}$) de que tempo médio de atendimento é inferior à metade do tempo médio entre chegadas."
   ],
   "metadata": {
    "collapsed": false,
    "pycharm": {
     "name": "#%% md\n"
    }
   }
  },
  {
   "cell_type": "markdown",
   "source": [
    "### Caso o hospital deseje que em $90\\%$ do tempo todos os pacientes na fila possam se sentar simultaneamente, quantas cadeiras seriam necessárias? Dica: para cada amostra da posteriori, simule uma fila e calcule a estatística desejada. Em seguida, construa um intervalo de credibilidade.\n",
    "\n",
    "---"
   ],
   "metadata": {
    "collapsed": false,
    "pycharm": {
     "name": "#%% md\n"
    }
   }
  },
  {
   "cell_type": "code",
   "execution_count": 33,
   "outputs": [
    {
     "name": "stdout",
     "output_type": "stream",
     "text": [
      "Tempo da simulação:  10.110947608947754\n"
     ]
    }
   ],
   "source": [
    "tempo_inicial = time.time()\n",
    "\n",
    "# Inicializa uma lista vazia que armazenará as estatísticas das amostras geradas pelos parâmetros (lambda e mu)\n",
    "estatisticas = []\n",
    "# para avaliarmos e decidirmos depois\n",
    "est_2 = []\n",
    "\n",
    "# Executa o loop de iteração para estimar a distribuição a posteriori de λ e μ\n",
    "for amostra in amostras_posteriori[[\"lambda\", \"mu\"]].values:\n",
    "    # Gera estatisticas simulados a partir do modelo de distribuição exponencial com os parâmetros λ e μ\n",
    "    fila = cria_fila_simulada(amostra[0], amostra[1])\n",
    "    # Adiciona no array de estatistias a média do tamanho da fila\n",
    "    estatisticas.append([fila.tam_fila_chegada.mean()])\n",
    "    # Calcula o quantil 90% do tamanho da fila\n",
    "    est_2.append(fila.tam_fila_chegada.quantile([0.9]).values[0])\n",
    "\n",
    "tempo_final = time.time()\n",
    "print('Tempo da simulação: ', (tempo_final - tempo_inicial))"
   ],
   "metadata": {
    "collapsed": false,
    "pycharm": {
     "name": "#%%\n"
    }
   }
  },
  {
   "cell_type": "code",
   "execution_count": 34,
   "outputs": [
    {
     "name": "stdout",
     "output_type": "stream",
     "text": [
      "Média dos quantis 90% dos tamanhos das filas: 71.5227\n"
     ]
    },
    {
     "data": {
      "text/plain": "0.9    51.086\nName: tam_fila_chegada, dtype: float64"
     },
     "execution_count": 34,
     "metadata": {},
     "output_type": "execute_result"
    }
   ],
   "source": [
    "print('Média dos quantis 90% dos tamanhos das filas:', np.array(est_2).mean())\n",
    "\n",
    "# Gera um dataframe Pandas para as estatísticas calculadas\n",
    "estatisticas_posteriori_tam = pd.DataFrame(estatisticas, columns=[\"tam_fila_chegada\"])\n",
    "estatisticas_posteriori_tam[\"tam_fila_chegada\"].quantile([0.9])"
   ],
   "metadata": {
    "collapsed": false,
    "pycharm": {
     "name": "#%%\n"
    }
   }
  },
  {
   "cell_type": "markdown",
   "source": [
    "<font color='red'>**Resposta:**</font>\n",
    "\n",
    "Considerando-se o intervalo de confiança de 90%, pode-se afirmar que seriam necessárias 50 cadeiras para que todos os pacientes na fila pudessem se sentar simultaneamente."
   ],
   "metadata": {
    "collapsed": false,
    "pycharm": {
     "name": "#%% md\n"
    }
   }
  },
  {
   "cell_type": "markdown",
   "source": [
    "### Avalie se o tempo de espera reduziria caso houvesse duas filas de atendimento independentes (considerando os mesmos parâmetros estimados anteriormente - veja a figura acima).\n",
    "\n",
    "---"
   ],
   "metadata": {
    "collapsed": false,
    "pycharm": {
     "name": "#%% md\n"
    }
   }
  },
  {
   "cell_type": "code",
   "execution_count": 12,
   "outputs": [],
   "source": [],
   "metadata": {
    "collapsed": false,
    "pycharm": {
     "name": "#%%\n"
    }
   }
  },
  {
   "cell_type": "markdown",
   "source": [
    "### O tamanho da fila é um desestímulo aos pacientes. Ao ver uma fila grande, o paciente desiste do atendimento com certa probabilidade. Incorpore essa característica à sua simulação e estime quantas pessoas desestiram do atendimento no dia em que os dados foram coletados. Essa é uma atividade desafiadora! Justifique suas suposições.\n",
    "\n",
    "---"
   ],
   "metadata": {
    "collapsed": false,
    "pycharm": {
     "name": "#%% md\n"
    }
   }
  },
  {
   "cell_type": "code",
   "execution_count": null,
   "outputs": [],
   "source": [],
   "metadata": {
    "collapsed": false,
    "pycharm": {
     "name": "#%%\n"
    }
   }
  }
 ],
 "metadata": {
  "colab": {
   "provenance": []
  },
  "kernelspec": {
   "display_name": "Python 3 (ipykernel)",
   "language": "python",
   "name": "python3"
  },
  "language_info": {
   "codemirror_mode": {
    "name": "ipython",
    "version": 3
   },
   "file_extension": ".py",
   "mimetype": "text/x-python",
   "name": "python",
   "nbconvert_exporter": "python",
   "pygments_lexer": "ipython3",
   "version": "3.9.12"
  }
 },
 "nbformat": 4,
 "nbformat_minor": 1
}