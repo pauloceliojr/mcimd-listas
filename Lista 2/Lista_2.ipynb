{
 "cells": [
  {
   "cell_type": "markdown",
   "metadata": {
    "id": "Ie-5wE__VSHZ"
   },
   "source": [
    "***\n",
    "# <font color=green size=10>Lista 2: Inferência estatística via simulação</font>\n",
    "***\n",
    "\n",
    "Universidade de Brasília/PPCA\n",
    "\n",
    "Métodos Computacionais Intensivos para Mineração de Dados\n",
    "\n",
    "Prof. Guilherme Souza Rodrigues\n",
    "\n",
    "Aluno: Paulo Célio Soares da Silva Júnior - 22/0005605"
   ]
  },
  {
   "cell_type": "markdown",
   "metadata": {
    "id": "mzp5TnyLWHmj"
   },
   "source": [
    "**Importando bibliotecas.**"
   ]
  },
  {
   "cell_type": "code",
   "execution_count": 1,
   "metadata": {
    "id": "DAQf8dcKVSHe"
   },
   "outputs": [],
   "source": [
    "from scipy.stats import poisson\n",
    "from scipy.optimize import minimize\n",
    "\n",
    "import statsmodels.api as sm\n",
    "import statsmodels.formula.api as smf\n",
    "import matplotlib.pyplot as plt\n",
    "import numpy as np\n",
    "import pandas as pd\n",
    "import seaborn as sns"
   ]
  },
  {
   "cell_type": "markdown",
   "metadata": {},
   "source": [
    "**Definindo constantes globais.**"
   ]
  },
  {
   "cell_type": "code",
   "execution_count": 2,
   "metadata": {},
   "outputs": [],
   "source": [
    "# Valor da semente padrão\n",
    "SEED = 42\n",
    "N = 10000"
   ]
  },
  {
   "cell_type": "markdown",
   "source": [
    "**Montando o dataset da lista.**"
   ],
   "metadata": {
    "collapsed": false
   }
  },
  {
   "cell_type": "code",
   "execution_count": 3,
   "outputs": [],
   "source": [
    "# Carrega os arquivos csv originais\n",
    "climbing_statistics = pd.read_csv(\"climbing_statistics.csv\")\n",
    "rainier_weather = pd.read_csv(\"Rainier_Weather.csv\")\n",
    "\n",
    "# Junta os arquivos, elimina linhas e colunas desnecessárias e renomeia colunas\n",
    "dados = climbing_statistics.merge(rainier_weather)\n",
    "dados = dados.drop([\"Success Percentage\", \"Battery Voltage AVG\"], axis=1)\n",
    "dados = dados.query(\"Attempted >= Succeeded\")\n",
    "dados = dados.rename(columns={\"Date\": \"Data\", \"Succeeded\": \"Sucessos\", \"Attempted\": \"Tentativas\",\n",
    "                              \"Temperature AVG\": \"Temperatura\", \"Relative Humidity AVG\": \"Umidade_relativa\",\n",
    "                              \"Wind Speed Daily AVG\": \"Velocidade_vento\", \"Wind Direction AVG\": \"Direc_vento\",\n",
    "                              \"Solare Radiation AVG\": \"Radiacao_solar\"})\n",
    "\n",
    "# Aplica as transformações nos dados\n",
    "dados.Temperatura = (dados.Temperatura - 32) * 5 / 9\n",
    "dados[\"Cleaver\"] = dados.Route == \"Disappointment Cleaver\"\n",
    "dados.Data = pd.to_datetime(dados.Data)\n",
    "\n",
    "# Reordena as colunas de acordo com o layout definido para a lista\n",
    "dados = dados.reindex(columns=[\"Data\", \"Sucessos\", \"Route\", \"Tentativas\", \"Temperatura\", \"Umidade_relativa\",\n",
    "                               \"Velocidade_vento\", \"Direc_vento\", \"Radiacao_solar\", \"Cleaver\"])"
   ],
   "metadata": {
    "collapsed": false
   }
  },
  {
   "cell_type": "markdown",
   "source": [
    "___\n",
    "\n",
    "## Contextualização"
   ],
   "metadata": {
    "collapsed": false
   }
  },
  {
   "cell_type": "markdown",
   "source": [
    "\"O Monte Rainier é um estratovulcão, e a montanha mais alta do estado norte-americano de Washington.(. . . ) Sua altitude é de 4392m e, em dias de tempo claro, seu pico permanentemente nevado pode ser facilmente avistado de Seattle e outras cidades da região.\" (*wikipédia*)\n",
    "\n",
    "Um conjunto de dados sobre tentativas de se escalar o Monte Rainier está disponível no site *Kaggle*, e pode ser obtido pelo link [https://www.kaggle.com/codersree/mount-rainier-weather-and-climbing-data/version/3](https://www.kaggle.com/codersree/mount-rainier-weather-and-climbing-data/version/3).\n",
    "\n",
    "Usaremos Modelos Lineares Generalizados para descrever como o número de montanhistas que alcançam o cume do monte em um dado dia (sucessos) varia em função da temperatura média do ar (em graus Celsius).\n",
    "\n",
    "A seguir apresentamos a estrutura do banco de dados."
   ],
   "metadata": {
    "collapsed": false
   }
  },
  {
   "cell_type": "code",
   "execution_count": 4,
   "outputs": [
    {
     "name": "stdout",
     "output_type": "stream",
     "text": [
      "<class 'pandas.core.frame.DataFrame'>\n",
      "Int64Index: 1889 entries, 0 to 1894\n",
      "Data columns (total 10 columns):\n",
      " #   Column            Non-Null Count  Dtype         \n",
      "---  ------            --------------  -----         \n",
      " 0   Data              1889 non-null   datetime64[ns]\n",
      " 1   Sucessos          1889 non-null   int64         \n",
      " 2   Route             1889 non-null   object        \n",
      " 3   Tentativas        1889 non-null   int64         \n",
      " 4   Temperatura       1889 non-null   float64       \n",
      " 5   Umidade_relativa  1889 non-null   float64       \n",
      " 6   Velocidade_vento  1889 non-null   float64       \n",
      " 7   Direc_vento       1889 non-null   float64       \n",
      " 8   Radiacao_solar    1889 non-null   float64       \n",
      " 9   Cleaver           1889 non-null   bool          \n",
      "dtypes: bool(1), datetime64[ns](1), float64(5), int64(2), object(1)\n",
      "memory usage: 149.4+ KB\n"
     ]
    }
   ],
   "source": [
    "dados.info()"
   ],
   "metadata": {
    "collapsed": false
   }
  },
  {
   "cell_type": "markdown",
   "source": [
    "Considere o modelo $$Y_{ij} \\sim Poisson(\\lambda_{ij})\\\\ \\lambda_{ij} = exp(\\alpha + \\beta t_{i}),$$\n",
    "\n",
    "onde $Y_{ij}$ representa o número de montanhistas que atingiram o cume pela rota $j$ no dia $i$, $\\alpha$ e $\\beta$ são parâmetros desconhecidos do modelo e $t_{i}$ indica a temperatura média no dia $i$. Para uma determinada temperatura, o modelo prevê o mesmo valor para todas as rotas. Desconsidere os dados da rota *glacier only - no summit attempt*. Por fim, note que para obter o valor de $y_{ij}$ é preciso somar todos os sucessos registrados no dia $i$ para a rota $j$."
   ],
   "metadata": {
    "collapsed": false
   }
  },
  {
   "cell_type": "code",
   "execution_count": 5,
   "outputs": [],
   "source": [
    "# Desconsidera os dados da rota \"glacier only - no summit attempt\"\n",
    "dados = dados.query(\"Route != 'glacier only - no summit attempt'\")"
   ],
   "metadata": {
    "collapsed": false
   }
  },
  {
   "cell_type": "markdown",
   "metadata": {},
   "source": [
    "## Questão 1)"
   ]
  },
  {
   "cell_type": "markdown",
   "metadata": {},
   "source": [
    "### a)\n",
    "\n",
    "___\n",
    "\n",
    "Conduza um teste de hipóteses por simulação para avaliar a hipótese nula de que a média do número de sucessos obtidos pela rota \"Disappointment Cleaver\" é igual a média das demais rotas (conjuntamente).\n"
   ]
  },
  {
   "cell_type": "markdown",
   "source": [
    "Separando os dois grupos (rota Disappointment Cleaver e demais rotas) e calculando suas médias e quantidades."
   ],
   "metadata": {
    "collapsed": false
   }
  },
  {
   "cell_type": "code",
   "execution_count": 6,
   "outputs": [
    {
     "name": "stdout",
     "output_type": "stream",
     "text": [
      "         Sucessos      \n",
      "             mean count\n",
      "Cleaver                \n",
      "False    2.088696   575\n",
      "True     2.829325  1289\n",
      "\n",
      "Valor absoluto da diferença das médias: 0.7406\n"
     ]
    }
   ],
   "source": [
    "# Agrega os dados\n",
    "cleaver_agg = dados.groupby([\"Cleaver\"]).agg({\"Sucessos\": [\"mean\", \"count\"]})\n",
    "\n",
    "# Obtem médias, quantidades e diferença entre as médias\n",
    "media_sucessos_nao_cleaver = cleaver_agg.iloc[0][\"Sucessos\"][\"mean\"]\n",
    "media_sucessos_cleaver = cleaver_agg.iloc[1][\"Sucessos\"][\"mean\"]\n",
    "quant_cleaver = cleaver_agg.iloc[1][\"Sucessos\"][\"count\"]\n",
    "diferenca_medias_real = abs(media_sucessos_nao_cleaver - media_sucessos_cleaver)\n",
    "\n",
    "# Imprime os valores\n",
    "print(cleaver_agg, end=\"\\n\\n\")\n",
    "print(f\"Valor absoluto da diferença das médias: {diferenca_medias_real:0.4f}\")"
   ],
   "metadata": {
    "collapsed": false
   }
  },
  {
   "cell_type": "markdown",
   "source": [
    "Executando as simulações e obtendo as médias e diferenças a partir 10.000 amostras aleatórias."
   ],
   "metadata": {
    "collapsed": false
   }
  },
  {
   "cell_type": "code",
   "execution_count": 7,
   "outputs": [
    {
     "name": "stdout",
     "output_type": "stream",
     "text": [
      "Maior diferença das médias encontrada: 0.6400\n",
      "Diferença das médias real: 0.7406\n"
     ]
    }
   ],
   "source": [
    "# Roda simulação com 10.000 amostras embaralhadas aleatoriamente\n",
    "diferencas_medias_amostras = []\n",
    "for i in range(N):\n",
    "    lista_sucessos = dados.Sucessos.sample(frac=1)\n",
    "    media_cleaver = np.mean(lista_sucessos[:int(quant_cleaver)])\n",
    "    media_nao_cleaver = np.mean(lista_sucessos[int(quant_cleaver):])\n",
    "    diferencas_medias_amostras.append(abs(media_cleaver - media_nao_cleaver))\n",
    "\n",
    "# Imprime os valores\n",
    "print(f\"Maior diferença das médias encontrada: {max(diferencas_medias_amostras):0.4f}\")\n",
    "print(f\"Diferença das médias real: {diferenca_medias_real:0.4f}\")"
   ],
   "metadata": {
    "collapsed": false
   }
  },
  {
   "cell_type": "markdown",
   "source": [
    "Exibindo o histograma das diferenças de médias encontradas na simulação."
   ],
   "metadata": {
    "collapsed": false
   }
  },
  {
   "cell_type": "code",
   "execution_count": 8,
   "outputs": [
    {
     "data": {
      "text/plain": "<AxesSubplot:ylabel='Density'>"
     },
     "execution_count": 8,
     "metadata": {},
     "output_type": "execute_result"
    },
    {
     "data": {
      "text/plain": "<Figure size 1008x576 with 1 Axes>",
      "image/png": "[encoded data removed]"
     },
     "metadata": {},
     "output_type": "display_data"
    }
   ],
   "source": [
    "ax = sns.histplot(diferencas_medias_amostras, kde=True, stat=\"density\", bins=25)\n",
    "ax.figure.set_size_inches(14, 8)\n",
    "ax.vlines(x=diferenca_medias_real, ymin=0, ymax=7, colors='red', linestyles='dashed')\n",
    "ax"
   ],
   "metadata": {
    "collapsed": false
   }
  },
  {
   "cell_type": "markdown",
   "source": [
    "<font color='red'>**Resposta:**</font>\n",
    "\n",
    "A partir do resultado do teste de hipótese por simulação, analisando-se as diferenças absolutas das médias dos dados sintéticos em relação à observada, conclui-se que a hipótese nula ($H_{0}$) de que a média do número de sucessos obtidos pela rota \"Disappointment Cleaver\" é igual à média das demais rotas (conjuntamente) pode ser descartada."
   ],
   "metadata": {
    "collapsed": false
   }
  },
  {
   "cell_type": "markdown",
   "source": [
    "### b)\n",
    "\n",
    "___\n",
    "\n",
    "Obtenha o estimador de máxima verossimilhança de $\\alpha$ e $\\beta$ considerando o modelo proposto. Dica: Use a função $\\textsf{optim}$ do $\\textbf{\\textsf{R}}$ para achar o ponto que maximiza a log-verossimilhança."
   ],
   "metadata": {
    "collapsed": false
   }
  },
  {
   "cell_type": "markdown",
   "source": [
    "Definindo e minimizando a função negativa de log-verossimilhança (na prática, é o mesmo que maximizar a função positiva)."
   ],
   "metadata": {
    "collapsed": false
   }
  },
  {
   "cell_type": "code",
   "execution_count": 9,
   "outputs": [
    {
     "name": "stdout",
     "output_type": "stream",
     "text": [
      "alfa: 0.8345\n",
      "beta: 0.0236\n"
     ]
    }
   ],
   "source": [
    "def menos_log_verossimilhanca(parametros):\n",
    "    alfa, beta = parametros\n",
    "\n",
    "    lambdas = np.exp(alfa + beta * dados.Temperatura)\n",
    "    log_verossimilhanca = np.sum(poisson.logpmf(dados.Sucessos, lambdas))\n",
    "\n",
    "    return -1 * log_verossimilhanca\n",
    "\n",
    "# Minimiza a função negativa de log verossimilhanca\n",
    "emv = minimize(menos_log_verossimilhanca, np.array([0, 0]))\n",
    "\n",
    "# Obtem e imprime os valores de alfa e beta\n",
    "emv_alfa = emv.x[0]\n",
    "emv_beta = emv.x[1]\n",
    "print(f\"alfa: {emv_alfa:0.4f}\")\n",
    "print(f\"beta: {emv_beta:0.4f}\")"
   ],
   "metadata": {
    "collapsed": false
   }
  },
  {
   "cell_type": "markdown",
   "source": [
    "Comparando o resultado da maximização da função de log-verossimilhança com os valores de alfa e beta gerados pela biblioteca *statsmodels*."
   ],
   "metadata": {
    "collapsed": false
   }
  },
  {
   "cell_type": "code",
   "execution_count": 10,
   "outputs": [
    {
     "name": "stdout",
     "output_type": "stream",
     "text": [
      "Optimization terminated successfully.\n",
      "         Current function value: 3.017568\n",
      "         Iterations 4\n",
      "alfa: 0.8345\n",
      "beta: 0.0236\n"
     ]
    }
   ],
   "source": [
    "# Ajusta o modelo proposto\n",
    "modelo_poisson = smf.poisson(formula=\"Sucessos ~ Temperatura\", data=dados).fit()\n",
    "\n",
    "# Imprime os valores\n",
    "print(f\"alfa: {modelo_poisson.params[0]:0.4f}\")\n",
    "print(f\"beta: {modelo_poisson.params[1]:0.4f}\")"
   ],
   "metadata": {
    "collapsed": false
   }
  },
  {
   "cell_type": "markdown",
   "source": [
    "<font color='red'>**Resposta:**</font>\n",
    "\n",
    "Considerando-se o modelo proposto, o estimador de máxima verossimilhança para $\\alpha$ é 0,8345 e $\\beta$ é 0,0236."
   ],
   "metadata": {
    "collapsed": false
   }
  },
  {
   "cell_type": "markdown",
   "metadata": {},
   "source": [
    "### c)\n",
    "\n",
    "___\n",
    "\n",
    "Estime a distribuição de probabilidade do número de sucessos previstos para um dia em que a temperatura seja de 15 graus."
   ]
  },
  {
   "cell_type": "markdown",
   "source": [
    "Gerando dados sintéticos com os parâmetros obtidos na letra b) e temperatura igual a 15ºC."
   ],
   "metadata": {
    "collapsed": false
   }
  },
  {
   "cell_type": "code",
   "execution_count": 11,
   "outputs": [],
   "source": [
    "amostra = pd.Series(poisson.rvs(mu=np.exp(emv_alfa + emv_beta * 15), size=10000, random_state=SEED))"
   ],
   "metadata": {
    "collapsed": false
   }
  },
  {
   "cell_type": "markdown",
   "source": [
    "Exibindo a tabela de distribuição de probabilidade do número de sucessos previstos com os parâmetros utilizados."
   ],
   "metadata": {
    "collapsed": false
   }
  },
  {
   "cell_type": "code",
   "execution_count": 12,
   "outputs": [
    {
     "data": {
      "text/plain": "Sucessos              0      1     2      3      4      5    6     7    8   \\\nProbabilidades (%)  3.68  12.36  20.4  22.13  18.25  11.99  6.4  3.02  1.2   \n\nSucessos              9     10    11    12  \nProbabilidades (%)  0.39  0.15  0.02  0.01  ",
      "text/html": "<div>\n<style scoped>\n    .dataframe tbody tr th:only-of-type {\n        vertical-align: middle;\n    }\n\n    .dataframe tbody tr th {\n        vertical-align: top;\n    }\n\n    .dataframe thead th {\n        text-align: right;\n    }\n</style>\n<table border=\"1\" class=\"dataframe\">\n  <thead>\n    <tr style=\"text-align: right;\">\n      <th>Sucessos</th>\n      <th>0</th>\n      <th>1</th>\n      <th>2</th>\n      <th>3</th>\n      <th>4</th>\n      <th>5</th>\n      <th>6</th>\n      <th>7</th>\n      <th>8</th>\n      <th>9</th>\n      <th>10</th>\n      <th>11</th>\n      <th>12</th>\n    </tr>\n  </thead>\n  <tbody>\n    <tr>\n      <th>Probabilidades (%)</th>\n      <td>3.68</td>\n      <td>12.36</td>\n      <td>20.4</td>\n      <td>22.13</td>\n      <td>18.25</td>\n      <td>11.99</td>\n      <td>6.4</td>\n      <td>3.02</td>\n      <td>1.2</td>\n      <td>0.39</td>\n      <td>0.15</td>\n      <td>0.02</td>\n      <td>0.01</td>\n    </tr>\n  </tbody>\n</table>\n</div>"
     },
     "execution_count": 12,
     "metadata": {},
     "output_type": "execute_result"
    }
   ],
   "source": [
    "distribuicao_prob = pd.DataFrame((amostra.value_counts(normalize=True) * 100), columns=[\"Probabilidades (%)\"])\n",
    "distribuicao_prob.reset_index(inplace=True)\n",
    "distribuicao_prob = distribuicao_prob.pivot_table(\"index\", columns=\"index\")\n",
    "distribuicao_prob = distribuicao_prob.rename_axis(\"Sucessos\", axis=1)\n",
    "distribuicao_prob"
   ],
   "metadata": {
    "collapsed": false
   }
  },
  {
   "cell_type": "markdown",
   "source": [
    "<font color='red'>**Resposta:**</font>\n",
    "\n",
    "A tabela acima mostra a distribuição de probabilidade de sucessos previstos segundo a amostra gerada, considerando-se a temperatura de 15ºC, e $\\alpha$ e $\\beta$ do modelo ajustado na letra b)."
   ],
   "metadata": {
    "collapsed": false
   }
  },
  {
   "cell_type": "markdown",
   "metadata": {},
   "source": [
    "### d)\n",
    "\n",
    "___\n",
    "\n",
    "Construa um intervalo de confiança de 95% para $exp(\\beta)$ a partir do método de bootstrap não paramétrico. Interprete o resultado considerando o contexto dos dados. Dica: calcule o aumento percentual da média esperada quando a temperatura aumenta em 1 grau Celsius."
   ]
  },
  {
   "cell_type": "markdown",
   "source": [
    "Executando o bootstrap paramétrico 10.000 vezes (N) para o modelo ajustado na letra b) e construindo o intervalo de confiança para os $exp(\\beta)$ obtidos na simulação."
   ],
   "metadata": {
    "collapsed": false
   }
  },
  {
   "cell_type": "code",
   "execution_count": 13,
   "metadata": {},
   "outputs": [],
   "source": [
    "lista_exp_beta = []\n",
    "\n",
    "for _ in range(N):\n",
    "    # Gera a reamostragem com reposição a partir dos dados originais (bootstrap não paramétrico)\n",
    "    amostra = dados.sample(frac=1, replace=True)\n",
    "    # Define a variável independente para ajuste dos novos modelos (necessário para o statsmodels)\n",
    "    X = sm.add_constant(amostra.Temperatura)\n",
    "    # Define a variável dependente\n",
    "    y = amostra.Sucessos\n",
    "    # Ajusta o modelo da amostra, calcula exp(beta) com os parâmetros do novo modelo e armazena o valor\n",
    "    modelo_amostra = sm.GLM(y, X, family=sm.families.Poisson()).fit()\n",
    "    lista_exp_beta.append(np.exp(modelo_amostra.params[1]))"
   ]
  },
  {
   "cell_type": "markdown",
   "source": [
    "Exibindo a tabela com o intervalo de confiança de 95%."
   ],
   "metadata": {
    "collapsed": false
   }
  },
  {
   "cell_type": "code",
   "execution_count": 14,
   "outputs": [
    {
     "data": {
      "text/plain": "Intervalo      2.5%     97.5%\nexp(beta)  1.012724  1.034951",
      "text/html": "<div>\n<style scoped>\n    .dataframe tbody tr th:only-of-type {\n        vertical-align: middle;\n    }\n\n    .dataframe tbody tr th {\n        vertical-align: top;\n    }\n\n    .dataframe thead th {\n        text-align: right;\n    }\n</style>\n<table border=\"1\" class=\"dataframe\">\n  <thead>\n    <tr style=\"text-align: right;\">\n      <th>Intervalo</th>\n      <th>2.5%</th>\n      <th>97.5%</th>\n    </tr>\n  </thead>\n  <tbody>\n    <tr>\n      <th>exp(beta)</th>\n      <td>1.012724</td>\n      <td>1.034951</td>\n    </tr>\n  </tbody>\n</table>\n</div>"
     },
     "execution_count": 14,
     "metadata": {},
     "output_type": "execute_result"
    }
   ],
   "source": [
    "ic_exp_beta = pd.DataFrame(np.quantile(lista_exp_beta, q=[0.025, 0.975]))\n",
    "ic_exp_beta = ic_exp_beta.pivot_table(0, columns=ic_exp_beta.index)\n",
    "ic_exp_beta.columns = [\"2.5%\", \"97.5%\"]\n",
    "ic_exp_beta.index = [\"exp(beta)\"]\n",
    "ic_exp_beta = ic_exp_beta.rename_axis(\"Intervalo\", axis=1)\n",
    "ic_exp_beta"
   ],
   "metadata": {
    "collapsed": false
   }
  },
  {
   "cell_type": "markdown",
   "source": [
    "<font color='red'>**Resposta:**</font>\n",
    "\n",
    "Pelo intervalo de confiança encontrado no boostrap não paramétrico, o aumento de 1 grau na temperatura implica em um acréscimo entre 1,3% e 3,5% no número de sucessos, a um nível de confiança de 95%, considerando-se que $exp(\\beta)$ representa justamente esse crescimento."
   ],
   "metadata": {
    "collapsed": false
   }
  },
  {
   "cell_type": "markdown",
   "metadata": {},
   "source": [
    "### e)\n",
    "\n",
    "___\n",
    "\n",
    "Faça um diagnóstico do modelo via simulação. Para tanto, gere dados sintéticos usando o modelo obtido no item $\\textsf{b)}$, ajuste um novo modelo sobre os dados sintéticos e calcule o Erro Quadrático Médio (MSE). Repita esse procedimento 10000 vezes e compare os MSEs gerados com aquele do modelo obtido em $\\textsf{b)}$. Comente os resultados."
   ]
  },
  {
   "cell_type": "markdown",
   "source": [
    "Executando a simulação 10.000 (N) vezes com dados sintéticos e ajustados em novos modelos, e construindo o intervalo de confiança para os MSE obtidos na simulação."
   ],
   "metadata": {
    "collapsed": false
   }
  },
  {
   "cell_type": "code",
   "execution_count": 15,
   "outputs": [],
   "source": [
    "lista_mse = []\n",
    "# Define a variável independente para ajuste dos novos modelos (necessário para o statsmodels)\n",
    "X = sm.add_constant(dados.Temperatura)\n",
    "# Define os lambdas baseados no modelo ajustado da letra b)\n",
    "lambdas_previstos = modelo_poisson.predict()\n",
    "for _ in range(N):\n",
    "    # Gera a amostra\n",
    "    amostra_sucessos = poisson.rvs(mu=lambdas_previstos, size=dados.shape[0])\n",
    "    # Ajusta o modelo\n",
    "    modelo_amostra = sm.GLM(amostra_sucessos, X, family=sm.families.Poisson()).fit()\n",
    "    # Calcula e armazena os MSE\n",
    "    residuos = amostra_sucessos - modelo_amostra.predict()\n",
    "    lista_mse.append(np.mean(residuos ** 2))"
   ],
   "metadata": {
    "collapsed": false
   }
  },
  {
   "cell_type": "markdown",
   "source": [
    "Exibindo a tabela com o intervalo de confiança de 95%."
   ],
   "metadata": {
    "collapsed": false
   }
  },
  {
   "cell_type": "code",
   "execution_count": 16,
   "outputs": [
    {
     "data": {
      "text/plain": "Intervalo     2.5%     97.5%\nMSE        2.42102  2.782477",
      "text/html": "<div>\n<style scoped>\n    .dataframe tbody tr th:only-of-type {\n        vertical-align: middle;\n    }\n\n    .dataframe tbody tr th {\n        vertical-align: top;\n    }\n\n    .dataframe thead th {\n        text-align: right;\n    }\n</style>\n<table border=\"1\" class=\"dataframe\">\n  <thead>\n    <tr style=\"text-align: right;\">\n      <th>Intervalo</th>\n      <th>2.5%</th>\n      <th>97.5%</th>\n    </tr>\n  </thead>\n  <tbody>\n    <tr>\n      <th>MSE</th>\n      <td>2.42102</td>\n      <td>2.782477</td>\n    </tr>\n  </tbody>\n</table>\n</div>"
     },
     "execution_count": 16,
     "metadata": {},
     "output_type": "execute_result"
    }
   ],
   "source": [
    "ic_mse = pd.DataFrame(np.quantile(lista_mse, q=[0.025, 0.975]))\n",
    "ic_mse = ic_mse.pivot_table(0, columns=ic_mse.index)\n",
    "ic_mse.columns = [\"2.5%\", \"97.5%\"]\n",
    "ic_mse.index = [\"MSE\"]\n",
    "ic_mse = ic_mse.rename_axis(\"Intervalo\", axis=1)\n",
    "ic_mse"
   ],
   "metadata": {
    "collapsed": false
   }
  },
  {
   "cell_type": "markdown",
   "source": [
    "Obtendo o MSE do modelo ajustado da letra b)."
   ],
   "metadata": {
    "collapsed": false
   }
  },
  {
   "cell_type": "code",
   "execution_count": 17,
   "outputs": [
    {
     "name": "stdout",
     "output_type": "stream",
     "text": [
      "MSE do modelo da letra b): 11.20068006299097\n"
     ]
    }
   ],
   "source": [
    "residuos_originais = dados.Sucessos - modelo_poisson.predict()\n",
    "mse = (residuos_originais ** 2).mean()\n",
    "\n",
    "print(f\"MSE do modelo da letra b): {mse}\")"
   ],
   "metadata": {
    "collapsed": false
   }
  },
  {
   "cell_type": "markdown",
   "source": [
    "<font color='red'>**Resposta:**</font>\n",
    "\n",
    "Considerando-se que o valor do MSE para o modelo original ajustado na letra b) está muito fora do intervalo de confiança obtido na simulação com dados sintéticos, pode-se dizer que os dados originais observados não foram gerados pelo modelo ajustado da letra b)."
   ],
   "metadata": {
    "collapsed": false
   }
  },
  {
   "cell_type": "markdown",
   "source": [
    "## Questão bônus\n"
   ],
   "metadata": {
    "collapsed": false
   }
  },
  {
   "cell_type": "markdown",
   "metadata": {},
   "source": [
    "Use o método de integração por Monte Carlo para estimar o volume de uma elipsoide definida por $$\\frac{x^{2}}{2} + \\frac{y^{2}}{3} + \\frac{z^{2}}{4} = 1.$$"
   ]
  },
  {
   "cell_type": "markdown",
   "source": [
    "Calculando o volume da elipsoide."
   ],
   "metadata": {
    "collapsed": false
   }
  },
  {
   "cell_type": "code",
   "execution_count": 18,
   "metadata": {},
   "outputs": [
    {
     "name": "stdout",
     "output_type": "stream",
     "text": [
      "Volume simulação: 100.60224000000001\n",
      "Volume analítico: 100.53096491487338\n"
     ]
    }
   ],
   "source": [
    "# Ajusta o tamanho da amostra\n",
    "tam_amostra = 100000\n",
    "\n",
    "# Define os denominadores na equação que dão a forma da elipsoide\n",
    "a = 2\n",
    "b = 3\n",
    "c = 4\n",
    "\n",
    "# Define as coordenadas aleatórias\n",
    "np.random.seed(SEED)\n",
    "x = np.random.uniform(-a, a, tam_amostra)\n",
    "y = np.random.uniform(-b, b, tam_amostra)\n",
    "z = np.random.uniform(-c, c, tam_amostra)\n",
    "\n",
    "# Calcula as distâncias das coordenadas segundo a fórmula\n",
    "distancia = (x / a) ** 2 + (y / b) ** 2 + (z / c) ** 2\n",
    "\n",
    "# Cria o dataframe com os dados da elipsoide\n",
    "dados_elipsoide = pd.DataFrame(np.stack((x, y, z, distancia), axis=-1))\n",
    "dados_elipsoide.columns = [\"x\", \"y\", \"z\", \"distancia\"]\n",
    "dados_elipsoide[\"dentro\"] = dados_elipsoide.distancia.apply(lambda dist: 1 if dist < 1 else 0)\n",
    "\n",
    "# Calcula o volume da elipsoide\n",
    "partes = 8 * a * b * c\n",
    "dentro = dados_elipsoide.query(\"dentro == 1\").dentro.count()\n",
    "proporcao = dentro / tam_amostra\n",
    "volume = partes * proporcao\n",
    "\n",
    "# Imprime o volume estimado pela simulação e o analítico\n",
    "print(\"Volume simulação:\", volume)\n",
    "print(\"Volume analítico:\", (4/3) * np.pi * a * b * c)"
   ]
  },
  {
   "cell_type": "markdown",
   "source": [
    "Exibindo no gráfico os pontos nas coordenadas obtidos pela integração por simulação de Monte Carlo."
   ],
   "metadata": {
    "collapsed": false
   }
  },
  {
   "cell_type": "code",
   "execution_count": 19,
   "outputs": [
    {
     "data": {
      "text/plain": "<Figure size 1008x576 with 1 Axes>",
      "image/png": "[encoded data removed]"
     },
     "metadata": {},
     "output_type": "display_data"
    }
   ],
   "source": [
    "fig = plt.figure()\n",
    "ax = fig.add_subplot(111, projection='3d')\n",
    "fig.set_size_inches(14, 8)\n",
    "dados_scatter = dados_elipsoide.query(\"dentro == 1\")\n",
    "ax.scatter(dados_scatter.x, dados_scatter.y, dados_scatter.z)\n",
    "plt.show()"
   ],
   "metadata": {
    "collapsed": false
   }
  },
  {
   "cell_type": "markdown",
   "source": [
    "<font color='red'>**Resposta:**</font>\n",
    "\n",
    "O volume da elipsoide obtido pela integração por Monte Carlo, com uma amostra de tamanho 100.000, é de 100,60. Calculando-se analiticamente, pela fórmula $\\frac{4}{3} \\pi abc$, chegou-se ao volume de 100.53."
   ],
   "metadata": {
    "collapsed": false
   }
  },
  {
   "cell_type": "markdown",
   "metadata": {},
   "source": []
  }
 ],
 "metadata": {
  "colab": {
   "collapsed_sections": [],
   "provenance": []
  },
  "kernelspec": {
   "display_name": "Python 3 (ipykernel)",
   "language": "python",
   "name": "python3"
  },
  "language_info": {
   "codemirror_mode": {
    "name": "ipython",
    "version": 3
   },
   "file_extension": ".py",
   "mimetype": "text/x-python",
   "name": "python",
   "nbconvert_exporter": "python",
   "pygments_lexer": "ipython3",
   "version": "3.9.12"
  },
  "vscode": {
   "interpreter": {
    "hash": "963513b9a44aa752ac3676707be1140eb28a90c53b01ec9df701fa8763946c55"
   }
  }
 },
 "nbformat": 4,
 "nbformat_minor": 1
}
