{
 "cells": [
  {
   "cell_type": "markdown",
   "metadata": {
    "id": "Ie-5wE__VSHZ"
   },
   "source": [
    "***\n",
    "# <font color=green size=10>Lista 2: Inferência estatística via simulação</font>\n",
    "***\n",
    "\n",
    "Universidade de Brasília/PPCA\n",
    "\n",
    "Métodos Computacionais Intensivos para Mineração de Dados\n",
    "\n",
    "Prof. Guilherme Souza Rodrigues\n",
    "\n",
    "Aluno: Paulo Célio Soares da Silva Júnior - 22/0005605"
   ]
  },
  {
   "cell_type": "markdown",
   "metadata": {
    "id": "mzp5TnyLWHmj"
   },
   "source": [
    "**Importando bibliotecas.**"
   ]
  },
  {
   "cell_type": "code",
   "execution_count": 1,
   "metadata": {
    "id": "DAQf8dcKVSHe"
   },
   "outputs": [],
   "source": [
    "from scipy import stats, optimize\n",
    "\n",
    "import statsmodels.formula.api as smf\n",
    "import numpy as np\n",
    "import pandas as pd\n",
    "import seaborn as sns"
   ]
  },
  {
   "cell_type": "markdown",
   "metadata": {},
   "source": [
    "**Definindo constantes globais.**"
   ]
  },
  {
   "cell_type": "code",
   "execution_count": 2,
   "metadata": {},
   "outputs": [],
   "source": [
    "# valor da semente padrão\n",
    "SEED = 42"
   ]
  },
  {
   "cell_type": "markdown",
   "source": [
    "**Montando o dataset da lista.**"
   ],
   "metadata": {
    "collapsed": false
   }
  },
  {
   "cell_type": "code",
   "execution_count": 3,
   "outputs": [],
   "source": [
    "# carrega os arquivos csv originais\n",
    "climbing_statistics = pd.read_csv(\"climbing_statistics.csv\")\n",
    "rainier_weather = pd.read_csv(\"Rainier_Weather.csv\")\n",
    "\n",
    "# junta os arquivos, elimina linhas e colunas desnecessárias e renomeia colunas\n",
    "dados_completos = climbing_statistics.merge(rainier_weather, left_on=\"Date\", right_on=\"Date\", how=\"left\")\n",
    "dados_completos = dados_completos.drop([\"Success Percentage\", \"Battery Voltage AVG\"], axis=1)\n",
    "dados_completos = dados_completos.query(\"Attempted >= Succeeded\")\n",
    "dados_completos = dados_completos.rename(columns={\"Date\": \"Data\", \"Succeeded\": \"Sucessos\", \"Attempted\": \"Tentativas\",\n",
    "                              \"Temperature AVG\": \"Temperatura\", \"Relative Humidity AVG\": \"Umidade_relativa\",\n",
    "                              \"Wind Speed Daily AVG\": \"Velocidade_vento\", \"Wind Direction AVG\": \"Direc_vento\",\n",
    "                              \"Solare Radiation AVG\": \"Radiacao_solar\"})\n",
    "\n",
    "# aplica as transformações nos dados\n",
    "dados_completos.Temperatura = (dados_completos.Temperatura - 32) * 5 / 9\n",
    "dados_completos[\"Cleaver\"] = dados_completos.Route == \"Disappointment Cleaver\"\n",
    "dados_completos.Data = pd.to_datetime(dados_completos.Data)\n",
    "\n",
    "# reordena as colunas de acordo com o layout definido para a lista\n",
    "dados_completos = dados_completos.reindex(columns=[\"Data\", \"Sucessos\", \"Route\", \"Tentativas\", \"Temperatura\", \"Umidade_relativa\",\n",
    "                               \"Velocidade_vento\", \"Direc_vento\", \"Radiacao_solar\", \"Cleaver\"])"
   ],
   "metadata": {
    "collapsed": false
   }
  },
  {
   "cell_type": "markdown",
   "source": [
    "___"
   ],
   "metadata": {
    "collapsed": false
   }
  },
  {
   "cell_type": "markdown",
   "source": [
    "\"O Monte Rainier é um estratovulcão, e a montanha mais alta do estado norte-americano de Washington.(. . . ) Sua altitude é de 4392m e, em dias de tempo claro, seu pico permanentemente nevado pode ser facilmente avistado de Seattle e outras cidades da região.\" (*wikipédia*)\n",
    "\n",
    "Um conjunto de dados sobre tentativas de se escalar o Monte Rainier está disponível no site *Kaggle*, e pode ser obtido pelo link [https://www.kaggle.com/codersree/mount-rainier-weather-and-climbing-data/version/3](https://www.kaggle.com/codersree/mount-rainier-weather-and-climbing-data/version/3).\n",
    "\n",
    "Usaremos Modelos Lineares Generalizados para descrever como o número de montanhistas que alcançam o cume do monte em um dado dia (sucessos) varia em função da temperatura média do ar (em graus Celsius).\n",
    "\n",
    "A seguir apresentamos a estrutura do banco de dados."
   ],
   "metadata": {
    "collapsed": false
   }
  },
  {
   "cell_type": "code",
   "execution_count": 4,
   "outputs": [
    {
     "name": "stdout",
     "output_type": "stream",
     "text": [
      "<class 'pandas.core.frame.DataFrame'>\n",
      "Int64Index: 4067 entries, 0 to 4076\n",
      "Data columns (total 10 columns):\n",
      " #   Column            Non-Null Count  Dtype         \n",
      "---  ------            --------------  -----         \n",
      " 0   Data              4067 non-null   datetime64[ns]\n",
      " 1   Sucessos          4067 non-null   int64         \n",
      " 2   Route             4067 non-null   object        \n",
      " 3   Tentativas        4067 non-null   int64         \n",
      " 4   Temperatura       1889 non-null   float64       \n",
      " 5   Umidade_relativa  1889 non-null   float64       \n",
      " 6   Velocidade_vento  1889 non-null   float64       \n",
      " 7   Direc_vento       1889 non-null   float64       \n",
      " 8   Radiacao_solar    1889 non-null   float64       \n",
      " 9   Cleaver           4067 non-null   bool          \n",
      "dtypes: bool(1), datetime64[ns](1), float64(5), int64(2), object(1)\n",
      "memory usage: 321.7+ KB\n"
     ]
    }
   ],
   "source": [
    "dados_completos.info()"
   ],
   "metadata": {
    "collapsed": false
   }
  },
  {
   "cell_type": "markdown",
   "source": [
    "Considere o modelo $$Y_{ij} \\sim Poisson(\\lambda_{ij})\\\\ \\lambda_{ij} = exp(\\alpha + \\beta t_{i}),$$\n",
    "\n",
    "onde $Y_{ij}$ representa o número de montanhistas que atingiram o cume pela rota $j$ no dia $i$, $\\alpha$ e $\\beta$ são parâmetros desconhecidos do modelo e $t_{i}$ indica a temperatura média no dia $i$. Para uma determinada temperatura, o modelo prevê o mesmo valor para todas as rotas. Desconsidere os dados da rota *glacier only - no summit attempt*. Por fim, note que para obter o valor de $y_{ij}$ é preciso somar todos os sucessos registrados no dia $i$ para a rota $j$."
   ],
   "metadata": {
    "collapsed": false
   }
  },
  {
   "cell_type": "code",
   "execution_count": 5,
   "outputs": [],
   "source": [
    "dados = dados_completos.query(\"Route != 'glacier only - no summit attempt'\")"
   ],
   "metadata": {
    "collapsed": false
   }
  },
  {
   "cell_type": "markdown",
   "metadata": {},
   "source": [
    "## Questão 1)"
   ]
  },
  {
   "cell_type": "markdown",
   "metadata": {},
   "source": [
    "### a)\n",
    "\n",
    "___\n",
    "\n",
    "Conduza um teste de hipóteses por simulação para avaliar a hipótese nula de que a média do número de sucessos obtidos pela rota \"Disappointment Cleaver\" é igual a média das demais rotas (conjuntamente).\n"
   ]
  },
  {
   "cell_type": "code",
   "execution_count": 6,
   "metadata": {},
   "outputs": [
    {
     "data": {
      "text/plain": "        Sucessos                \n             sum      mean count\nCleaver                         \nFalse       2668  2.082748  1281\nTrue        8246  3.031618  2720",
      "text/html": "<div>\n<style scoped>\n    .dataframe tbody tr th:only-of-type {\n        vertical-align: middle;\n    }\n\n    .dataframe tbody tr th {\n        vertical-align: top;\n    }\n\n    .dataframe thead tr th {\n        text-align: left;\n    }\n\n    .dataframe thead tr:last-of-type th {\n        text-align: right;\n    }\n</style>\n<table border=\"1\" class=\"dataframe\">\n  <thead>\n    <tr>\n      <th></th>\n      <th colspan=\"3\" halign=\"left\">Sucessos</th>\n    </tr>\n    <tr>\n      <th></th>\n      <th>sum</th>\n      <th>mean</th>\n      <th>count</th>\n    </tr>\n    <tr>\n      <th>Cleaver</th>\n      <th></th>\n      <th></th>\n      <th></th>\n    </tr>\n  </thead>\n  <tbody>\n    <tr>\n      <th>False</th>\n      <td>2668</td>\n      <td>2.082748</td>\n      <td>1281</td>\n    </tr>\n    <tr>\n      <th>True</th>\n      <td>8246</td>\n      <td>3.031618</td>\n      <td>2720</td>\n    </tr>\n  </tbody>\n</table>\n</div>"
     },
     "execution_count": 6,
     "metadata": {},
     "output_type": "execute_result"
    }
   ],
   "source": [
    "dados.groupby([\"Cleaver\"]).agg({\"Sucessos\": [\"sum\", \"mean\", \"count\"]})"
   ]
  },
  {
   "cell_type": "code",
   "execution_count": 7,
   "outputs": [
    {
     "data": {
      "text/plain": "        Sucessos                \n             sum      mean count\nCleaver                         \nFalse       2668  4.214850   633\nTrue        8246  5.093267  1619",
      "text/html": "<div>\n<style scoped>\n    .dataframe tbody tr th:only-of-type {\n        vertical-align: middle;\n    }\n\n    .dataframe tbody tr th {\n        vertical-align: top;\n    }\n\n    .dataframe thead tr th {\n        text-align: left;\n    }\n\n    .dataframe thead tr:last-of-type th {\n        text-align: right;\n    }\n</style>\n<table border=\"1\" class=\"dataframe\">\n  <thead>\n    <tr>\n      <th></th>\n      <th colspan=\"3\" halign=\"left\">Sucessos</th>\n    </tr>\n    <tr>\n      <th></th>\n      <th>sum</th>\n      <th>mean</th>\n      <th>count</th>\n    </tr>\n    <tr>\n      <th>Cleaver</th>\n      <th></th>\n      <th></th>\n      <th></th>\n    </tr>\n  </thead>\n  <tbody>\n    <tr>\n      <th>False</th>\n      <td>2668</td>\n      <td>4.214850</td>\n      <td>633</td>\n    </tr>\n    <tr>\n      <th>True</th>\n      <td>8246</td>\n      <td>5.093267</td>\n      <td>1619</td>\n    </tr>\n  </tbody>\n</table>\n</div>"
     },
     "execution_count": 7,
     "metadata": {},
     "output_type": "execute_result"
    }
   ],
   "source": [
    "dados.query(\"Sucessos > 0\").groupby([\"Cleaver\"]).agg({\"Sucessos\": [\"sum\", \"mean\", \"count\"]})"
   ],
   "metadata": {
    "collapsed": false
   }
  },
  {
   "cell_type": "code",
   "execution_count": 8,
   "outputs": [
    {
     "data": {
      "text/plain": "0.8784169999999998"
     },
     "execution_count": 8,
     "metadata": {},
     "output_type": "execute_result"
    }
   ],
   "source": [
    "diferenca_real = abs(4.214850 - 5.093267)\n",
    "diferenca_real"
   ],
   "metadata": {
    "collapsed": false
   }
  },
  {
   "cell_type": "code",
   "execution_count": 9,
   "outputs": [],
   "source": [
    "lista = dados.query(\"Sucessos > 0\").Sucessos.tolist()\n",
    "diferencas = []\n",
    "\n",
    "for i in range(1001):\n",
    "    lista_sorteada = np.random.choice(lista, size=1619 + 633, replace=False)\n",
    "    media_true = np.mean(lista_sorteada[:1619])\n",
    "    media_false = np.mean(lista_sorteada[1620:])\n",
    "    diferencas.append(abs(media_true - media_false))"
   ],
   "metadata": {
    "collapsed": false
   }
  },
  {
   "cell_type": "code",
   "execution_count": 10,
   "outputs": [
    {
     "data": {
      "text/plain": "<AxesSubplot:ylabel='Density'>"
     },
     "execution_count": 10,
     "metadata": {},
     "output_type": "execute_result"
    },
    {
     "data": {
      "text/plain": "<Figure size 1008x576 with 1 Axes>",
      "image/png": "[encoded data removed]"
     },
     "metadata": {},
     "output_type": "display_data"
    }
   ],
   "source": [
    "ax = sns.histplot(diferencas, kde=True, stat=\"density\")\n",
    "ax.figure.set_size_inches(14, 8)\n",
    "ax.vlines(x=diferenca_real, ymin=0, ymax=6, colors='red', linestyles='dashed')\n",
    "ax"
   ],
   "metadata": {
    "collapsed": false
   }
  },
  {
   "cell_type": "markdown",
   "source": [
    "<font color='red'>**Resposta:**</font>"
   ],
   "metadata": {
    "collapsed": false
   }
  },
  {
   "cell_type": "markdown",
   "source": [
    "### b)\n",
    "\n",
    "___\n",
    "\n",
    "Obtenha o estimador de máxima verossimilhança de $\\alpha$ e $\\beta$ considerando o modelo proposto. Dica: Use a função $\\textsf{optim}$ do $\\textbf{\\textsf{R}}$ para achar o ponto que maximiza a log-verossimilhança."
   ],
   "metadata": {
    "collapsed": false
   }
  },
  {
   "cell_type": "code",
   "execution_count": 11,
   "outputs": [
    {
     "data": {
      "text/plain": "        Data  Temperatura  Sucessos\n0 2014-09-23     0.476296         0\n1 2014-09-24    -1.276157         0\n2 2014-09-25    -2.875694         8\n3 2014-09-26    -2.089815        19\n4 2014-09-27     0.732639        25",
      "text/html": "<div>\n<style scoped>\n    .dataframe tbody tr th:only-of-type {\n        vertical-align: middle;\n    }\n\n    .dataframe tbody tr th {\n        vertical-align: top;\n    }\n\n    .dataframe thead th {\n        text-align: right;\n    }\n</style>\n<table border=\"1\" class=\"dataframe\">\n  <thead>\n    <tr style=\"text-align: right;\">\n      <th></th>\n      <th>Data</th>\n      <th>Temperatura</th>\n      <th>Sucessos</th>\n    </tr>\n  </thead>\n  <tbody>\n    <tr>\n      <th>0</th>\n      <td>2014-09-23</td>\n      <td>0.476296</td>\n      <td>0</td>\n    </tr>\n    <tr>\n      <th>1</th>\n      <td>2014-09-24</td>\n      <td>-1.276157</td>\n      <td>0</td>\n    </tr>\n    <tr>\n      <th>2</th>\n      <td>2014-09-25</td>\n      <td>-2.875694</td>\n      <td>8</td>\n    </tr>\n    <tr>\n      <th>3</th>\n      <td>2014-09-26</td>\n      <td>-2.089815</td>\n      <td>19</td>\n    </tr>\n    <tr>\n      <th>4</th>\n      <td>2014-09-27</td>\n      <td>0.732639</td>\n      <td>25</td>\n    </tr>\n  </tbody>\n</table>\n</div>"
     },
     "execution_count": 11,
     "metadata": {},
     "output_type": "execute_result"
    }
   ],
   "source": [
    "dados_poisson = dados.groupby([\"Data\", \"Temperatura\"]).Sucessos.sum()\n",
    "dados_poisson = pd.DataFrame(dados_poisson)\n",
    "dados_poisson.reset_index(inplace=True)\n",
    "\n",
    "dados_poisson.head()"
   ],
   "metadata": {
    "collapsed": false
   }
  },
  {
   "cell_type": "code",
   "execution_count": 18,
   "outputs": [],
   "source": [
    "def menos_somatorio_log_verossimilhanca(parametros):\n",
    "    alfa, beta = parametros\n",
    "\n",
    "    lambda_previsto = np.exp(alfa + beta * dados_poisson.Temperatura)\n",
    "    log_verossimilhanca = stats.poisson.logpmf(dados_poisson.Sucessos, lambda_previsto)\n",
    "\n",
    "    return -1 * np.sum(log_verossimilhanca)"
   ],
   "metadata": {
    "collapsed": false
   }
  },
  {
   "cell_type": "code",
   "execution_count": 17,
   "outputs": [
    {
     "name": "stdout",
     "output_type": "stream",
     "text": [
      "Alfa: 2.7431\n",
      "Beta: 0.1122\n"
     ]
    }
   ],
   "source": [
    "# Minimiza a função negativa de log verossimilhanca\n",
    "emv = optimize.minimize(menos_somatorio_log_verossimilhanca, np.array([0, 0]))\n",
    "\n",
    "# Obtem e imprime os valores de alfa e beta\n",
    "emv_alfa = emv.x[0]\n",
    "emv_beta = emv.x[1]\n",
    "print(f\"Alfa: {emv_alfa:0.4f}\")\n",
    "print(f\"Beta: {emv_beta:0.4f}\")"
   ],
   "metadata": {
    "collapsed": false
   }
  },
  {
   "cell_type": "markdown",
   "source": [
    "Comparando o resultado da maximização da função de log-verossimilhança com os valores de alfa e beta gerados pela biblioteca statsmodels."
   ],
   "metadata": {
    "collapsed": false
   }
  },
  {
   "cell_type": "code",
   "execution_count": 14,
   "outputs": [
    {
     "name": "stdout",
     "output_type": "stream",
     "text": [
      "Optimization terminated successfully.\n",
      "         Current function value: 14.276702\n",
      "         Iterations 6\n",
      "Alfa: 2.7431\n",
      "Beta: 0.1122\n"
     ]
    }
   ],
   "source": [
    "modelo_poisson = smf.poisson(formula=\"Sucessos ~ Temperatura\", data=dados_poisson)\n",
    "modelo_poisson_ajustado = modelo_poisson.fit()\n",
    "\n",
    "print(f\"Alfa: {modelo_poisson_ajustado.params[0]:0.4f}\")\n",
    "print(f\"Beta: {modelo_poisson_ajustado.params[1]:0.4f}\")"
   ],
   "metadata": {
    "collapsed": false
   }
  },
  {
   "cell_type": "markdown",
   "source": [
    "<font color='red'>**Resposta:**</font>\n",
    "\n",
    "O estimador de máxima verossimilhança para $\\alpha$ é 2,7431 e $\\beta$ é 0,1122."
   ],
   "metadata": {
    "collapsed": false
   }
  },
  {
   "cell_type": "markdown",
   "metadata": {},
   "source": [
    "### c)\n",
    "\n",
    "___\n",
    "\n",
    "Estime a distribuição de probabilidade do número de sucessos previstos para um dia em que a temperatura seja de 15 graus."
   ]
  },
  {
   "cell_type": "code",
   "execution_count": 15,
   "outputs": [
    {
     "name": "stdout",
     "output_type": "stream",
     "text": [
      "83\n"
     ]
    }
   ],
   "source": [
    "print(int(np.exp(emv_alfa + emv_beta * 15)))"
   ],
   "metadata": {
    "collapsed": false
   }
  },
  {
   "cell_type": "markdown",
   "metadata": {},
   "source": [
    "### d)\n",
    "\n",
    "___\n",
    "\n",
    "Construa um intervalo de confiança de 95% para $exp(\\beta)$ a partir do método de bootstrap paramétrico. Interprete o resultado considerando o contexto dos dados. Dica: calcule o aumento percentual da média esperada quando a temperatura aumenta em 1 grau Celsius."
   ]
  },
  {
   "cell_type": "code",
   "execution_count": 15,
   "metadata": {},
   "outputs": [],
   "source": []
  },
  {
   "cell_type": "markdown",
   "metadata": {},
   "source": [
    "### e)\n",
    "\n",
    "___\n",
    "\n",
    "Faça um diagnóstico do modelo via simulação. Para tanto, gere dados sintéticos usando o modelo obtido no item $\\textsf{b)}$, ajuste um novo modelo sobre os dados sintéticos e calcule o Erro quadrático médio(MSE). Repita esse procedimento 10000 vezes e compare os MSEs gerados com aquele do modelo obtidoem $\\textsf{b)}$. Comente os resultados."
   ]
  },
  {
   "cell_type": "markdown",
   "source": [
    "## Questão bônus\n"
   ],
   "metadata": {
    "collapsed": false
   }
  },
  {
   "cell_type": "markdown",
   "metadata": {},
   "source": [
    "Use o método de integração por Monte Carlo para estimar o volume de uma elipsoide definida por $$\\frac{x^{2}}{2} + \\frac{y^{2}}{3} + \\frac{z^{2}}{4} = 1.$$"
   ]
  },
  {
   "cell_type": "code",
   "execution_count": 15,
   "metadata": {},
   "outputs": [],
   "source": []
  },
  {
   "cell_type": "markdown",
   "metadata": {},
   "source": []
  }
 ],
 "metadata": {
  "colab": {
   "collapsed_sections": [],
   "provenance": []
  },
  "kernelspec": {
   "display_name": "Python 3 (ipykernel)",
   "language": "python",
   "name": "python3"
  },
  "language_info": {
   "codemirror_mode": {
    "name": "ipython",
    "version": 3
   },
   "file_extension": ".py",
   "mimetype": "text/x-python",
   "name": "python",
   "nbconvert_exporter": "python",
   "pygments_lexer": "ipython3",
   "version": "3.9.12"
  },
  "vscode": {
   "interpreter": {
    "hash": "963513b9a44aa752ac3676707be1140eb28a90c53b01ec9df701fa8763946c55"
   }
  }
 },
 "nbformat": 4,
 "nbformat_minor": 1
}
