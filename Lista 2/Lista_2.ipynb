{
 "cells": [
  {
   "cell_type": "markdown",
   "metadata": {
    "id": "Ie-5wE__VSHZ"
   },
   "source": [
    "***\n",
    "# <font color=green size=10>Lista 2: Inferência estatística via simulação</font>\n",
    "***\n",
    "\n",
    "Universidade de Brasília/PPCA\n",
    "\n",
    "Métodos Computacionais Intensivos para Mineração de Dados\n",
    "\n",
    "Prof. Guilherme Souza Rodrigues\n",
    "\n",
    "Aluno: Paulo Célio Soares da Silva Júnior - 22/0005605"
   ]
  },
  {
   "cell_type": "markdown",
   "metadata": {
    "id": "mzp5TnyLWHmj"
   },
   "source": [
    "**Importando bibliotecas.**"
   ]
  },
  {
   "cell_type": "code",
   "execution_count": 1,
   "metadata": {
    "id": "DAQf8dcKVSHe"
   },
   "outputs": [],
   "source": [
    "from scipy import stats\n",
    "from scipy.optimize import minimize\n",
    "\n",
    "import statsmodels.api as sm\n",
    "import numpy as np\n",
    "import pandas as pd\n",
    "import seaborn as sns"
   ]
  },
  {
   "cell_type": "markdown",
   "metadata": {},
   "source": [
    "**Definindo constantes globais.**"
   ]
  },
  {
   "cell_type": "code",
   "execution_count": 2,
   "metadata": {},
   "outputs": [],
   "source": [
    "# valor da semente padrão\n",
    "SEED = 42"
   ]
  },
  {
   "cell_type": "markdown",
   "source": [
    "**Montando o dataset da lista.**"
   ],
   "metadata": {
    "collapsed": false
   }
  },
  {
   "cell_type": "code",
   "execution_count": 3,
   "outputs": [],
   "source": [
    "# carrega os arquivos csv originais\n",
    "climbing_statistics = pd.read_csv(\"climbing_statistics.csv\")\n",
    "rainier_weather = pd.read_csv(\"Rainier_Weather.csv\")\n",
    "\n",
    "# junta os arquivos, elimina linhas e colunas desnecessárias e renomeia colunas\n",
    "dados_completos = climbing_statistics.merge(rainier_weather, left_on=\"Date\", right_on=\"Date\", how=\"left\")\n",
    "dados_completos = dados_completos.drop([\"Success Percentage\", \"Battery Voltage AVG\"], axis=1)\n",
    "dados_completos = dados_completos.query(\"Attempted >= Succeeded\")\n",
    "dados_completos = dados_completos.rename(columns={\"Date\": \"Data\", \"Succeeded\": \"Sucessos\", \"Attempted\": \"Tentativas\",\n",
    "                              \"Temperature AVG\": \"Temperatura\", \"Relative Humidity AVG\": \"Umidade_relativa\",\n",
    "                              \"Wind Speed Daily AVG\": \"Velocidade_vento\", \"Wind Direction AVG\": \"Direc_vento\",\n",
    "                              \"Solare Radiation AVG\": \"Radiacao_solar\"})\n",
    "\n",
    "# aplica as transformações nos dados\n",
    "dados_completos.Temperatura = (dados_completos.Temperatura - 32) * 5 / 9\n",
    "dados_completos[\"Cleaver\"] = dados_completos.Route == \"Disappointment Cleaver\"\n",
    "dados_completos.Data = pd.to_datetime(dados_completos.Data)\n",
    "\n",
    "# reordena as colunas de acordo com o layout definido para a lista\n",
    "dados_completos = dados_completos.reindex(columns=[\"Data\", \"Sucessos\", \"Route\", \"Tentativas\", \"Temperatura\", \"Umidade_relativa\",\n",
    "                               \"Velocidade_vento\", \"Direc_vento\", \"Radiacao_solar\", \"Cleaver\"])"
   ],
   "metadata": {
    "collapsed": false
   }
  },
  {
   "cell_type": "markdown",
   "source": [
    "___"
   ],
   "metadata": {
    "collapsed": false
   }
  },
  {
   "cell_type": "markdown",
   "source": [
    "\"O Monte Rainier é um estratovulcão, e a montanha mais alta do estado norte-americano de Washington.(. . . ) Sua altitude é de 4392m e, em dias de tempo claro, seu pico permanentemente nevado pode ser facilmente avistado de Seattle e outras cidades da região.\" (*wikipédia*)\n",
    "\n",
    "Um conjunto de dados sobre tentativas de se escalar o Monte Rainier está disponível no site *Kaggle*, e pode ser obtido pelo link [https://www.kaggle.com/codersree/mount-rainier-weather-and-climbing-data/version/3](https://www.kaggle.com/codersree/mount-rainier-weather-and-climbing-data/version/3).\n",
    "\n",
    "Usaremos Modelos Lineares Generalizados para descrever como o número de montanhistas que alcançam o cume do monte em um dado dia (sucessos) varia em função da temperatura média do ar (em graus Celsius).\n",
    "\n",
    "A seguir apresentamos a estrutura do banco de dados."
   ],
   "metadata": {
    "collapsed": false
   }
  },
  {
   "cell_type": "code",
   "execution_count": 4,
   "outputs": [
    {
     "name": "stdout",
     "output_type": "stream",
     "text": [
      "<class 'pandas.core.frame.DataFrame'>\n",
      "Int64Index: 4067 entries, 0 to 4076\n",
      "Data columns (total 10 columns):\n",
      " #   Column            Non-Null Count  Dtype         \n",
      "---  ------            --------------  -----         \n",
      " 0   Data              4067 non-null   datetime64[ns]\n",
      " 1   Sucessos          4067 non-null   int64         \n",
      " 2   Route             4067 non-null   object        \n",
      " 3   Tentativas        4067 non-null   int64         \n",
      " 4   Temperatura       1889 non-null   float64       \n",
      " 5   Umidade_relativa  1889 non-null   float64       \n",
      " 6   Velocidade_vento  1889 non-null   float64       \n",
      " 7   Direc_vento       1889 non-null   float64       \n",
      " 8   Radiacao_solar    1889 non-null   float64       \n",
      " 9   Cleaver           4067 non-null   bool          \n",
      "dtypes: bool(1), datetime64[ns](1), float64(5), int64(2), object(1)\n",
      "memory usage: 321.7+ KB\n"
     ]
    }
   ],
   "source": [
    "dados_completos.info()"
   ],
   "metadata": {
    "collapsed": false
   }
  },
  {
   "cell_type": "markdown",
   "source": [
    "Considere o modelo $$Y_{ij} \\sim Poisson(\\lambda_{ij})\\\\ \\lambda_{ij} = exp(\\alpha + \\beta t_{i}),$$\n",
    "\n",
    "onde $Y_{ij}$ representa o número de montanhistas que atingiram o cume pela rota $j$ no dia $i$, $\\alpha$ e $\\beta$ são parâmetros desconhecidos do modelo e $t_{i}$ indica a temperatura média no dia $i$. Para uma determinada temperatura, o modelo prevê o mesmo valor para todas as rotas. Desconsidere os dados da rota *glacier only - no summit attempt*. Por fim, note que para obter o valor de $y_{ij}$ é preciso somar todos os sucessos registrados no dia $i$ para a rota $j$."
   ],
   "metadata": {
    "collapsed": false
   }
  },
  {
   "cell_type": "code",
   "execution_count": 5,
   "outputs": [],
   "source": [
    "dados = dados_completos.query(\"Route != 'glacier only - no summit attempt'\")"
   ],
   "metadata": {
    "collapsed": false
   }
  },
  {
   "cell_type": "markdown",
   "metadata": {},
   "source": [
    "## Questão 1)"
   ]
  },
  {
   "cell_type": "markdown",
   "metadata": {},
   "source": [
    "### a)\n",
    "\n",
    "___\n",
    "\n",
    "Conduza um teste de hipóteses por simulação para avaliar a hipótese nula de que a média do número de sucessos obtidos pela rota \"Disappointment Cleaver\" é igual a média das demais rotas (conjuntamente).\n"
   ]
  },
  {
   "cell_type": "code",
   "execution_count": 6,
   "metadata": {},
   "outputs": [
    {
     "data": {
      "text/plain": "        Sucessos                \n             sum      mean count\nCleaver                         \nFalse       2668  2.082748  1281\nTrue        8246  3.031618  2720",
      "text/html": "<div>\n<style scoped>\n    .dataframe tbody tr th:only-of-type {\n        vertical-align: middle;\n    }\n\n    .dataframe tbody tr th {\n        vertical-align: top;\n    }\n\n    .dataframe thead tr th {\n        text-align: left;\n    }\n\n    .dataframe thead tr:last-of-type th {\n        text-align: right;\n    }\n</style>\n<table border=\"1\" class=\"dataframe\">\n  <thead>\n    <tr>\n      <th></th>\n      <th colspan=\"3\" halign=\"left\">Sucessos</th>\n    </tr>\n    <tr>\n      <th></th>\n      <th>sum</th>\n      <th>mean</th>\n      <th>count</th>\n    </tr>\n    <tr>\n      <th>Cleaver</th>\n      <th></th>\n      <th></th>\n      <th></th>\n    </tr>\n  </thead>\n  <tbody>\n    <tr>\n      <th>False</th>\n      <td>2668</td>\n      <td>2.082748</td>\n      <td>1281</td>\n    </tr>\n    <tr>\n      <th>True</th>\n      <td>8246</td>\n      <td>3.031618</td>\n      <td>2720</td>\n    </tr>\n  </tbody>\n</table>\n</div>"
     },
     "execution_count": 6,
     "metadata": {},
     "output_type": "execute_result"
    }
   ],
   "source": [
    "dados.groupby([\"Cleaver\"]).agg({\"Sucessos\": [\"sum\", \"mean\", \"count\"]})"
   ]
  },
  {
   "cell_type": "code",
   "execution_count": 7,
   "outputs": [
    {
     "data": {
      "text/plain": "        Sucessos                \n             sum      mean count\nCleaver                         \nFalse       2668  4.214850   633\nTrue        8246  5.093267  1619",
      "text/html": "<div>\n<style scoped>\n    .dataframe tbody tr th:only-of-type {\n        vertical-align: middle;\n    }\n\n    .dataframe tbody tr th {\n        vertical-align: top;\n    }\n\n    .dataframe thead tr th {\n        text-align: left;\n    }\n\n    .dataframe thead tr:last-of-type th {\n        text-align: right;\n    }\n</style>\n<table border=\"1\" class=\"dataframe\">\n  <thead>\n    <tr>\n      <th></th>\n      <th colspan=\"3\" halign=\"left\">Sucessos</th>\n    </tr>\n    <tr>\n      <th></th>\n      <th>sum</th>\n      <th>mean</th>\n      <th>count</th>\n    </tr>\n    <tr>\n      <th>Cleaver</th>\n      <th></th>\n      <th></th>\n      <th></th>\n    </tr>\n  </thead>\n  <tbody>\n    <tr>\n      <th>False</th>\n      <td>2668</td>\n      <td>4.214850</td>\n      <td>633</td>\n    </tr>\n    <tr>\n      <th>True</th>\n      <td>8246</td>\n      <td>5.093267</td>\n      <td>1619</td>\n    </tr>\n  </tbody>\n</table>\n</div>"
     },
     "execution_count": 7,
     "metadata": {},
     "output_type": "execute_result"
    }
   ],
   "source": [
    "dados.query(\"Sucessos > 0\").groupby([\"Cleaver\"]).agg({\"Sucessos\": [\"sum\", \"mean\", \"count\"]})"
   ],
   "metadata": {
    "collapsed": false
   }
  },
  {
   "cell_type": "code",
   "execution_count": 8,
   "outputs": [
    {
     "data": {
      "text/plain": "0.8784169999999998"
     },
     "execution_count": 8,
     "metadata": {},
     "output_type": "execute_result"
    }
   ],
   "source": [
    "diferenca_real = abs(4.214850 - 5.093267)\n",
    "diferenca_real"
   ],
   "metadata": {
    "collapsed": false
   }
  },
  {
   "cell_type": "code",
   "execution_count": 9,
   "outputs": [],
   "source": [
    "lista = dados.query(\"Sucessos > 0\").Sucessos.tolist()\n",
    "diferencas = []\n",
    "\n",
    "for i in range(1001):\n",
    "    lista_sorteada = np.random.choice(lista, size=1619 + 633, replace=False)\n",
    "    media_true = np.mean(lista_sorteada[:1619])\n",
    "    media_false = np.mean(lista_sorteada[1620:])\n",
    "    diferencas.append(abs(media_true - media_false))"
   ],
   "metadata": {
    "collapsed": false
   }
  },
  {
   "cell_type": "code",
   "execution_count": 10,
   "outputs": [
    {
     "data": {
      "text/plain": "<AxesSubplot:ylabel='Density'>"
     },
     "execution_count": 10,
     "metadata": {},
     "output_type": "execute_result"
    },
    {
     "data": {
      "text/plain": "<Figure size 1008x576 with 1 Axes>",
      "image/png": "[encoded data removed]"
     },
     "metadata": {},
     "output_type": "display_data"
    }
   ],
   "source": [
    "ax = sns.histplot(diferencas, kde=True, stat=\"density\")\n",
    "ax.figure.set_size_inches(14, 8)\n",
    "ax.vlines(x=diferenca_real, ymin=0, ymax=6, colors='red', linestyles='dashed')\n",
    "ax"
   ],
   "metadata": {
    "collapsed": false
   }
  },
  {
   "cell_type": "code",
   "execution_count": 11,
   "outputs": [
    {
     "name": "stdout",
     "output_type": "stream",
     "text": [
      "50\n"
     ]
    },
    {
     "data": {
      "text/plain": "5.82"
     },
     "execution_count": 11,
     "metadata": {},
     "output_type": "execute_result"
    }
   ],
   "source": [
    "lista_cleaver_true = np.random.choice(dados.query(\"Sucessos > 0 and Cleaver == True\").Sucessos.tolist(), size=50)\n",
    "print(len(lista_cleaver_true))\n",
    "medias_cleaver_true = np.mean(lista_cleaver_true)\n",
    "medias_cleaver_true"
   ],
   "metadata": {
    "collapsed": false
   }
  },
  {
   "cell_type": "code",
   "execution_count": 12,
   "outputs": [
    {
     "name": "stdout",
     "output_type": "stream",
     "text": [
      "50\n"
     ]
    },
    {
     "data": {
      "text/plain": "4.5"
     },
     "execution_count": 12,
     "metadata": {},
     "output_type": "execute_result"
    }
   ],
   "source": [
    "lista_cleaver_false = np.random.choice(dados.query(\"Sucessos > 0 and Cleaver == False\").Sucessos.tolist(), size=50)\n",
    "print(len(lista_cleaver_false))\n",
    "\n",
    "medias_cleaver_false = np.mean(lista_cleaver_false)\n",
    "medias_cleaver_false"
   ],
   "metadata": {
    "collapsed": false
   }
  },
  {
   "cell_type": "code",
   "execution_count": 13,
   "outputs": [
    {
     "data": {
      "text/plain": "1.3200000000000003"
     },
     "execution_count": 13,
     "metadata": {},
     "output_type": "execute_result"
    }
   ],
   "source": [
    "diferencas_medias_cleaver = abs(medias_cleaver_true - medias_cleaver_false)\n",
    "diferencas_medias_cleaver"
   ],
   "metadata": {
    "collapsed": false
   }
  },
  {
   "cell_type": "code",
   "execution_count": 14,
   "outputs": [
    {
     "data": {
      "text/plain": "100"
     },
     "execution_count": 14,
     "metadata": {},
     "output_type": "execute_result"
    }
   ],
   "source": [
    "lista = list(lista_cleaver_false) + list(lista_cleaver_true)\n",
    "len(lista)"
   ],
   "metadata": {
    "collapsed": false
   }
  },
  {
   "cell_type": "code",
   "execution_count": 15,
   "outputs": [],
   "source": [
    "diferencas = []\n",
    "\n",
    "for i in range(1001):\n",
    "    lista_sorteada = np.random.choice(lista, size=100, replace=False)\n",
    "    media_true = np.mean(lista_sorteada[:50])\n",
    "    media_false = np.mean(lista_sorteada[50:])\n",
    "    diferencas.append(abs(media_true - media_false))"
   ],
   "metadata": {
    "collapsed": false
   }
  },
  {
   "cell_type": "code",
   "execution_count": 16,
   "outputs": [
    {
     "data": {
      "text/plain": "<AxesSubplot:ylabel='Density'>"
     },
     "execution_count": 16,
     "metadata": {},
     "output_type": "execute_result"
    },
    {
     "data": {
      "text/plain": "<Figure size 1008x576 with 1 Axes>",
      "image/png": "[encoded data removed]"
     },
     "metadata": {},
     "output_type": "display_data"
    }
   ],
   "source": [
    "ax = sns.histplot(diferencas, kde=True, stat=\"density\")\n",
    "ax.figure.set_size_inches(14, 8)\n",
    "ax.vlines(x=diferencas_medias_cleaver, ymin=0, ymax=6, colors='red', linestyles='dashed')\n",
    "ax"
   ],
   "metadata": {
    "collapsed": false
   }
  },
  {
   "cell_type": "markdown",
   "source": [
    "<font color='red'>**Resposta:**</font>"
   ],
   "metadata": {
    "collapsed": false
   }
  },
  {
   "cell_type": "markdown",
   "source": [
    "### b)\n",
    "\n",
    "___\n",
    "\n",
    "Obtenha o estimador de máxima verossimilhança de $\\alpha$ e $\\beta$ considerando o modelo proposto. Dica: Use a função $\\textsf{optim}$ do $\\textbf{\\textsf{R}}$ para achar o ponto que maximiza a log-verossimilhança."
   ],
   "metadata": {
    "collapsed": false
   }
  },
  {
   "cell_type": "code",
   "execution_count": 86,
   "outputs": [
    {
     "data": {
      "text/plain": "          Data                   Route  Temperatura  Sucessos\n0   2014-09-23  Disappointment Cleaver     0.476296         0\n1   2014-09-24  Disappointment Cleaver    -1.276157         0\n2   2014-09-25  Disappointment Cleaver    -2.875694         8\n3   2014-09-26  Disappointment Cleaver    -2.089815        19\n4   2014-09-27  Disappointment Cleaver     0.732639        25\n..         ...                     ...          ...       ...\n462 2015-10-09  Disappointment Cleaver     3.478009         0\n463 2015-10-13           Little Tahoma     4.988657         0\n464 2015-10-15  Disappointment Cleaver     8.026620         0\n465 2015-11-21  Disappointment Cleaver    -0.388889         0\n466 2015-11-27  Disappointment Cleaver    -3.154630         0\n\n[467 rows x 4 columns]",
      "text/html": "<div>\n<style scoped>\n    .dataframe tbody tr th:only-of-type {\n        vertical-align: middle;\n    }\n\n    .dataframe tbody tr th {\n        vertical-align: top;\n    }\n\n    .dataframe thead th {\n        text-align: right;\n    }\n</style>\n<table border=\"1\" class=\"dataframe\">\n  <thead>\n    <tr style=\"text-align: right;\">\n      <th></th>\n      <th>Data</th>\n      <th>Route</th>\n      <th>Temperatura</th>\n      <th>Sucessos</th>\n    </tr>\n  </thead>\n  <tbody>\n    <tr>\n      <th>0</th>\n      <td>2014-09-23</td>\n      <td>Disappointment Cleaver</td>\n      <td>0.476296</td>\n      <td>0</td>\n    </tr>\n    <tr>\n      <th>1</th>\n      <td>2014-09-24</td>\n      <td>Disappointment Cleaver</td>\n      <td>-1.276157</td>\n      <td>0</td>\n    </tr>\n    <tr>\n      <th>2</th>\n      <td>2014-09-25</td>\n      <td>Disappointment Cleaver</td>\n      <td>-2.875694</td>\n      <td>8</td>\n    </tr>\n    <tr>\n      <th>3</th>\n      <td>2014-09-26</td>\n      <td>Disappointment Cleaver</td>\n      <td>-2.089815</td>\n      <td>19</td>\n    </tr>\n    <tr>\n      <th>4</th>\n      <td>2014-09-27</td>\n      <td>Disappointment Cleaver</td>\n      <td>0.732639</td>\n      <td>25</td>\n    </tr>\n    <tr>\n      <th>...</th>\n      <td>...</td>\n      <td>...</td>\n      <td>...</td>\n      <td>...</td>\n    </tr>\n    <tr>\n      <th>462</th>\n      <td>2015-10-09</td>\n      <td>Disappointment Cleaver</td>\n      <td>3.478009</td>\n      <td>0</td>\n    </tr>\n    <tr>\n      <th>463</th>\n      <td>2015-10-13</td>\n      <td>Little Tahoma</td>\n      <td>4.988657</td>\n      <td>0</td>\n    </tr>\n    <tr>\n      <th>464</th>\n      <td>2015-10-15</td>\n      <td>Disappointment Cleaver</td>\n      <td>8.026620</td>\n      <td>0</td>\n    </tr>\n    <tr>\n      <th>465</th>\n      <td>2015-11-21</td>\n      <td>Disappointment Cleaver</td>\n      <td>-0.388889</td>\n      <td>0</td>\n    </tr>\n    <tr>\n      <th>466</th>\n      <td>2015-11-27</td>\n      <td>Disappointment Cleaver</td>\n      <td>-3.154630</td>\n      <td>0</td>\n    </tr>\n  </tbody>\n</table>\n<p>467 rows × 4 columns</p>\n</div>"
     },
     "execution_count": 86,
     "metadata": {},
     "output_type": "execute_result"
    }
   ],
   "source": [
    "dados_poisson = dados.query(\"not Temperatura.isnull()\").groupby([\"Data\", \"Route\", \"Temperatura\"]).Sucessos.sum()\n",
    "dados_poisson = pd.DataFrame(dados_poisson)\n",
    "dados_poisson.reset_index(inplace=True)\n",
    "dados_poisson"
   ],
   "metadata": {
    "collapsed": false
   }
  },
  {
   "cell_type": "code",
   "execution_count": 95,
   "outputs": [
    {
     "name": "stdout",
     "output_type": "stream",
     "text": [
      "                 Generalized Linear Model Regression Results                  \n",
      "==============================================================================\n",
      "Dep. Variable:               Sucessos   No. Observations:                  467\n",
      "Model:                            GLM   Df Residuals:                      465\n",
      "Model Family:                 Poisson   Df Model:                            1\n",
      "Link Function:                    Log   Scale:                          1.0000\n",
      "Method:                          IRLS   Log-Likelihood:                -4860.6\n",
      "Date:                Sun, 04 Dec 2022   Deviance:                       8582.4\n",
      "Time:                        23:59:02   Pearson chi2:                 1.04e+04\n",
      "No. Iterations:                     5   Pseudo R-squ. (CS):             0.8460\n",
      "Covariance Type:            nonrobust                                         \n",
      "===============================================================================\n",
      "                  coef    std err          z      P>|z|      [0.025      0.975]\n",
      "-------------------------------------------------------------------------------\n",
      "const           1.9857      0.021     94.350      0.000       1.944       2.027\n",
      "Temperatura     0.0817      0.003     28.885      0.000       0.076       0.087\n",
      "===============================================================================\n"
     ]
    }
   ],
   "source": [
    "# Adiciona uma coluna de números 1 para o intercepto para criar a entrada X\n",
    "X = sm.add_constant(dados_poisson.Temperatura)\n",
    "\n",
    "# Renomeia a variável dependente como y (notação padrão)\n",
    "y = dados_poisson.Sucessos\n",
    "\n",
    "# Ajusta modelo GLM no statsmodels usando a função de ligação de Poisson\n",
    "modelo_poisson = sm.GLM(y, X, family = sm.families.Poisson())\n",
    "resultados_poisson = modelo_poisson.fit()\n",
    "\n",
    "print(resultados_poisson.summary())"
   ],
   "metadata": {
    "collapsed": false
   }
  },
  {
   "cell_type": "code",
   "execution_count": 97,
   "metadata": {},
   "outputs": [],
   "source": [
    "# # MLE\n",
    "# def MLE_Norm(parameters):\n",
    "#     const, beta, std_dev = parameters\n",
    "#     pred = const + beta*x\n",
    "#\n",
    "#     LL = np.sum(stats.norm.logpdf(y, pred, std_dev))\n",
    "#     neg_LL = -1*LL\n",
    "#     return neg_LL\n",
    "\n",
    "def emv_poisson(parametros):\n",
    "    alfa, beta = parametros\n",
    "\n",
    "    k = np.exp(alfa + beta * X.Temperatura)\n",
    "    previsto = stats.poisson.pmf(k, X.Temperatura.mean())\n",
    "    LL = np.sum(stats.poisson.logpmf(y, previsto))\n",
    "    neg_LL = -1 * LL\n",
    "\n",
    "    return neg_LL"
   ]
  },
  {
   "cell_type": "code",
   "execution_count": 98,
   "outputs": [
    {
     "name": "stderr",
     "output_type": "stream",
     "text": [
      "C:\\Users\\paulo\\anaconda3\\lib\\site-packages\\scipy\\optimize\\_numdiff.py:557: RuntimeWarning: invalid value encountered in subtract\n",
      "  df = fun(x) - f0\n"
     ]
    },
    {
     "data": {
      "text/plain": "      fun: nan\n hess_inv: <2x2 LbfgsInvHessProduct with dtype=float64>\n      jac: array([nan, nan])\n  message: 'ABNORMAL_TERMINATION_IN_LNSRCH'\n     nfev: 63\n      nit: 0\n     njev: 21\n   status: 2\n  success: False\n        x: array([2., 2.])"
     },
     "execution_count": 98,
     "metadata": {},
     "output_type": "execute_result"
    }
   ],
   "source": [
    "modelo_emv = minimize(emv_poisson, np.array([2,2]), method='L-BFGS-B')\n",
    "modelo_emv"
   ],
   "metadata": {
    "collapsed": false
   }
  },
  {
   "cell_type": "code",
   "execution_count": 126,
   "outputs": [
    {
     "data": {
      "text/plain": "0.1353352832366127"
     },
     "execution_count": 126,
     "metadata": {},
     "output_type": "execute_result"
    }
   ],
   "source": [
    "previsto = stats.poisson.pmf(np.exp(2 + 2 * X.Temperatura), 2)\n",
    "previsto\n",
    "\n",
    "X.Temperatura\n",
    "\n",
    "resultado = np.exp(1 + 1 * -3)\n",
    "resultado\n",
    "# stats.poisson.pmf(k=resultado, mu=round(X.Temperatura.mean()))\n",
    "# np.sum(stats.poisson.logpmf(y, previsto))"
   ],
   "metadata": {
    "collapsed": false
   }
  },
  {
   "cell_type": "markdown",
   "metadata": {},
   "source": [
    "### c)\n",
    "\n",
    "___\n",
    "\n",
    "Estime a distribuição de probabilidade do número de sucessos previstos para um dia em que atemperatura seja de 15 graus."
   ]
  },
  {
   "cell_type": "code",
   "execution_count": 94,
   "metadata": {
    "id": "jFRENBPFVSHi"
   },
   "outputs": [
    {
     "data": {
      "text/plain": "3444.1913233681385"
     },
     "execution_count": 94,
     "metadata": {},
     "output_type": "execute_result"
    }
   ],
   "source": [
    "modelo_poisson.predict([1, 15])[0]"
   ]
  },
  {
   "cell_type": "markdown",
   "metadata": {},
   "source": [
    "### d)\n",
    "\n",
    "___\n",
    "\n",
    "Construa um intervalo de confiança de 95% para $exp(\\beta)$ a partir do método de bootstrap paramétrico. Interprete o resultado considerando o contexto dos dados. Dica: calcule o aumento percentual da média esperada quando a temperatura aumenta em 1 grau Celsius."
   ]
  },
  {
   "cell_type": "code",
   "execution_count": null,
   "metadata": {},
   "outputs": [],
   "source": []
  },
  {
   "cell_type": "markdown",
   "metadata": {},
   "source": [
    "### e)\n",
    "\n",
    "___\n",
    "\n",
    "Faça um diagnóstico do modelo via simulação. Para tanto, gere dados sintéticos usando o modelo obtido no item $\\textsf{b)}$, ajuste um novo modelo sobre os dados sintéticos e calcule o Erro quadrático médio(MSE). Repita esse procedimento 10000 vezes e compare os MSEs gerados com aquele do modelo obtidoem $\\textsf{b)}$. Comente os resultados."
   ]
  },
  {
   "cell_type": "markdown",
   "source": [
    "## Questão bônus\n"
   ],
   "metadata": {
    "collapsed": false
   }
  },
  {
   "cell_type": "markdown",
   "metadata": {},
   "source": [
    "Use o método de integração por Monte Carlo para estimar o volume de uma elipsoide definida por $$\\frac{x^{2}}{2} + \\frac{y^{2}}{3} + \\frac{z^{2}}{4} = 1.$$"
   ]
  },
  {
   "cell_type": "code",
   "execution_count": null,
   "metadata": {},
   "outputs": [],
   "source": []
  },
  {
   "cell_type": "markdown",
   "metadata": {},
   "source": []
  }
 ],
 "metadata": {
  "colab": {
   "collapsed_sections": [],
   "provenance": []
  },
  "kernelspec": {
   "display_name": "Python 3 (ipykernel)",
   "language": "python",
   "name": "python3"
  },
  "language_info": {
   "codemirror_mode": {
    "name": "ipython",
    "version": 3
   },
   "file_extension": ".py",
   "mimetype": "text/x-python",
   "name": "python",
   "nbconvert_exporter": "python",
   "pygments_lexer": "ipython3",
   "version": "3.9.12"
  },
  "vscode": {
   "interpreter": {
    "hash": "963513b9a44aa752ac3676707be1140eb28a90c53b01ec9df701fa8763946c55"
   }
  }
 },
 "nbformat": 4,
 "nbformat_minor": 1
}
