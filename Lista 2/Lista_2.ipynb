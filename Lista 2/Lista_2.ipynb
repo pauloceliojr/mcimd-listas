{
 "cells": [
  {
   "cell_type": "markdown",
   "metadata": {
    "id": "Ie-5wE__VSHZ"
   },
   "source": [
    "***\n",
    "# <font color=green size=10>Lista 2: Inferência estatística via simulação</font>\n",
    "***\n",
    "\n",
    "Universidade de Brasília/PPCA\n",
    "\n",
    "Métodos Computacionais Intensivos para Mineração de Dados\n",
    "\n",
    "Prof. Guilherme Souza Rodrigues\n",
    "\n",
    "Aluno: Paulo Célio Soares da Silva Júnior - 22/0005605"
   ]
  },
  {
   "cell_type": "markdown",
   "metadata": {
    "id": "mzp5TnyLWHmj"
   },
   "source": [
    "**Importando bibliotecas.**"
   ]
  },
  {
   "cell_type": "code",
   "execution_count": 1,
   "metadata": {
    "id": "DAQf8dcKVSHe"
   },
   "outputs": [],
   "source": [
    "from scipy.stats import poisson\n",
    "from scipy.optimize import minimize\n",
    "\n",
    "import statsmodels.api as sm\n",
    "import statsmodels.formula.api as smf\n",
    "import numpy as np\n",
    "import pandas as pd\n",
    "import seaborn as sns"
   ]
  },
  {
   "cell_type": "markdown",
   "metadata": {},
   "source": [
    "**Definindo constantes globais.**"
   ]
  },
  {
   "cell_type": "code",
   "execution_count": 2,
   "metadata": {},
   "outputs": [],
   "source": [
    "# Valor da semente padrão\n",
    "SEED = 42"
   ]
  },
  {
   "cell_type": "markdown",
   "source": [
    "**Montando o dataset da lista.**"
   ],
   "metadata": {
    "collapsed": false
   }
  },
  {
   "cell_type": "code",
   "execution_count": 3,
   "outputs": [],
   "source": [
    "# Carrega os arquivos csv originais\n",
    "climbing_statistics = pd.read_csv(\"climbing_statistics.csv\")\n",
    "rainier_weather = pd.read_csv(\"Rainier_Weather.csv\")\n",
    "\n",
    "# Junta os arquivos, elimina linhas e colunas desnecessárias e renomeia colunas\n",
    "dados_completos = climbing_statistics.merge(rainier_weather, left_on=\"Date\", right_on=\"Date\", how=\"left\")\n",
    "dados_completos = dados_completos.drop([\"Success Percentage\", \"Battery Voltage AVG\"], axis=1)\n",
    "dados_completos = dados_completos.query(\"Attempted >= Succeeded\")\n",
    "dados_completos = dados_completos.rename(columns={\"Date\": \"Data\", \"Succeeded\": \"Sucessos\", \"Attempted\": \"Tentativas\",\n",
    "                              \"Temperature AVG\": \"Temperatura\", \"Relative Humidity AVG\": \"Umidade_relativa\",\n",
    "                              \"Wind Speed Daily AVG\": \"Velocidade_vento\", \"Wind Direction AVG\": \"Direc_vento\",\n",
    "                              \"Solare Radiation AVG\": \"Radiacao_solar\"})\n",
    "\n",
    "# Aplica as transformações nos dados\n",
    "dados_completos.Temperatura = (dados_completos.Temperatura - 32) * 5 / 9\n",
    "dados_completos[\"Cleaver\"] = dados_completos.Route == \"Disappointment Cleaver\"\n",
    "dados_completos.Data = pd.to_datetime(dados_completos.Data)\n",
    "\n",
    "# Reordena as colunas de acordo com o layout definido para a lista\n",
    "dados_completos = dados_completos.reindex(columns=[\"Data\", \"Sucessos\", \"Route\", \"Tentativas\", \"Temperatura\", \"Umidade_relativa\",\n",
    "                               \"Velocidade_vento\", \"Direc_vento\", \"Radiacao_solar\", \"Cleaver\"])"
   ],
   "metadata": {
    "collapsed": false
   }
  },
  {
   "cell_type": "markdown",
   "source": [
    "___\n",
    "\n",
    "## Contextualização"
   ],
   "metadata": {
    "collapsed": false
   }
  },
  {
   "cell_type": "markdown",
   "source": [
    "\"O Monte Rainier é um estratovulcão, e a montanha mais alta do estado norte-americano de Washington.(. . . ) Sua altitude é de 4392m e, em dias de tempo claro, seu pico permanentemente nevado pode ser facilmente avistado de Seattle e outras cidades da região.\" (*wikipédia*)\n",
    "\n",
    "Um conjunto de dados sobre tentativas de se escalar o Monte Rainier está disponível no site *Kaggle*, e pode ser obtido pelo link [https://www.kaggle.com/codersree/mount-rainier-weather-and-climbing-data/version/3](https://www.kaggle.com/codersree/mount-rainier-weather-and-climbing-data/version/3).\n",
    "\n",
    "Usaremos Modelos Lineares Generalizados para descrever como o número de montanhistas que alcançam o cume do monte em um dado dia (sucessos) varia em função da temperatura média do ar (em graus Celsius).\n",
    "\n",
    "A seguir apresentamos a estrutura do banco de dados."
   ],
   "metadata": {
    "collapsed": false
   }
  },
  {
   "cell_type": "code",
   "execution_count": 4,
   "outputs": [
    {
     "name": "stdout",
     "output_type": "stream",
     "text": [
      "<class 'pandas.core.frame.DataFrame'>\n",
      "Int64Index: 4067 entries, 0 to 4076\n",
      "Data columns (total 10 columns):\n",
      " #   Column            Non-Null Count  Dtype         \n",
      "---  ------            --------------  -----         \n",
      " 0   Data              4067 non-null   datetime64[ns]\n",
      " 1   Sucessos          4067 non-null   int64         \n",
      " 2   Route             4067 non-null   object        \n",
      " 3   Tentativas        4067 non-null   int64         \n",
      " 4   Temperatura       1889 non-null   float64       \n",
      " 5   Umidade_relativa  1889 non-null   float64       \n",
      " 6   Velocidade_vento  1889 non-null   float64       \n",
      " 7   Direc_vento       1889 non-null   float64       \n",
      " 8   Radiacao_solar    1889 non-null   float64       \n",
      " 9   Cleaver           4067 non-null   bool          \n",
      "dtypes: bool(1), datetime64[ns](1), float64(5), int64(2), object(1)\n",
      "memory usage: 321.7+ KB\n"
     ]
    }
   ],
   "source": [
    "dados_completos.info()"
   ],
   "metadata": {
    "collapsed": false
   }
  },
  {
   "cell_type": "markdown",
   "source": [
    "Considere o modelo $$Y_{ij} \\sim Poisson(\\lambda_{ij})\\\\ \\lambda_{ij} = exp(\\alpha + \\beta t_{i}),$$\n",
    "\n",
    "onde $Y_{ij}$ representa o número de montanhistas que atingiram o cume pela rota $j$ no dia $i$, $\\alpha$ e $\\beta$ são parâmetros desconhecidos do modelo e $t_{i}$ indica a temperatura média no dia $i$. Para uma determinada temperatura, o modelo prevê o mesmo valor para todas as rotas. Desconsidere os dados da rota *glacier only - no summit attempt*. Por fim, note que para obter o valor de $y_{ij}$ é preciso somar todos os sucessos registrados no dia $i$ para a rota $j$."
   ],
   "metadata": {
    "collapsed": false
   }
  },
  {
   "cell_type": "code",
   "execution_count": 5,
   "outputs": [],
   "source": [
    "dados = dados_completos.query(\"Route != 'glacier only - no summit attempt'\")"
   ],
   "metadata": {
    "collapsed": false
   }
  },
  {
   "cell_type": "markdown",
   "metadata": {},
   "source": [
    "## Questão 1)"
   ]
  },
  {
   "cell_type": "markdown",
   "metadata": {},
   "source": [
    "### a)\n",
    "\n",
    "___\n",
    "\n",
    "Conduza um teste de hipóteses por simulação para avaliar a hipótese nula de que a média do número de sucessos obtidos pela rota \"Disappointment Cleaver\" é igual a média das demais rotas (conjuntamente).\n"
   ]
  },
  {
   "cell_type": "markdown",
   "source": [
    "Separando os dois grupos (rota Disappointment Cleaver e demais rotas) e calculando suas médias e quantidades."
   ],
   "metadata": {
    "collapsed": false
   }
  },
  {
   "cell_type": "code",
   "execution_count": 6,
   "outputs": [
    {
     "name": "stdout",
     "output_type": "stream",
     "text": [
      "         Sucessos      \n",
      "             mean count\n",
      "Cleaver                \n",
      "False    2.082748  1281\n",
      "True     3.031618  2720\n",
      "\n",
      "Valor absoluto da diferença das médias: 0.9489\n"
     ]
    }
   ],
   "source": [
    "# Agrega os dados\n",
    "cleaver_agg = dados.groupby([\"Cleaver\"]).agg({\"Sucessos\": [\"mean\", \"count\"]})\n",
    "\n",
    "# Obtem médias, quantidades e diferença entre as médias\n",
    "media_sucessos_nao_cleaver = cleaver_agg.iloc[0][\"Sucessos\"][\"mean\"]\n",
    "media_sucessos_cleaver = cleaver_agg.iloc[1][\"Sucessos\"][\"mean\"]\n",
    "quant_cleaver = cleaver_agg.iloc[1][\"Sucessos\"][\"count\"]\n",
    "diferenca_medias_real = abs(media_sucessos_nao_cleaver - media_sucessos_cleaver)\n",
    "\n",
    "# Imprime os valores\n",
    "print(cleaver_agg, end=\"\\n\\n\")\n",
    "print(f\"Valor absoluto da diferença das médias: {diferenca_medias_real:0.4f}\")"
   ],
   "metadata": {
    "collapsed": false
   }
  },
  {
   "cell_type": "markdown",
   "source": [
    "Executando as simulações e obtendo as médias e diferenças a partir 10.000 amostras aleatórias."
   ],
   "metadata": {
    "collapsed": false
   }
  },
  {
   "cell_type": "code",
   "execution_count": 7,
   "outputs": [
    {
     "name": "stdout",
     "output_type": "stream",
     "text": [
      "Maior diferença das médias encontrada: 0.4176\n",
      "Diferença das médias real: 0.9489\n"
     ]
    }
   ],
   "source": [
    "# Roda simulação com 10.000 amostras embaralhadas aleatoriamente\n",
    "diferencas_medias_amostras = []\n",
    "for i in range(10000):\n",
    "    lista_sucessos = dados.Sucessos.sample(dados.shape[0])\n",
    "    media_cleaver = np.mean(lista_sucessos[:int(quant_cleaver)])\n",
    "    media_nao_cleaver = np.mean(lista_sucessos[int(quant_cleaver):])\n",
    "    diferencas_medias_amostras.append(abs(media_cleaver - media_nao_cleaver))\n",
    "\n",
    "# Imprime os valores\n",
    "print(f\"Maior diferença das médias encontrada: {max(diferencas_medias_amostras):0.4f}\")\n",
    "print(f\"Diferença das médias real: {diferenca_medias_real:0.4f}\")"
   ],
   "metadata": {
    "collapsed": false
   }
  },
  {
   "cell_type": "markdown",
   "source": [
    "Exibindo o histograma das diferenças de médias encontradas na simulação."
   ],
   "metadata": {
    "collapsed": false
   }
  },
  {
   "cell_type": "code",
   "execution_count": 8,
   "outputs": [
    {
     "data": {
      "text/plain": "<AxesSubplot:ylabel='Density'>"
     },
     "execution_count": 8,
     "metadata": {},
     "output_type": "execute_result"
    },
    {
     "data": {
      "text/plain": "<Figure size 1008x576 with 1 Axes>",
      "image/png": "[encoded data removed]"
     },
     "metadata": {},
     "output_type": "display_data"
    }
   ],
   "source": [
    "ax = sns.histplot(diferencas_medias_amostras, kde=True, stat=\"density\", bins=25)\n",
    "ax.figure.set_size_inches(14, 8)\n",
    "ax.vlines(x=diferenca_medias_real, ymin=0, ymax=7, colors='red', linestyles='dashed')\n",
    "ax"
   ],
   "metadata": {
    "collapsed": false
   }
  },
  {
   "cell_type": "markdown",
   "source": [
    "<font color='red'>**Resposta:**</font>\n",
    "\n",
    "A partir do resultado do teste de hipótese por simulação, analisando-se as diferenças absolutas das médias encontradas, bem como o histograma gerado, a hipótese nula ($H_{0}$) de que a média do número de sucessos obtidos pela rota \"Disappointment Cleaver\" é igual a média das demais rotas (conjuntamente) pode ser descartada."
   ],
   "metadata": {
    "collapsed": false
   }
  },
  {
   "cell_type": "markdown",
   "source": [
    "### b)\n",
    "\n",
    "___\n",
    "\n",
    "Obtenha o estimador de máxima verossimilhança de $\\alpha$ e $\\beta$ considerando o modelo proposto. Dica: Use a função $\\textsf{optim}$ do $\\textbf{\\textsf{R}}$ para achar o ponto que maximiza a log-verossimilhança."
   ],
   "metadata": {
    "collapsed": false
   }
  },
  {
   "cell_type": "markdown",
   "source": [
    "Preparando os dados para utilização na função."
   ],
   "metadata": {
    "collapsed": false
   }
  },
  {
   "cell_type": "code",
   "execution_count": 9,
   "outputs": [
    {
     "data": {
      "text/plain": "        Data  Temperatura  Sucessos\n0 2014-09-23     0.476296         0\n1 2014-09-24    -1.276157         0\n2 2014-09-25    -2.875694         8\n3 2014-09-26    -2.089815        19\n4 2014-09-27     0.732639        25",
      "text/html": "<div>\n<style scoped>\n    .dataframe tbody tr th:only-of-type {\n        vertical-align: middle;\n    }\n\n    .dataframe tbody tr th {\n        vertical-align: top;\n    }\n\n    .dataframe thead th {\n        text-align: right;\n    }\n</style>\n<table border=\"1\" class=\"dataframe\">\n  <thead>\n    <tr style=\"text-align: right;\">\n      <th></th>\n      <th>Data</th>\n      <th>Temperatura</th>\n      <th>Sucessos</th>\n    </tr>\n  </thead>\n  <tbody>\n    <tr>\n      <th>0</th>\n      <td>2014-09-23</td>\n      <td>0.476296</td>\n      <td>0</td>\n    </tr>\n    <tr>\n      <th>1</th>\n      <td>2014-09-24</td>\n      <td>-1.276157</td>\n      <td>0</td>\n    </tr>\n    <tr>\n      <th>2</th>\n      <td>2014-09-25</td>\n      <td>-2.875694</td>\n      <td>8</td>\n    </tr>\n    <tr>\n      <th>3</th>\n      <td>2014-09-26</td>\n      <td>-2.089815</td>\n      <td>19</td>\n    </tr>\n    <tr>\n      <th>4</th>\n      <td>2014-09-27</td>\n      <td>0.732639</td>\n      <td>25</td>\n    </tr>\n  </tbody>\n</table>\n</div>"
     },
     "execution_count": 9,
     "metadata": {},
     "output_type": "execute_result"
    }
   ],
   "source": [
    "dados_poisson = dados.groupby([\"Data\", \"Temperatura\"]).Sucessos.sum()\n",
    "dados_poisson = pd.DataFrame(dados_poisson)\n",
    "dados_poisson.reset_index(inplace=True)\n",
    "\n",
    "dados_poisson.head()"
   ],
   "metadata": {
    "collapsed": false
   }
  },
  {
   "cell_type": "markdown",
   "source": [
    "Definindo e minimizando a função negativa de log-verossimilhança (na prática é a mesma coisa de maximizar a função positiva)."
   ],
   "metadata": {
    "collapsed": false
   }
  },
  {
   "cell_type": "code",
   "execution_count": 18,
   "outputs": [
    {
     "name": "stdout",
     "output_type": "stream",
     "text": [
      "α: 2.7431\n",
      "ß: 0.1122\n"
     ]
    }
   ],
   "source": [
    "def menos_log_verossimilhanca(parametros):\n",
    "    alfa, beta = parametros\n",
    "\n",
    "    lambda_previsto = np.exp(alfa + beta * dados_poisson.Temperatura)\n",
    "    log_verossimilhanca = np.sum(poisson.logpmf(dados_poisson.Sucessos, lambda_previsto))\n",
    "\n",
    "    return -1 * log_verossimilhanca\n",
    "\n",
    "# Minimiza a função negativa de log verossimilhanca\n",
    "emv = minimize(menos_log_verossimilhanca, np.array([0, 0]))\n",
    "\n",
    "# Obtem e imprime os valores de alfa e beta\n",
    "emv_alfa = emv.x[0]\n",
    "emv_beta = emv.x[1]\n",
    "print(f\"α: {emv_alfa:0.4f}\")\n",
    "print(f\"ß: {emv_beta:0.4f}\")"
   ],
   "metadata": {
    "collapsed": false
   }
  },
  {
   "cell_type": "markdown",
   "source": [
    "Comparando o resultado da maximização da função de log-verossimilhança com os valores de alfa e beta gerados pela biblioteca *statsmodels*."
   ],
   "metadata": {
    "collapsed": false
   }
  },
  {
   "cell_type": "code",
   "execution_count": 17,
   "outputs": [
    {
     "name": "stdout",
     "output_type": "stream",
     "text": [
      "Optimization terminated successfully.\n",
      "         Current function value: 14.276702\n",
      "         Iterations 6\n",
      "α: 2.7431\n",
      "ß: 0.1122\n"
     ]
    }
   ],
   "source": [
    "modelo_poisson = smf.poisson(formula=\"Sucessos ~ Temperatura\", data=dados_poisson)\n",
    "modelo_poisson_ajustado = modelo_poisson.fit()\n",
    "\n",
    "print(f\"α: {modelo_poisson_ajustado.params[0]:0.4f}\")\n",
    "print(f\"ß: {modelo_poisson_ajustado.params[1]:0.4f}\")"
   ],
   "metadata": {
    "collapsed": false
   }
  },
  {
   "cell_type": "markdown",
   "source": [
    "<font color='red'>**Resposta:**</font>\n",
    "\n",
    "Considerando-se o modelo proposto, o estimador de máxima verossimilhança para $\\alpha$ é 2,7431 e $\\beta$ é 0,1122."
   ],
   "metadata": {
    "collapsed": false
   }
  },
  {
   "cell_type": "markdown",
   "metadata": {},
   "source": [
    "### c)\n",
    "\n",
    "___\n",
    "\n",
    "Estime a distribuição de probabilidade do número de sucessos previstos para um dia em que a temperatura seja de 15 graus."
   ]
  },
  {
   "cell_type": "markdown",
   "source": [
    "<font color='red'>**Resposta:**</font>\n",
    "\n",
    "Considerando o valor de $\\lambda \\cong 83$ para um dia em que a temperatura seja de $15ºC$, o gráfico abaixo ilustra a distribuição de probabilidade do número de sucessos previstos."
   ],
   "metadata": {
    "collapsed": false
   }
  },
  {
   "cell_type": "code",
   "execution_count": 12,
   "outputs": [
    {
     "data": {
      "text/plain": "<AxesSubplot:ylabel='Probability'>"
     },
     "execution_count": 12,
     "metadata": {},
     "output_type": "execute_result"
    },
    {
     "data": {
      "text/plain": "<Figure size 1008x576 with 1 Axes>",
      "image/png": "[encoded data removed]"
     },
     "metadata": {},
     "output_type": "display_data"
    }
   ],
   "source": [
    "amostra = poisson.rvs(mu=np.exp(emv_alfa + emv_beta * 15), size=10000, random_state=SEED)\n",
    "ax = sns.histplot(amostra, kde=True, stat=\"probability\")\n",
    "ax.figure.set_size_inches(14, 8)\n",
    "ax"
   ],
   "metadata": {
    "collapsed": false
   }
  },
  {
   "cell_type": "markdown",
   "metadata": {},
   "source": [
    "### d)\n",
    "\n",
    "___\n",
    "\n",
    "Construa um intervalo de confiança de $95\\%$ para $exp(\\beta)$ a partir do método de bootstrap paramétrico. Interprete o resultado considerando o contexto dos dados. Dica: calcule o aumento percentual da média esperada quando a temperatura aumenta em $1$ grau Celsius."
   ]
  },
  {
   "cell_type": "markdown",
   "source": [
    "Executando o bootstrap paramétrico para o modelo proposto ()"
   ],
   "metadata": {
    "collapsed": false
   }
  },
  {
   "cell_type": "code",
   "execution_count": 54,
   "metadata": {},
   "outputs": [],
   "source": [
    "lista_exp_beta = []\n",
    "\n",
    "X = sm.add_constant(dados_poisson.Temperatura)\n",
    "for _ in range(10000):\n",
    "    amostra_sucessos = poisson.rvs(mu=np.exp(emv_alfa + emv_beta * dados_poisson.Temperatura), size=dados_poisson.shape[0])\n",
    "    modelo_amostra = sm.GLM(amostra_sucessos, X, family=sm.families.Poisson()).fit()\n",
    "\n",
    "    lista_exp_beta.append(np.exp(modelo_amostra.params[1]))"
   ]
  },
  {
   "cell_type": "code",
   "execution_count": 55,
   "outputs": [
    {
     "data": {
      "text/plain": "       2.5%     97.5%\n0  1.107623  1.111524",
      "text/html": "<div>\n<style scoped>\n    .dataframe tbody tr th:only-of-type {\n        vertical-align: middle;\n    }\n\n    .dataframe tbody tr th {\n        vertical-align: top;\n    }\n\n    .dataframe thead th {\n        text-align: right;\n    }\n</style>\n<table border=\"1\" class=\"dataframe\">\n  <thead>\n    <tr style=\"text-align: right;\">\n      <th></th>\n      <th>2.5%</th>\n      <th>97.5%</th>\n    </tr>\n  </thead>\n  <tbody>\n    <tr>\n      <th>0</th>\n      <td>1.107623</td>\n      <td>1.111524</td>\n    </tr>\n  </tbody>\n</table>\n</div>"
     },
     "execution_count": 55,
     "metadata": {},
     "output_type": "execute_result"
    }
   ],
   "source": [
    "ic_exp_beta = pd.DataFrame(np.percentile(lista_exp_beta, q=[0.025, 0.975]))\n",
    "ic_exp_beta = ic_exp_beta.pivot_table(0, columns=ic_exp_beta.index)\n",
    "ic_exp_beta.columns = [\"2.5%\", \"97.5%\"]\n",
    "ic_exp_beta"
   ],
   "metadata": {
    "collapsed": false
   }
  },
  {
   "cell_type": "code",
   "execution_count": 56,
   "outputs": [
    {
     "name": "stdout",
     "output_type": "stream",
     "text": [
      "exp(ß): 1.118696\n",
      "Taxa de crescimento: 1.118696\n"
     ]
    }
   ],
   "source": [
    "print(f\"exp(ß): {np.exp(emv_beta):0.6f}\")\n",
    "\n",
    "lambda_previsto_t = np.exp(emv_alfa + emv_beta * dados_poisson.Temperatura.iloc[0])\n",
    "lambda_previsto_t_mais_1 = np.exp(emv_alfa + emv_beta * (dados_poisson.Temperatura.iloc[0] + 1))\n",
    "print(f\"Taxa de crescimento: {lambda_previsto_t_mais_1 / lambda_previsto_t:0.6f}\")"
   ],
   "metadata": {
    "collapsed": false
   }
  },
  {
   "cell_type": "markdown",
   "source": [
    "<font color='red'>**Resposta:**</font>"
   ],
   "metadata": {
    "collapsed": false
   }
  },
  {
   "cell_type": "markdown",
   "metadata": {},
   "source": [
    "### e)\n",
    "\n",
    "___\n",
    "\n",
    "Faça um diagnóstico do modelo via simulação. Para tanto, gere dados sintéticos usando o modelo obtido no item $\\textsf{b)}$, ajuste um novo modelo sobre os dados sintéticos e calcule o Erro quadrático médio (MSE). Repita esse procedimento 10000 vezes e compare os MSEs gerados com aquele do modelo obtido em $\\textsf{b)}$. Comente os resultados."
   ]
  },
  {
   "cell_type": "code",
   "execution_count": 66,
   "outputs": [
    {
     "name": "stdout",
     "output_type": "stream",
     "text": [
      "603.5770976515278\n"
     ]
    }
   ],
   "source": [
    "dados_poisson[\"Sucessos_previstos\"] = np.exp(emv_alfa + emv_beta * dados_poisson.Temperatura)\n",
    "dados_poisson[\"Residuos\"] = dados_poisson.Sucessos - dados_poisson.Sucessos_previstos\n",
    "mse = (dados_poisson.Residuos ** 2).sum() / dados_poisson.shape[0]\n",
    "\n",
    "print(mse)"
   ],
   "metadata": {
    "collapsed": false
   }
  },
  {
   "cell_type": "code",
   "execution_count": 68,
   "outputs": [
    {
     "data": {
      "text/plain": "[622.5714285714286,\n 637.2660098522167,\n 622.0246305418719,\n 644.832512315271,\n 608.5862068965517,\n 631.8768472906404,\n 624.1527093596059,\n 586.256157635468,\n 633.0591133004926,\n 615.960591133005,\n 617.6847290640394,\n 630.1428571428571,\n 642.8275862068965,\n 600.6305418719212,\n 657.7832512315271,\n 657.9852216748768,\n 597.7290640394089,\n 617.4187192118227,\n 597.9556650246305,\n 647.3743842364532,\n 626.7635467980296,\n 606.0886699507389,\n 642.8522167487685,\n 670.0541871921182,\n 631.0098522167488,\n 606.6108374384237,\n 648.1083743842364,\n 621.9852216748768,\n 632.0985221674877,\n 624.5911330049261,\n 615.5073891625616,\n 647.2857142857143,\n 601.576354679803,\n 612.960591133005,\n 638.9408866995074,\n 646.9211822660099,\n 593.7389162561576,\n 631.3399014778325,\n 634.3940886699507,\n 611.3103448275862,\n 636.6847290640394,\n 597.9901477832512,\n 643.1773399014778,\n 624.7980295566502,\n 607.7980295566502,\n 659.7093596059113,\n 620.6009852216749,\n 620.1773399014778,\n 611.1231527093596,\n 618.3448275862069,\n 622.3940886699507,\n 636.7783251231527,\n 643.5960591133005,\n 622.8423645320197,\n 621.9408866995074,\n 625.4187192118227,\n 644.8866995073892,\n 635.960591133005,\n 621.3251231527094,\n 647.0738916256157,\n 617.8226600985222,\n 623.4187192118227,\n 622.2167487684729,\n 631.9162561576354,\n 645.6896551724138,\n 639.7586206896551,\n 602.807881773399,\n 638.3990147783251,\n 610.9458128078818,\n 630.4384236453202,\n 641.3152709359606,\n 627.0935960591133,\n 653.4137931034483,\n 600.4876847290641,\n 636.423645320197,\n 630.4384236453202,\n 629.8916256157636,\n 627.0886699507389,\n 600.8128078817734,\n 624.6945812807882,\n 617.1576354679803,\n 632.8571428571429,\n 624.0985221674877,\n 595.2906403940887,\n 595.7487684729064,\n 624.6699507389162,\n 617.5172413793103,\n 599.576354679803,\n 628.8177339901478,\n 635.2955665024631,\n 664.0344827586207,\n 599.0935960591133,\n 622.3891625615763,\n 627.1773399014778,\n 596.4679802955665,\n 632.2709359605911,\n 659.2463054187192,\n 630.7832512315271,\n 614.8965517241379,\n 657.4679802955665,\n 602.2512315270936,\n 634.3990147783251,\n 620.5221674876848,\n 644.6059113300493,\n 640.2857142857143,\n 636.9458128078818,\n 640.1576354679803,\n 663.1773399014778,\n 621.6256157635468,\n 632.3004926108374,\n 622.3793103448276,\n 619.1527093596059,\n 604.2660098522167,\n 621.935960591133,\n 632.7142857142857,\n 631.6108374384237,\n 606.2955665024631,\n 638.1724137931035,\n 622.3497536945813,\n 635.4433497536946,\n 613.5073891625616,\n 617.4137931034483,\n 599.2167487684729,\n 609.5073891625616,\n 608.8522167487685,\n 655.9802955665025,\n 650.1034482758621,\n 618.3891625615763,\n 605.2019704433498,\n 617.871921182266,\n 602.8374384236453,\n 643.576354679803,\n 623.9310344827586,\n 631.8128078817734,\n 651.0295566502463,\n 611.4975369458128,\n 619.3891625615763,\n 636.615763546798,\n 609.3004926108374,\n 633.0295566502463,\n 628.4926108374384,\n 620.1477832512315,\n 601.6551724137931,\n 625.3349753694581,\n 644.9753694581281,\n 657.8423645320197,\n 619.5665024630542,\n 606.2610837438424,\n 666.7241379310345,\n 621.2955665024631,\n 603.2167487684729,\n 598.0788177339901,\n 638.1428571428571,\n 633.2709359605911,\n 648.9852216748768,\n 629.8374384236453,\n 644.5960591133005,\n 627.0541871921182,\n 605.4137931034483,\n 647.2118226600985,\n 645.4729064039409,\n 604.384236453202,\n 624.231527093596,\n 606.0147783251232,\n 642.2463054187192,\n 652.1970443349753,\n 641.7339901477833,\n 624.3743842364532,\n 638.6896551724138,\n 621.7389162561576,\n 611.1083743842364,\n 633.128078817734,\n 619.4285714285714,\n 628.5320197044335,\n 630.5665024630542,\n 640.8866995073892,\n 620.4729064039409,\n 603.9310344827586,\n 626.2955665024631,\n 631.2660098522167,\n 622.9950738916256,\n 638.5665024630542,\n 630.9704433497537,\n 614.0049261083744,\n 616.1970443349753,\n 628.9162561576354,\n 605.6502463054187,\n 647.5467980295566,\n 629.6600985221675,\n 609.1379310344828,\n 661.2266009852217,\n 599.3645320197045,\n 602.5714285714286,\n 603.4679802955665,\n 651.8866995073892,\n 654.0344827586207,\n 625.5911330049261,\n 634.0,\n 640.4187192118227,\n 611.9458128078818,\n 608.1724137931035,\n 653.1871921182266,\n 619.7389162561576,\n 617.8965517241379,\n 667.9261083743843,\n 616.9655172413793,\n 623.3694581280788,\n 614.0344827586207,\n 653.7142857142857,\n 635.615763546798,\n 627.1773399014778,\n 640.3891625615763,\n 611.039408866995,\n 603.6600985221675,\n 639.256157635468,\n 612.9901477832512,\n 617.4827586206897,\n 620.6551724137931,\n 656.2906403940887,\n 620.7733990147783,\n 621.0788177339901,\n 615.6896551724138,\n 601.8423645320197,\n 628.192118226601,\n 646.3251231527094,\n 640.2364532019704,\n 631.1231527093596,\n 604.128078817734,\n 606.8128078817734,\n 632.2758620689655,\n 651.2118226600985,\n 613.0935960591133,\n 647.5960591133005,\n 653.5714285714286,\n 607.1625615763547,\n 652.9556650246305,\n 613.9458128078818,\n 640.6256157635468,\n 648.576354679803,\n 644.3793103448276,\n 655.3300492610838,\n 629.6650246305419,\n 639.7044334975369,\n 621.2857142857143,\n 639.64039408867,\n 627.551724137931,\n 647.5467980295566,\n 627.5862068965517,\n 660.3300492610838,\n 621.6600985221675,\n 635.9802955665025,\n 643.5812807881773,\n 610.1379310344828,\n 630.6256157635468,\n 586.64039408867,\n 637.5566502463054,\n 629.0541871921182,\n 633.8275862068965,\n 623.4285714285714,\n 608.4729064039409,\n 633.0541871921182,\n 632.1871921182266,\n 626.7241379310345,\n 656.9753694581281,\n 625.8669950738916,\n 603.807881773399,\n 645.7487684729064,\n 599.4137931034483,\n 627.5172413793103,\n 634.6945812807882,\n 609.8965517241379,\n 645.615763546798,\n 590.6600985221675,\n 628.4876847290641,\n 638.6748768472906,\n 594.7389162561576,\n 629.0147783251232,\n 608.9014778325123,\n 600.2364532019704,\n 600.1871921182266,\n 650.1773399014778,\n 598.9211822660099,\n 595.8423645320197,\n 618.5615763546798,\n 634.0443349753695,\n 649.576354679803,\n 640.8472906403941,\n 620.5320197044335,\n 623.2807881773399,\n 636.2463054187192,\n 622.8275862068965,\n 630.7290640394089,\n 630.0788177339901,\n 598.1625615763547,\n 604.4926108374384,\n 614.039408866995,\n 602.6650246305419,\n 657.2955665024631,\n 639.0886699507389,\n 598.7536945812808,\n 615.6945812807882,\n 613.5566502463054,\n 657.1477832512315,\n 647.3891625615763,\n 623.2709359605911,\n 631.8374384236453,\n 612.3497536945813,\n 631.3349753694581,\n 611.3645320197045,\n 656.8374384236453,\n 633.0246305418719,\n 636.0049261083744,\n 616.7389162561576,\n 623.1477832512315,\n 626.6699507389162,\n 586.0443349753695,\n 605.8423645320197,\n 600.3940886699507,\n 608.064039408867,\n 633.4532019704434,\n 643.6551724137931,\n 624.2660098522167,\n 615.6453201970444,\n 653.5172413793103,\n 628.6650246305419,\n 628.1576354679803,\n 586.576354679803,\n 616.4630541871921,\n 640.5369458128079,\n 673.4137931034483,\n 633.2068965517242,\n 615.1083743842364,\n 638.768472906404,\n 628.4532019704434,\n 618.8768472906404,\n 606.9753694581281,\n 620.5960591133005,\n 655.0738916256157,\n 632.4581280788177,\n 638.7881773399015,\n 620.0788177339901,\n 630.5960591133005,\n 615.1083743842364,\n 597.6256157635468,\n 606.1625615763547,\n 634.9852216748768,\n 634.8669950738916,\n 587.5566502463054,\n 606.0788177339901,\n 605.4630541871921,\n 585.320197044335,\n 605.5024630541872,\n 602.5615763546798,\n 625.4187192118227,\n 617.3448275862069,\n 623.6896551724138,\n 596.679802955665,\n 615.64039408867,\n 621.8423645320197,\n 623.128078817734,\n 608.5123152709359,\n 610.0935960591133,\n 644.3793103448276,\n 638.4679802955665,\n 639.0492610837439,\n 615.0197044334975,\n 604.5665024630542,\n 648.3349753694581,\n 667.2216748768473,\n 613.743842364532,\n 621.231527093596,\n 634.6995073891626,\n 612.1871921182266,\n 664.4778325123152,\n 639.3152709359606,\n 646.0147783251232,\n 620.8226600985222,\n 590.5911330049261,\n 626.320197044335,\n 662.9261083743843,\n 614.9014778325123,\n 598.1822660098522,\n 633.3645320197045,\n 614.2167487684729,\n 640.4532019704434,\n 624.3448275862069,\n 627.5024630541872,\n 625.64039408867,\n 641.231527093596,\n 654.7487684729064,\n 628.7389162561576,\n 624.8128078817734,\n 611.9655172413793,\n 629.7536945812808,\n 620.2118226600985,\n 644.2709359605911,\n 645.3448275862069,\n 634.3891625615763,\n 620.3349753694581,\n 623.0935960591133,\n 608.5369458128079,\n 632.256157635468,\n 604.4433497536946,\n 642.8522167487685,\n 599.1871921182266,\n 614.1379310344828,\n 614.4679802955665,\n 609.7142857142857,\n 651.9704433497537,\n 620.0837438423646,\n 623.0098522167488,\n 617.3940886699507,\n 629.1822660098522,\n 639.7044334975369,\n 619.807881773399,\n 635.0098522167488,\n 642.2019704433498,\n 603.1724137931035,\n 612.2906403940887,\n 610.4975369458128,\n 634.576354679803,\n 641.1133004926108,\n 623.192118226601,\n 637.2660098522167,\n 603.9310344827586,\n 643.1576354679803,\n 623.9704433497537,\n 641.4433497536946,\n 601.2167487684729,\n 641.7783251231527,\n 635.3891625615763,\n 617.0,\n 649.4630541871921,\n 647.4384236453202,\n 645.5566502463054,\n 643.7586206896551,\n 632.5221674876848,\n 644.3349753694581,\n 623.1034482758621,\n 624.7733990147783,\n 656.0492610837439,\n 640.256157635468,\n 624.0985221674877,\n 632.384236453202,\n 627.5221674876848,\n 608.615763546798,\n 664.2364532019704,\n 605.3497536945813,\n 618.8472906403941,\n 653.2216748768473,\n 624.9753694581281,\n 630.256157635468,\n 620.9261083743843,\n 631.1083743842364,\n 637.9261083743843,\n 625.0591133004926,\n 640.3694581280788,\n 661.3793103448276,\n 630.3349753694581,\n 606.5073891625616,\n 613.8768472906404,\n 637.2660098522167,\n 666.9064039408867,\n 647.9310344827586,\n 632.6502463054187,\n 595.3645320197045,\n 605.9556650246305,\n 618.1625615763547,\n 617.3004926108374,\n 593.6945812807882,\n 616.5911330049261,\n 603.064039408867,\n 616.6305418719212,\n 605.8128078817734,\n 620.1034482758621,\n 610.5911330049261,\n 621.1182266009852,\n 635.7044334975369,\n 597.551724137931,\n 631.9704433497537,\n 646.8177339901478,\n 637.1133004926108,\n 609.768472906404,\n 619.1133004926108,\n 640.2118226600985,\n 624.9901477832512,\n 619.4729064039409,\n 617.9901477832512,\n 578.7536945812808,\n 633.8866995073892,\n 639.8669950738916,\n 649.0591133004926,\n 626.384236453202,\n 611.8768472906404,\n 602.9261083743843,\n 634.3546798029556,\n 627.5467980295566,\n 628.9458128078818,\n 604.576354679803,\n 625.192118226601,\n 669.9802955665025,\n 618.7586206896551,\n 605.0886699507389,\n 624.7192118226601,\n 603.2266009852217,\n 597.4384236453202,\n 626.0689655172414,\n 675.7093596059113,\n 606.8522167487685,\n 635.6600985221675,\n 607.3004926108374,\n 609.064039408867,\n 602.7733990147783,\n 629.7536945812808,\n 630.9507389162561,\n 668.9408866995074,\n 614.8226600985222,\n 605.8029556650247,\n 653.9852216748768,\n 599.8177339901478,\n 644.5862068965517,\n 633.5812807881773,\n 622.5566502463054,\n 627.0049261083744,\n 609.7783251231527,\n 649.1330049261084,\n 631.0098522167488,\n 629.9556650246305,\n 629.4285714285714,\n 613.8768472906404,\n 630.5418719211823,\n 614.2216748768473,\n 629.5714285714286,\n 607.4137931034483,\n 627.5467980295566,\n 608.6748768472906,\n 623.0344827586207,\n 634.256157635468,\n 615.064039408867,\n 640.5665024630542,\n 644.5566502463054,\n 657.7389162561576,\n 659.5615763546798,\n 604.8916256157636,\n 613.4679802955665,\n 608.2463054187192,\n 643.6059113300493,\n 629.0246305418719,\n 661.9655172413793,\n 644.1576354679803,\n 599.0738916256157,\n 645.5369458128079,\n 633.8522167487685,\n 599.7733990147783,\n 607.2068965517242,\n 603.9704433497537,\n 649.5073891625616,\n 617.807881773399,\n 600.128078817734,\n 602.3645320197045,\n 618.1477832512315,\n 613.2413793103449,\n 622.7733990147783,\n 606.6009852216749,\n 621.3497536945813,\n 633.6354679802955,\n 614.6305418719212,\n 611.2758620689655,\n 605.3251231527094,\n 645.0985221674877,\n 586.1428571428571,\n 601.3349753694581,\n 658.4039408866995,\n 649.1133004926108,\n 649.6009852216749,\n 625.5960591133005,\n 606.7093596059113,\n 611.1576354679803,\n 615.5172413793103,\n 619.039408866995,\n 608.9408866995074,\n 634.423645320197,\n 619.8620689655172,\n 656.0049261083744,\n 607.7980295566502,\n 645.8768472906404,\n 614.5123152709359,\n 624.6108374384237,\n 639.4334975369458,\n 629.7980295566502,\n 645.3103448275862,\n 612.807881773399,\n 612.3054187192118,\n 660.4187192118227,\n 621.871921182266,\n 604.4926108374384,\n 611.4532019704434,\n 608.551724137931,\n 609.3546798029556,\n 653.8522167487685,\n 642.3694581280788,\n 599.7832512315271,\n 626.5714285714286,\n 633.7093596059113,\n 624.0837438423646,\n 633.9852216748768,\n 635.2413793103449,\n 646.6748768472906,\n 624.8768472906404,\n 619.35960591133,\n 635.4433497536946,\n 627.7487684729064,\n 641.9556650246305,\n 631.9113300492611,\n 617.1231527093596,\n 605.4827586206897,\n 624.4630541871921,\n 623.35960591133,\n 645.1231527093596,\n 650.7586206896551,\n 616.0197044334975,\n 605.9408866995074,\n 631.6453201970444,\n 606.64039408867,\n 628.4334975369458,\n 629.384236453202,\n 633.1724137931035,\n 641.6453201970444,\n 642.0295566502463,\n 617.7389162561576,\n 622.4975369458128,\n 642.8423645320197,\n 606.7142857142857,\n 629.5369458128079,\n 620.4433497536946,\n 615.6059113300493,\n 645.3448275862069,\n 602.0098522167488,\n 607.1379310344828,\n 610.8916256157636,\n 615.5073891625616,\n 655.192118226601,\n 622.1773399014778,\n 644.2709359605911,\n 629.6600985221675,\n 652.4433497536946,\n 617.9113300492611,\n 640.5172413793103,\n 613.4630541871921,\n 642.6847290640394,\n 644.7832512315271,\n 628.9852216748768,\n 647.2857142857143,\n 644.832512315271,\n 636.9310344827586,\n 600.8128078817734,\n 614.4827586206897,\n 638.1625615763547,\n 606.2266009852217,\n 630.7536945812808,\n 639.1133004926108,\n 632.3743842364532,\n 605.3448275862069,\n 608.3793103448276,\n 650.4384236453202,\n 633.6945812807882,\n 633.2266009852217,\n 637.9901477832512,\n 612.1034482758621,\n 610.3940886699507,\n 626.3004926108374,\n 606.448275862069,\n 619.3004926108374,\n 625.0098522167488,\n 641.3891625615763,\n 651.9064039408867,\n 623.2512315270936,\n 595.8965517241379,\n 612.3448275862069,\n 648.2857142857143,\n 611.0788177339901,\n 629.448275862069,\n 628.2068965517242,\n 583.1428571428571,\n 631.935960591133,\n 622.9113300492611,\n 631.2807881773399,\n 631.4975369458128,\n 648.9310344827586,\n 622.1576354679803,\n 574.7783251231527,\n 618.2266009852217,\n 611.1576354679803,\n 611.64039408867,\n 599.8522167487685,\n 630.9113300492611,\n 607.7389162561576,\n 607.8965517241379,\n 587.551724137931,\n 637.9852216748768,\n 610.8817733990148,\n 650.5714285714286,\n 606.2857142857143,\n 591.0197044334975,\n 603.4926108374384,\n 613.7931034482758,\n 629.743842364532,\n 640.9753694581281,\n 630.4581280788177,\n 650.5123152709359,\n 652.3990147783251,\n 621.5566502463054,\n 621.5369458128079,\n 595.3940886699507,\n 622.3300492610838,\n 619.9655172413793,\n 635.4187192118227,\n 625.7241379310345,\n 658.1576354679803,\n 648.4384236453202,\n 637.6748768472906,\n 612.3349753694581,\n 621.5418719211823,\n 597.3152709359606,\n 639.8768472906404,\n 631.4532019704434,\n 612.1773399014778,\n 630.5615763546798,\n 607.8916256157636,\n 675.9064039408867,\n 620.9802955665025,\n 611.167487684729,\n 656.0788177339901,\n 608.615763546798,\n 612.6551724137931,\n 633.8177339901478,\n 675.35960591133,\n 635.1428571428571,\n 612.0689655172414,\n 613.4729064039409,\n 651.8916256157636,\n 644.3103448275862,\n 630.192118226601,\n 622.4384236453202,\n 596.7339901477833,\n 635.0886699507389,\n 617.4039408866995,\n 611.2857142857143,\n 611.5172413793103,\n 636.9310344827586,\n 626.4384236453202,\n 628.2758620689655,\n 620.0935960591133,\n 626.8226600985222,\n 607.7339901477833,\n 633.5665024630542,\n 621.832512315271,\n 621.4975369458128,\n 669.4334975369458,\n 626.7783251231527,\n 641.5024630541872,\n 647.5862068965517,\n 634.3891625615763,\n 617.8916256157636,\n 658.4532019704434,\n 598.8177339901478,\n 654.8620689655172,\n 663.6748768472906,\n 635.1083743842364,\n 634.1083743842364,\n 635.1083743842364,\n 614.6059113300493,\n 608.768472906404,\n 601.9507389162561,\n 640.4975369458128,\n 619.6847290640394,\n 635.128078817734,\n 636.4630541871921,\n 610.423645320197,\n 611.0147783251232,\n 607.3497536945813,\n 626.960591133005,\n 612.4778325123152,\n 634.3349753694581,\n 629.4630541871921,\n 607.448275862069,\n 633.5073891625616,\n 619.7044334975369,\n 608.1527093596059,\n 649.2857142857143,\n 601.4729064039409,\n 657.1428571428571,\n 604.0295566502463,\n 650.0197044334975,\n 611.2118226600985,\n 631.3645320197045,\n 619.3152709359606,\n 628.4581280788177,\n 622.0541871921182,\n 623.9064039408867,\n 650.5123152709359,\n 635.6453201970444,\n 655.231527093596,\n 601.0689655172414,\n 604.35960591133,\n 616.1773399014778,\n 641.1330049261084,\n 631.192118226601,\n 616.3004926108374,\n 650.9704433497537,\n 598.6305418719212,\n 605.5812807881773,\n 641.0591133004926,\n 654.1428571428571,\n 613.2019704433498,\n 610.2955665024631,\n 600.423645320197,\n 606.0443349753695,\n 641.7290640394089,\n 628.9507389162561,\n 619.1477832512315,\n 624.1477832512315,\n 624.6650246305419,\n 624.3743842364532,\n 631.0837438423646,\n 616.0098522167488,\n 626.4975369458128,\n 621.2413793103449,\n 610.1970443349753,\n 633.1724137931035,\n 605.4384236453202,\n 580.2364532019704,\n 641.8226600985222,\n 623.2364532019704,\n 620.768472906404,\n 640.039408866995,\n 627.6305418719212,\n 615.6108374384237,\n 633.4778325123152,\n 618.4285714285714,\n 629.9901477832512,\n 610.0689655172414,\n 589.1724137931035,\n 615.8669950738916,\n 582.4532019704434,\n 598.6108374384237,\n 609.5418719211823,\n 606.2807881773399,\n 653.6354679802955,\n 642.7733990147783,\n 643.2167487684729,\n 620.615763546798,\n 635.9556650246305,\n 656.4778325123152,\n 631.0147783251232,\n 615.0492610837439,\n 606.6896551724138,\n 606.4334975369458,\n 637.8423645320197,\n 627.0344827586207,\n 640.7635467980296,\n 611.7093596059113,\n 626.8177339901478,\n 617.5812807881773,\n 618.9211822660099,\n 601.4926108374384,\n 629.8817733990148,\n 636.2364532019704,\n 637.5615763546798,\n 616.9901477832512,\n 602.7044334975369,\n 634.5024630541872,\n 632.3694581280788,\n 652.4729064039409,\n 620.3990147783251,\n 647.3940886699507,\n 662.2266009852217,\n 612.679802955665,\n 614.8768472906404,\n 638.2955665024631,\n 663.3349753694581,\n 647.0985221674877,\n 613.4581280788177,\n 625.9507389162561,\n 639.1034482758621,\n 626.3694581280788,\n 620.3004926108374,\n 650.7931034482758,\n 645.9753694581281,\n 631.1773399014778,\n 656.8768472906404,\n 667.4827586206897,\n 652.807881773399,\n 664.6108374384237,\n 604.3546798029556,\n 639.679802955665,\n 639.2167487684729,\n 638.9211822660099,\n 628.0344827586207,\n 612.8817733990148,\n 634.8177339901478,\n 602.9950738916256,\n 631.256157635468,\n 605.3103448275862,\n 654.1133004926108,\n 659.039408866995,\n 595.2857142857143,\n 626.4827586206897,\n 628.9113300492611,\n 616.0098522167488,\n 653.039408866995,\n 612.4532019704434,\n 622.3251231527094,\n 627.0147783251232,\n 616.3891625615763,\n 622.5960591133005,\n 619.6502463054187,\n 617.0837438423646,\n 640.3645320197045,\n 644.5123152709359,\n 652.1330049261084,\n 654.3251231527094,\n 643.0738916256157,\n 653.7192118226601,\n 611.5320197044335,\n 575.9704433497537,\n 586.6206896551724,\n 630.4384236453202,\n 650.9901477832512,\n 606.320197044335,\n 631.9753694581281,\n 616.4827586206897,\n 620.4926108374384,\n 666.9162561576354,\n 623.2364532019704,\n 626.9211822660099,\n 639.6108374384237,\n 641.5812807881773,\n 666.9507389162561,\n 648.679802955665,\n 624.448275862069,\n 610.2463054187192,\n 638.5024630541872,\n 615.7142857142857,\n 633.615763546798,\n 645.6009852216749,\n 640.064039408867,\n 610.7487684729064,\n 632.768472906404,\n 661.0246305418719,\n 648.5221674876848,\n 611.5369458128079,\n 655.5714285714286,\n 621.2167487684729,\n 645.5862068965517,\n 640.0197044334975,\n 600.832512315271,\n 618.0985221674877,\n 624.2118226600985,\n 674.1724137931035,\n 627.5024630541872,\n 594.9556650246305,\n 674.0049261083744,\n 642.871921182266,\n 640.167487684729,\n 644.231527093596,\n 665.064039408867,\n 625.6896551724138,\n 625.423645320197,\n 644.2955665024631,\n 657.1034482758621,\n 660.8029556650247,\n 676.384236453202,\n 605.0935960591133,\n 623.1871921182266,\n 602.1330049261084,\n 631.8374384236453,\n 626.6108374384237,\n 629.039408866995,\n 614.8522167487685,\n 649.1034482758621,\n 626.0788177339901,\n 639.4926108374384,\n 608.4137931034483,\n 629.3152709359606,\n 640.9113300492611,\n 606.3300492610838,\n 615.4926108374384,\n 619.2413793103449,\n 624.4679802955665,\n 616.6453201970444,\n 616.9901477832512,\n 584.1034482758621,\n 614.6896551724138,\n 605.7142857142857,\n 614.6650246305419,\n 632.807881773399,\n 627.5960591133005,\n 615.1822660098522,\n 608.8226600985222,\n ...]"
     },
     "execution_count": 67,
     "metadata": {},
     "output_type": "execute_result"
    },
    {
     "data": {
      "text/plain": "[616.9852216748768,\n 611.9852216748768,\n 636.5123152709359,\n 632.1871921182266,\n 620.5714285714286]"
     },
     "execution_count": 68,
     "metadata": {},
     "output_type": "execute_result"
    }
   ],
   "source": [
    "lista_mse = []\n",
    "for _ in range(10000):\n",
    "    amostra_sucessos = poisson.rvs(mu=np.exp(emv_alfa + emv_beta * dados_poisson.Temperatura), size=dados_poisson.shape[0])\n",
    "    modelo_amostra = sm.GLM(amostra_sucessos, X, family=sm.families.Poisson()).fit()\n",
    "    residuos = dados_poisson.Sucessos - amostra_sucessos\n",
    "    mse = np.sum(residuos ** 2) / len(residuos)\n",
    "    lista_mse.append(mse)"
   ],
   "metadata": {
    "collapsed": false
   }
  },
  {
   "cell_type": "code",
   "execution_count": 69,
   "outputs": [
    {
     "data": {
      "text/plain": "         2.5%      97.5%\n0  556.691521  584.75294",
      "text/html": "<div>\n<style scoped>\n    .dataframe tbody tr th:only-of-type {\n        vertical-align: middle;\n    }\n\n    .dataframe tbody tr th {\n        vertical-align: top;\n    }\n\n    .dataframe thead th {\n        text-align: right;\n    }\n</style>\n<table border=\"1\" class=\"dataframe\">\n  <thead>\n    <tr style=\"text-align: right;\">\n      <th></th>\n      <th>2.5%</th>\n      <th>97.5%</th>\n    </tr>\n  </thead>\n  <tbody>\n    <tr>\n      <th>0</th>\n      <td>556.691521</td>\n      <td>584.75294</td>\n    </tr>\n  </tbody>\n</table>\n</div>"
     },
     "execution_count": 69,
     "metadata": {},
     "output_type": "execute_result"
    }
   ],
   "source": [
    "ic_mse = pd.DataFrame(np.percentile(lista_mse, q=[0.025, 0.975]))\n",
    "ic_mse = ic_mse.pivot_table(0, columns=ic_mse.index)\n",
    "ic_mse.columns = [\"2.5%\", \"97.5%\"]\n",
    "ic_mse"
   ],
   "metadata": {
    "collapsed": false
   }
  },
  {
   "cell_type": "markdown",
   "source": [
    "<font color='red'>**Resposta:**</font>"
   ],
   "metadata": {
    "collapsed": false
   }
  },
  {
   "cell_type": "markdown",
   "source": [
    "## Questão bônus\n"
   ],
   "metadata": {
    "collapsed": false
   }
  },
  {
   "cell_type": "markdown",
   "metadata": {},
   "source": [
    "Use o método de integração por Monte Carlo para estimar o volume de uma elipsoide definida por $$\\frac{x^{2}}{2} + \\frac{y^{2}}{3} + \\frac{z^{2}}{4} = 1.$$"
   ]
  },
  {
   "cell_type": "code",
   "execution_count": 14,
   "metadata": {},
   "outputs": [],
   "source": []
  },
  {
   "cell_type": "markdown",
   "source": [
    "<font color='red'>**Resposta:**</font>"
   ],
   "metadata": {
    "collapsed": false
   }
  },
  {
   "cell_type": "markdown",
   "metadata": {},
   "source": []
  }
 ],
 "metadata": {
  "colab": {
   "collapsed_sections": [],
   "provenance": []
  },
  "kernelspec": {
   "display_name": "Python 3 (ipykernel)",
   "language": "python",
   "name": "python3"
  },
  "language_info": {
   "codemirror_mode": {
    "name": "ipython",
    "version": 3
   },
   "file_extension": ".py",
   "mimetype": "text/x-python",
   "name": "python",
   "nbconvert_exporter": "python",
   "pygments_lexer": "ipython3",
   "version": "3.9.12"
  },
  "vscode": {
   "interpreter": {
    "hash": "963513b9a44aa752ac3676707be1140eb28a90c53b01ec9df701fa8763946c55"
   }
  }
 },
 "nbformat": 4,
 "nbformat_minor": 1
}
