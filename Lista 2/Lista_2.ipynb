{
 "cells": [
  {
   "cell_type": "markdown",
   "metadata": {
    "id": "Ie-5wE__VSHZ"
   },
   "source": [
    "***\n",
    "# <font color=green size=10>Lista 2: Inferência estatística via simulação</font>\n",
    "***\n",
    "\n",
    "Universidade de Brasília/PPCA\n",
    "\n",
    "Métodos Computacionais Intensivos para Mineração de Dados\n",
    "\n",
    "Prof. Guilherme Souza Rodrigues\n",
    "\n",
    "Aluno: Paulo Célio Soares da Silva Júnior - 22/0005605"
   ]
  },
  {
   "cell_type": "markdown",
   "metadata": {
    "id": "mzp5TnyLWHmj"
   },
   "source": [
    "**Importando bibliotecas.**"
   ]
  },
  {
   "cell_type": "code",
   "execution_count": 1,
   "metadata": {
    "id": "DAQf8dcKVSHe"
   },
   "outputs": [],
   "source": [
    "from scipy.stats import poisson\n",
    "from scipy.optimize import minimize\n",
    "\n",
    "import statsmodels.api as sm\n",
    "import statsmodels.formula.api as smf\n",
    "import matplotlib.pyplot as plt\n",
    "import numpy as np\n",
    "import pandas as pd\n",
    "import seaborn as sns"
   ]
  },
  {
   "cell_type": "markdown",
   "metadata": {},
   "source": [
    "**Definindo constantes globais.**"
   ]
  },
  {
   "cell_type": "code",
   "execution_count": 2,
   "metadata": {},
   "outputs": [],
   "source": [
    "# Valor da semente padrão\n",
    "SEED = 42"
   ]
  },
  {
   "cell_type": "markdown",
   "source": [
    "**Montando o dataset da lista.**"
   ],
   "metadata": {
    "collapsed": false
   }
  },
  {
   "cell_type": "code",
   "execution_count": 3,
   "outputs": [],
   "source": [
    "# Carrega os arquivos csv originais\n",
    "climbing_statistics = pd.read_csv(\"climbing_statistics.csv\")\n",
    "rainier_weather = pd.read_csv(\"Rainier_Weather.csv\")\n",
    "\n",
    "# Junta os arquivos, elimina linhas e colunas desnecessárias e renomeia colunas\n",
    "dados_completos = climbing_statistics.merge(rainier_weather, left_on=\"Date\", right_on=\"Date\", how=\"left\")\n",
    "dados_completos = dados_completos.drop([\"Success Percentage\", \"Battery Voltage AVG\"], axis=1)\n",
    "dados_completos = dados_completos.query(\"Attempted >= Succeeded\")\n",
    "dados_completos = dados_completos.rename(columns={\"Date\": \"Data\", \"Succeeded\": \"Sucessos\", \"Attempted\": \"Tentativas\",\n",
    "                              \"Temperature AVG\": \"Temperatura\", \"Relative Humidity AVG\": \"Umidade_relativa\",\n",
    "                              \"Wind Speed Daily AVG\": \"Velocidade_vento\", \"Wind Direction AVG\": \"Direc_vento\",\n",
    "                              \"Solare Radiation AVG\": \"Radiacao_solar\"})\n",
    "\n",
    "# Aplica as transformações nos dados\n",
    "dados_completos.Temperatura = (dados_completos.Temperatura - 32) * 5 / 9\n",
    "dados_completos[\"Cleaver\"] = dados_completos.Route == \"Disappointment Cleaver\"\n",
    "dados_completos.Data = pd.to_datetime(dados_completos.Data)\n",
    "\n",
    "# Reordena as colunas de acordo com o layout definido para a lista\n",
    "dados_completos = dados_completos.reindex(columns=[\"Data\", \"Sucessos\", \"Route\", \"Tentativas\", \"Temperatura\", \"Umidade_relativa\",\n",
    "                               \"Velocidade_vento\", \"Direc_vento\", \"Radiacao_solar\", \"Cleaver\"])"
   ],
   "metadata": {
    "collapsed": false
   }
  },
  {
   "cell_type": "markdown",
   "source": [
    "___\n",
    "\n",
    "## Contextualização"
   ],
   "metadata": {
    "collapsed": false
   }
  },
  {
   "cell_type": "markdown",
   "source": [
    "\"O Monte Rainier é um estratovulcão, e a montanha mais alta do estado norte-americano de Washington.(. . . ) Sua altitude é de 4392m e, em dias de tempo claro, seu pico permanentemente nevado pode ser facilmente avistado de Seattle e outras cidades da região.\" (*wikipédia*)\n",
    "\n",
    "Um conjunto de dados sobre tentativas de se escalar o Monte Rainier está disponível no site *Kaggle*, e pode ser obtido pelo link [https://www.kaggle.com/codersree/mount-rainier-weather-and-climbing-data/version/3](https://www.kaggle.com/codersree/mount-rainier-weather-and-climbing-data/version/3).\n",
    "\n",
    "Usaremos Modelos Lineares Generalizados para descrever como o número de montanhistas que alcançam o cume do monte em um dado dia (sucessos) varia em função da temperatura média do ar (em graus Celsius).\n",
    "\n",
    "A seguir apresentamos a estrutura do banco de dados."
   ],
   "metadata": {
    "collapsed": false
   }
  },
  {
   "cell_type": "code",
   "execution_count": 4,
   "outputs": [
    {
     "name": "stdout",
     "output_type": "stream",
     "text": [
      "<class 'pandas.core.frame.DataFrame'>\n",
      "Int64Index: 4067 entries, 0 to 4076\n",
      "Data columns (total 10 columns):\n",
      " #   Column            Non-Null Count  Dtype         \n",
      "---  ------            --------------  -----         \n",
      " 0   Data              4067 non-null   datetime64[ns]\n",
      " 1   Sucessos          4067 non-null   int64         \n",
      " 2   Route             4067 non-null   object        \n",
      " 3   Tentativas        4067 non-null   int64         \n",
      " 4   Temperatura       1889 non-null   float64       \n",
      " 5   Umidade_relativa  1889 non-null   float64       \n",
      " 6   Velocidade_vento  1889 non-null   float64       \n",
      " 7   Direc_vento       1889 non-null   float64       \n",
      " 8   Radiacao_solar    1889 non-null   float64       \n",
      " 9   Cleaver           4067 non-null   bool          \n",
      "dtypes: bool(1), datetime64[ns](1), float64(5), int64(2), object(1)\n",
      "memory usage: 321.7+ KB\n"
     ]
    }
   ],
   "source": [
    "dados_completos.info()"
   ],
   "metadata": {
    "collapsed": false
   }
  },
  {
   "cell_type": "markdown",
   "source": [
    "Considere o modelo $$Y_{ij} \\sim Poisson(\\lambda_{ij})\\\\ \\lambda_{ij} = exp(\\alpha + \\beta t_{i}),$$\n",
    "\n",
    "onde $Y_{ij}$ representa o número de montanhistas que atingiram o cume pela rota $j$ no dia $i$, $\\alpha$ e $\\beta$ são parâmetros desconhecidos do modelo e $t_{i}$ indica a temperatura média no dia $i$. Para uma determinada temperatura, o modelo prevê o mesmo valor para todas as rotas. Desconsidere os dados da rota *glacier only - no summit attempt*. Por fim, note que para obter o valor de $y_{ij}$ é preciso somar todos os sucessos registrados no dia $i$ para a rota $j$."
   ],
   "metadata": {
    "collapsed": false
   }
  },
  {
   "cell_type": "code",
   "execution_count": 5,
   "outputs": [],
   "source": [
    "dados = dados_completos.query(\"Route != 'glacier only - no summit attempt'\")"
   ],
   "metadata": {
    "collapsed": false
   }
  },
  {
   "cell_type": "markdown",
   "metadata": {},
   "source": [
    "## Questão 1)"
   ]
  },
  {
   "cell_type": "markdown",
   "metadata": {},
   "source": [
    "### a)\n",
    "\n",
    "___\n",
    "\n",
    "Conduza um teste de hipóteses por simulação para avaliar a hipótese nula de que a média do número de sucessos obtidos pela rota \"Disappointment Cleaver\" é igual a média das demais rotas (conjuntamente).\n"
   ]
  },
  {
   "cell_type": "markdown",
   "source": [
    "Separando os dois grupos (rota Disappointment Cleaver e demais rotas) e calculando suas médias e quantidades."
   ],
   "metadata": {
    "collapsed": false
   }
  },
  {
   "cell_type": "code",
   "execution_count": 6,
   "outputs": [
    {
     "name": "stdout",
     "output_type": "stream",
     "text": [
      "         Sucessos      \n",
      "             mean count\n",
      "Cleaver                \n",
      "False    2.082748  1281\n",
      "True     3.031618  2720\n",
      "\n",
      "Valor absoluto da diferença das médias: 0.9489\n"
     ]
    }
   ],
   "source": [
    "# Agrega os dados\n",
    "cleaver_agg = dados.groupby([\"Cleaver\"]).agg({\"Sucessos\": [\"mean\", \"count\"]})\n",
    "\n",
    "# Obtem médias, quantidades e diferença entre as médias\n",
    "media_sucessos_nao_cleaver = cleaver_agg.iloc[0][\"Sucessos\"][\"mean\"]\n",
    "media_sucessos_cleaver = cleaver_agg.iloc[1][\"Sucessos\"][\"mean\"]\n",
    "quant_cleaver = cleaver_agg.iloc[1][\"Sucessos\"][\"count\"]\n",
    "diferenca_medias_real = abs(media_sucessos_nao_cleaver - media_sucessos_cleaver)\n",
    "\n",
    "# Imprime os valores\n",
    "print(cleaver_agg, end=\"\\n\\n\")\n",
    "print(f\"Valor absoluto da diferença das médias: {diferenca_medias_real:0.4f}\")"
   ],
   "metadata": {
    "collapsed": false
   }
  },
  {
   "cell_type": "markdown",
   "source": [
    "Executando as simulações e obtendo as médias e diferenças a partir 10.000 amostras aleatórias."
   ],
   "metadata": {
    "collapsed": false
   }
  },
  {
   "cell_type": "code",
   "execution_count": 7,
   "outputs": [
    {
     "name": "stdout",
     "output_type": "stream",
     "text": [
      "Maior diferença das médias encontrada: 0.4245\n",
      "Diferença das médias real: 0.9489\n"
     ]
    }
   ],
   "source": [
    "# Roda simulação com 10.000 amostras embaralhadas aleatoriamente\n",
    "diferencas_medias_amostras = []\n",
    "for i in range(10000):\n",
    "    lista_sucessos = dados.Sucessos.sample(dados.shape[0])\n",
    "    media_cleaver = np.mean(lista_sucessos[:int(quant_cleaver)])\n",
    "    media_nao_cleaver = np.mean(lista_sucessos[int(quant_cleaver):])\n",
    "    diferencas_medias_amostras.append(abs(media_cleaver - media_nao_cleaver))\n",
    "\n",
    "# Imprime os valores\n",
    "print(f\"Maior diferença das médias encontrada: {max(diferencas_medias_amostras):0.4f}\")\n",
    "print(f\"Diferença das médias real: {diferenca_medias_real:0.4f}\")"
   ],
   "metadata": {
    "collapsed": false
   }
  },
  {
   "cell_type": "markdown",
   "source": [
    "Exibindo o histograma das diferenças de médias encontradas na simulação."
   ],
   "metadata": {
    "collapsed": false
   }
  },
  {
   "cell_type": "code",
   "execution_count": 8,
   "outputs": [
    {
     "data": {
      "text/plain": "<AxesSubplot:ylabel='Density'>"
     },
     "execution_count": 8,
     "metadata": {},
     "output_type": "execute_result"
    },
    {
     "data": {
      "text/plain": "<Figure size 1008x576 with 1 Axes>",
      "image/png": "[encoded data removed]"
     },
     "metadata": {},
     "output_type": "display_data"
    }
   ],
   "source": [
    "ax = sns.histplot(diferencas_medias_amostras, kde=True, stat=\"density\", bins=25)\n",
    "ax.figure.set_size_inches(14, 8)\n",
    "ax.vlines(x=diferenca_medias_real, ymin=0, ymax=7, colors='red', linestyles='dashed')\n",
    "ax"
   ],
   "metadata": {
    "collapsed": false
   }
  },
  {
   "cell_type": "markdown",
   "source": [
    "<font color='red'>**Resposta:**</font>\n",
    "\n",
    "A partir do resultado do teste de hipótese por simulação, analisando-se as diferenças absolutas das médias dos dados sintéticos em relação à observada, conclui-se que a hipótese nula ($H_{0}$) de que a média do número de sucessos obtidos pela rota \"Disappointment Cleaver\" é igual à média das demais rotas (conjuntamente) pode ser descartada."
   ],
   "metadata": {
    "collapsed": false
   }
  },
  {
   "cell_type": "markdown",
   "source": [
    "### b)\n",
    "\n",
    "___\n",
    "\n",
    "Obtenha o estimador de máxima verossimilhança de $\\alpha$ e $\\beta$ considerando o modelo proposto. Dica: Use a função $\\textsf{optim}$ do $\\textbf{\\textsf{R}}$ para achar o ponto que maximiza a log-verossimilhança."
   ],
   "metadata": {
    "collapsed": false
   }
  },
  {
   "cell_type": "markdown",
   "source": [
    "Preparando os dados para utilização na função."
   ],
   "metadata": {
    "collapsed": false
   }
  },
  {
   "cell_type": "code",
   "execution_count": 27,
   "outputs": [],
   "source": [
    "# dados_poisson = dados.groupby([\"Data\", \"Temperatura\"]).Sucessos.sum()\n",
    "dados_poisson = dados.query(\"Temperatura.isnull() != True\")\n",
    "dados_poisson = pd.DataFrame(dados_poisson)\n",
    "dados_poisson.reset_index(inplace=True)"
   ],
   "metadata": {
    "collapsed": false
   }
  },
  {
   "cell_type": "markdown",
   "source": [
    "Definindo e minimizando a função negativa de log-verossimilhança (na prática é a mesma coisa de maximizar a função positiva)."
   ],
   "metadata": {
    "collapsed": false
   }
  },
  {
   "cell_type": "code",
   "execution_count": 30,
   "outputs": [
    {
     "name": "stdout",
     "output_type": "stream",
     "text": [
      "α: 0.8345\n",
      "ß: 0.0236\n",
      "Lamba: 3.2813096042654366\n"
     ]
    }
   ],
   "source": [
    "def menos_log_verossimilhanca(parametros):\n",
    "    alfa, beta = parametros\n",
    "\n",
    "    lambda_previsto = np.exp(alfa + beta * dados_poisson.Temperatura)\n",
    "    log_verossimilhanca = np.sum(poisson.logpmf(dados_poisson.Sucessos, lambda_previsto))\n",
    "\n",
    "    return -1 * log_verossimilhanca\n",
    "\n",
    "# Minimiza a função negativa de log verossimilhanca\n",
    "emv = minimize(menos_log_verossimilhanca, np.array([0, 0]))\n",
    "\n",
    "# Obtem e imprime os valores de alfa e beta\n",
    "emv_alfa = emv.x[0]\n",
    "emv_beta = emv.x[1]\n",
    "print(f\"α: {emv_alfa:0.4f}\")\n",
    "print(f\"ß: {emv_beta:0.4f}\")\n",
    "print(f\"Lamba: {np.exp(emv_alfa + emv_beta * 15)}\")"
   ],
   "metadata": {
    "collapsed": false
   }
  },
  {
   "cell_type": "markdown",
   "source": [
    "Comparando o resultado da maximização da função de log-verossimilhança com os valores de alfa e beta gerados pela biblioteca *statsmodels*."
   ],
   "metadata": {
    "collapsed": false
   }
  },
  {
   "cell_type": "code",
   "execution_count": 32,
   "outputs": [
    {
     "name": "stdout",
     "output_type": "stream",
     "text": [
      "Optimization terminated successfully.\n",
      "         Current function value: 3.017568\n",
      "         Iterations 4\n",
      "α: 0.8345\n",
      "ß: 0.0236\n"
     ]
    }
   ],
   "source": [
    "modelo_poisson = smf.poisson(formula=\"Sucessos ~ Temperatura\", data=dados_poisson)\n",
    "modelo_poisson_ajustado = modelo_poisson.fit()\n",
    "\n",
    "print(f\"α: {modelo_poisson_ajustado.params[0]:0.4f}\")\n",
    "print(f\"ß: {modelo_poisson_ajustado.params[1]:0.4f}\")"
   ],
   "metadata": {
    "collapsed": false
   }
  },
  {
   "cell_type": "markdown",
   "source": [
    "<font color='red'>**Resposta:**</font>\n",
    "\n",
    "Considerando-se o modelo proposto, o estimador de máxima verossimilhança para $\\alpha$ é 2,7431 e $\\beta$ é 0,1122."
   ],
   "metadata": {
    "collapsed": false
   }
  },
  {
   "cell_type": "markdown",
   "metadata": {},
   "source": [
    "### c)\n",
    "\n",
    "___\n",
    "\n",
    "Estime a distribuição de probabilidade do número de sucessos previstos para um dia em que a temperatura seja de 15 graus."
   ]
  },
  {
   "cell_type": "markdown",
   "source": [
    "<font color='red'>**Resposta:**</font>\n",
    "\n",
    "Considerando o valor de $\\lambda \\cong 83$ para um dia em que a temperatura seja de $15ºC$, o gráfico abaixo ilustra a distribuição de probabilidade do número de sucessos previstos."
   ],
   "metadata": {
    "collapsed": false
   }
  },
  {
   "cell_type": "code",
   "execution_count": 33,
   "outputs": [],
   "source": [
    "amostra = poisson.rvs(mu=np.exp(emv_alfa + emv_beta * 15), size=10000, random_state=SEED)"
   ],
   "metadata": {
    "collapsed": false
   }
  },
  {
   "cell_type": "code",
   "execution_count": 38,
   "outputs": [
    {
     "data": {
      "text/plain": "0      3.68\n1     12.36\n2     20.40\n3     22.13\n4     18.25\n5     11.99\n6      6.40\n7      3.02\n8      1.20\n9      0.39\n10     0.15\n11     0.02\n12     0.01\nName: Sucessos_previstos, dtype: float64"
     },
     "execution_count": 38,
     "metadata": {},
     "output_type": "execute_result"
    }
   ],
   "source": [
    "amostra = pd.Series(amostra, name=\"Sucessos_previstos\")\n",
    "(amostra.value_counts(normalize=True)*100).sort_index()"
   ],
   "metadata": {
    "collapsed": false
   }
  },
  {
   "cell_type": "code",
   "execution_count": 12,
   "outputs": [
    {
     "data": {
      "text/plain": "<AxesSubplot:ylabel='Probability'>"
     },
     "execution_count": 12,
     "metadata": {},
     "output_type": "execute_result"
    },
    {
     "data": {
      "text/plain": "<Figure size 1008x576 with 1 Axes>",
      "image/png": "[encoded data removed]"
     },
     "metadata": {},
     "output_type": "display_data"
    }
   ],
   "source": [
    "ax = sns.histplot(amostra, kde=True, stat=\"probability\")\n",
    "ax.figure.set_size_inches(14, 8)\n",
    "ax"
   ],
   "metadata": {
    "collapsed": false
   }
  },
  {
   "cell_type": "markdown",
   "metadata": {},
   "source": [
    "### d)\n",
    "\n",
    "___\n",
    "\n",
    "Construa um intervalo de confiança de $95\\%$ para $exp(\\beta)$ a partir do método de bootstrap paramétrico. Interprete o resultado considerando o contexto dos dados. Dica: calcule o aumento percentual da média esperada quando a temperatura aumenta em $1$ grau Celsius."
   ]
  },
  {
   "cell_type": "markdown",
   "source": [
    "Executando o bootstrap paramétrico para o modelo proposto ()"
   ],
   "metadata": {
    "collapsed": false
   }
  },
  {
   "cell_type": "code",
   "execution_count": 13,
   "metadata": {},
   "outputs": [],
   "source": [
    "lista_exp_beta = []\n",
    "\n",
    "X = sm.add_constant(dados_poisson.Temperatura)\n",
    "for _ in range(10000):\n",
    "    amostra_sucessos = poisson.rvs(mu=np.exp(emv_alfa + emv_beta * dados_poisson.Temperatura), size=dados_poisson.shape[0])\n",
    "    modelo_amostra = sm.GLM(amostra_sucessos, X, family=sm.families.Poisson()).fit()\n",
    "\n",
    "    lista_exp_beta.append(np.exp(modelo_amostra.params[1]))"
   ]
  },
  {
   "cell_type": "code",
   "execution_count": 14,
   "outputs": [
    {
     "data": {
      "text/plain": "       2.5%     97.5%\n0  1.108398  1.111501",
      "text/html": "<div>\n<style scoped>\n    .dataframe tbody tr th:only-of-type {\n        vertical-align: middle;\n    }\n\n    .dataframe tbody tr th {\n        vertical-align: top;\n    }\n\n    .dataframe thead th {\n        text-align: right;\n    }\n</style>\n<table border=\"1\" class=\"dataframe\">\n  <thead>\n    <tr style=\"text-align: right;\">\n      <th></th>\n      <th>2.5%</th>\n      <th>97.5%</th>\n    </tr>\n  </thead>\n  <tbody>\n    <tr>\n      <th>0</th>\n      <td>1.108398</td>\n      <td>1.111501</td>\n    </tr>\n  </tbody>\n</table>\n</div>"
     },
     "execution_count": 14,
     "metadata": {},
     "output_type": "execute_result"
    }
   ],
   "source": [
    "ic_exp_beta = pd.DataFrame(np.percentile(lista_exp_beta, q=[0.025, 0.975]))\n",
    "ic_exp_beta = ic_exp_beta.pivot_table(0, columns=ic_exp_beta.index)\n",
    "ic_exp_beta.columns = [\"2.5%\", \"97.5%\"]\n",
    "ic_exp_beta"
   ],
   "metadata": {
    "collapsed": false
   }
  },
  {
   "cell_type": "code",
   "execution_count": 15,
   "outputs": [
    {
     "name": "stdout",
     "output_type": "stream",
     "text": [
      "exp(ß): 1.118696\n",
      "Taxa de crescimento: 1.118696\n"
     ]
    }
   ],
   "source": [
    "print(f\"exp(ß): {np.exp(emv_beta):0.6f}\")\n",
    "\n",
    "lambda_previsto_t = np.exp(emv_alfa + emv_beta * dados_poisson.Temperatura.iloc[0])\n",
    "lambda_previsto_t_mais_1 = np.exp(emv_alfa + emv_beta * (dados_poisson.Temperatura.iloc[0] + 1))\n",
    "print(f\"Taxa de crescimento: {lambda_previsto_t_mais_1 / lambda_previsto_t:0.6f}\")"
   ],
   "metadata": {
    "collapsed": false
   }
  },
  {
   "cell_type": "markdown",
   "source": [
    "<font color='red'>**Resposta:**</font>"
   ],
   "metadata": {
    "collapsed": false
   }
  },
  {
   "cell_type": "markdown",
   "metadata": {},
   "source": [
    "### e)\n",
    "\n",
    "___\n",
    "\n",
    "Faça um diagnóstico do modelo via simulação. Para tanto, gere dados sintéticos usando o modelo obtido no item $\\textsf{b)}$, ajuste um novo modelo sobre os dados sintéticos e calcule o Erro quadrático médio (MSE). Repita esse procedimento 10000 vezes e compare os MSEs gerados com aquele do modelo obtido em $\\textsf{b)}$. Comente os resultados."
   ]
  },
  {
   "cell_type": "code",
   "execution_count": 16,
   "outputs": [
    {
     "name": "stdout",
     "output_type": "stream",
     "text": [
      "603.5770976515278\n"
     ]
    }
   ],
   "source": [
    "dados_poisson[\"Sucessos_previstos\"] = np.exp(emv_alfa + emv_beta * dados_poisson.Temperatura)\n",
    "dados_poisson[\"Residuos\"] = dados_poisson.Sucessos - dados_poisson.Sucessos_previstos\n",
    "mse = (dados_poisson.Residuos ** 2).sum() / dados_poisson.shape[0]\n",
    "\n",
    "print(mse)"
   ],
   "metadata": {
    "collapsed": false
   }
  },
  {
   "cell_type": "code",
   "execution_count": 17,
   "outputs": [],
   "source": [
    "lista_mse = []\n",
    "for _ in range(10000):\n",
    "    amostra_sucessos = poisson.rvs(mu=np.exp(emv_alfa + emv_beta * dados_poisson.Temperatura), size=dados_poisson.shape[0])\n",
    "    modelo_amostra = sm.GLM(amostra_sucessos, X, family=sm.families.Poisson()).fit()\n",
    "    residuos = dados_poisson.Sucessos - amostra_sucessos\n",
    "    mse = np.sum(residuos ** 2) / len(residuos)\n",
    "    lista_mse.append(mse)"
   ],
   "metadata": {
    "collapsed": false
   }
  },
  {
   "cell_type": "code",
   "execution_count": 18,
   "outputs": [
    {
     "data": {
      "text/plain": "         2.5%       97.5%\n0  565.775287  585.495616",
      "text/html": "<div>\n<style scoped>\n    .dataframe tbody tr th:only-of-type {\n        vertical-align: middle;\n    }\n\n    .dataframe tbody tr th {\n        vertical-align: top;\n    }\n\n    .dataframe thead th {\n        text-align: right;\n    }\n</style>\n<table border=\"1\" class=\"dataframe\">\n  <thead>\n    <tr style=\"text-align: right;\">\n      <th></th>\n      <th>2.5%</th>\n      <th>97.5%</th>\n    </tr>\n  </thead>\n  <tbody>\n    <tr>\n      <th>0</th>\n      <td>565.775287</td>\n      <td>585.495616</td>\n    </tr>\n  </tbody>\n</table>\n</div>"
     },
     "execution_count": 18,
     "metadata": {},
     "output_type": "execute_result"
    }
   ],
   "source": [
    "ic_mse = pd.DataFrame(np.percentile(lista_mse, q=[0.025, 0.975]))\n",
    "ic_mse = ic_mse.pivot_table(0, columns=ic_mse.index)\n",
    "ic_mse.columns = [\"2.5%\", \"97.5%\"]\n",
    "ic_mse"
   ],
   "metadata": {
    "collapsed": false
   }
  },
  {
   "cell_type": "markdown",
   "source": [
    "<font color='red'>**Resposta:**</font>"
   ],
   "metadata": {
    "collapsed": false
   }
  },
  {
   "cell_type": "markdown",
   "source": [
    "## Questão bônus\n"
   ],
   "metadata": {
    "collapsed": false
   }
  },
  {
   "cell_type": "markdown",
   "metadata": {},
   "source": [
    "Use o método de integração por Monte Carlo para estimar o volume de uma elipsoide definida por $$\\frac{x^{2}}{2} + \\frac{y^{2}}{3} + \\frac{z^{2}}{4} = 1.$$"
   ]
  },
  {
   "cell_type": "code",
   "execution_count": 19,
   "metadata": {},
   "outputs": [
    {
     "name": "stdout",
     "output_type": "stream",
     "text": [
      "Volume estimado: 100.60224000000001\n",
      "Volume analítico: 100.53096491487338\n"
     ]
    }
   ],
   "source": [
    "# Ajusta o tamanho da amostra\n",
    "tam_amostra = 100000\n",
    "\n",
    "# Define os denominadores na equação que dão a forma da elipsoide\n",
    "a = 2\n",
    "b = 3\n",
    "c = 4\n",
    "\n",
    "# Define as coordenadas aleatórias\n",
    "np.random.seed(SEED)\n",
    "x = np.random.uniform(-a, a, tam_amostra)\n",
    "y = np.random.uniform(-b, b, tam_amostra)\n",
    "z = np.random.uniform(-c, c, tam_amostra)\n",
    "\n",
    "# Calcula as distâncias das coordenadas segundo a fórmula\n",
    "distancia = (x / a) ** 2 + (y / b) ** 2 + (z / c) ** 2\n",
    "\n",
    "# Cria o dataframe com os dados da elipsoide\n",
    "dados_elipsoide = pd.DataFrame(np.stack((x, y, z, distancia), axis=-1))\n",
    "dados_elipsoide.columns = [\"x\", \"y\", \"z\", \"distancia\"]\n",
    "dados_elipsoide[\"dentro\"] = dados_elipsoide.distancia.apply(lambda distancia: 1 if distancia < 1 else 0)\n",
    "\n",
    "# Calcula o volume da elipsoide\n",
    "volume_cubo = 8. * a * b * c\n",
    "dentro = dados_elipsoide.query(\"dentro == 1\").dentro.count()\n",
    "proporcao = dentro / tam_amostra\n",
    "volume = volume_cubo * proporcao\n",
    "\n",
    "# Imprime o volume estimado pela simulação e o analítico\n",
    "print(\"Volume estimado:\", volume)\n",
    "print(\"Volume analítico:\", (4/3) * np.pi * a * b * c)"
   ]
  },
  {
   "cell_type": "code",
   "execution_count": 20,
   "outputs": [
    {
     "data": {
      "text/plain": "<Figure size 1008x576 with 1 Axes>",
      "image/png": "[encoded data removed]"
     },
     "metadata": {},
     "output_type": "display_data"
    }
   ],
   "source": [
    "fig = plt.figure()\n",
    "ax = fig.add_subplot(111, projection='3d')\n",
    "fig.set_size_inches(14, 8)\n",
    "dados_scatter = dados_elipsoide.query(\"dentro == 1\")\n",
    "ax.scatter(dados_scatter.x, dados_scatter.y, dados_scatter.z)\n",
    "plt.show()"
   ],
   "metadata": {
    "collapsed": false
   }
  },
  {
   "cell_type": "markdown",
   "source": [
    "<font color='red'>**Resposta:**</font>"
   ],
   "metadata": {
    "collapsed": false
   }
  },
  {
   "cell_type": "markdown",
   "metadata": {},
   "source": []
  }
 ],
 "metadata": {
  "colab": {
   "collapsed_sections": [],
   "provenance": []
  },
  "kernelspec": {
   "display_name": "Python 3 (ipykernel)",
   "language": "python",
   "name": "python3"
  },
  "language_info": {
   "codemirror_mode": {
    "name": "ipython",
    "version": 3
   },
   "file_extension": ".py",
   "mimetype": "text/x-python",
   "name": "python",
   "nbconvert_exporter": "python",
   "pygments_lexer": "ipython3",
   "version": "3.9.12"
  },
  "vscode": {
   "interpreter": {
    "hash": "963513b9a44aa752ac3676707be1140eb28a90c53b01ec9df701fa8763946c55"
   }
  }
 },
 "nbformat": 4,
 "nbformat_minor": 1
}
